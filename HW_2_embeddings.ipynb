{
 "cells": [
  {
   "cell_type": "markdown",
   "metadata": {
    "id": "Ot3c4fjZwC4T"
   },
   "source": [
    "<img src=\"https://s8.hostingkartinok.com/uploads/images/2018/08/308b49fcfbc619d629fe4604bceb67ac.jpg\" width=500, height=450>\n",
    "<h3 style=\"text-align: center;\"><b>Физтех-Школа Прикладной математики и информатики (ФПМИ) МФТИ</b></h3>"
   ]
  },
  {
   "cell_type": "markdown",
   "metadata": {
    "id": "P2JdzEXmwRU5"
   },
   "source": [
    "---"
   ]
  },
  {
   "cell_type": "markdown",
   "metadata": {
    "id": "eYtJxkhKpYK2"
   },
   "source": [
    "# Embeddings\n",
    "\n",
    "Привет! В этом домашнем задании мы с помощью эмбеддингов решим задачу семантической классификации твитов.\n",
    "\n",
    "Для этого мы воспользуемся предобученными эмбеддингами word2vec."
   ]
  },
  {
   "cell_type": "markdown",
   "metadata": {
    "id": "jBOdoFS8AdpP"
   },
   "source": [
    "Для начала скачаем датасет для семантической классификации твитов:"
   ]
  },
  {
   "cell_type": "code",
   "execution_count": 1,
   "metadata": {
    "id": "wXjhtsfF_gBK"
   },
   "outputs": [],
   "source": [
    "# !gdown https://drive.google.com/uc?id=1eE1FiUkXkcbw0McId4i7qY-L8hH-_Qph&export=download\n",
    "# !unzip archive.zip"
   ]
  },
  {
   "cell_type": "markdown",
   "metadata": {
    "id": "Sh6wW-K53Mle"
   },
   "source": [
    "Импортируем нужные библиотеки:"
   ]
  },
  {
   "cell_type": "code",
   "execution_count": 2,
   "metadata": {
    "id": "A2Y5CHRm6NFe"
   },
   "outputs": [],
   "source": [
    "import math\n",
    "import random\n",
    "import string\n",
    "\n",
    "import numpy as np\n",
    "import pandas as pd\n",
    "import seaborn as sns\n",
    "\n",
    "import torch\n",
    "import nltk\n",
    "import gensim\n",
    "import gensim.downloader as api"
   ]
  },
  {
   "cell_type": "code",
   "execution_count": 3,
   "metadata": {
    "id": "73Lb0wbESrgQ"
   },
   "outputs": [],
   "source": [
    "random.seed(42)\n",
    "np.random.seed(42)\n",
    "torch.random.manual_seed(42)\n",
    "torch.cuda.random.manual_seed(42)\n",
    "torch.cuda.random.manual_seed_all(42)\n",
    "\n",
    "device = \"cuda:0\" if torch.cuda.is_available() else \"cpu\""
   ]
  },
  {
   "cell_type": "code",
   "execution_count": 4,
   "metadata": {
    "id": "L_Wv-4bu83Fl"
   },
   "outputs": [],
   "source": [
    "data = pd.read_csv(\"training.1600000.processed.noemoticon.csv\", encoding=\"latin\", header=None, names=[\"emotion\", \"id\", \"date\", \"flag\", \"user\", \"text\"])"
   ]
  },
  {
   "cell_type": "markdown",
   "metadata": {
    "id": "RY1pvYDS3Yuj"
   },
   "source": [
    "Посмотрим на данные:"
   ]
  },
  {
   "cell_type": "code",
   "execution_count": 5,
   "metadata": {
    "id": "jST2tjgjCTWD"
   },
   "outputs": [
    {
     "data": {
      "text/html": [
       "<div>\n",
       "<style scoped>\n",
       "    .dataframe tbody tr th:only-of-type {\n",
       "        vertical-align: middle;\n",
       "    }\n",
       "\n",
       "    .dataframe tbody tr th {\n",
       "        vertical-align: top;\n",
       "    }\n",
       "\n",
       "    .dataframe thead th {\n",
       "        text-align: right;\n",
       "    }\n",
       "</style>\n",
       "<table border=\"1\" class=\"dataframe\">\n",
       "  <thead>\n",
       "    <tr style=\"text-align: right;\">\n",
       "      <th></th>\n",
       "      <th>emotion</th>\n",
       "      <th>id</th>\n",
       "      <th>date</th>\n",
       "      <th>flag</th>\n",
       "      <th>user</th>\n",
       "      <th>text</th>\n",
       "    </tr>\n",
       "  </thead>\n",
       "  <tbody>\n",
       "    <tr>\n",
       "      <th>0</th>\n",
       "      <td>0</td>\n",
       "      <td>1467810369</td>\n",
       "      <td>Mon Apr 06 22:19:45 PDT 2009</td>\n",
       "      <td>NO_QUERY</td>\n",
       "      <td>_TheSpecialOne_</td>\n",
       "      <td>@switchfoot http://twitpic.com/2y1zl - Awww, t...</td>\n",
       "    </tr>\n",
       "    <tr>\n",
       "      <th>1</th>\n",
       "      <td>0</td>\n",
       "      <td>1467810672</td>\n",
       "      <td>Mon Apr 06 22:19:49 PDT 2009</td>\n",
       "      <td>NO_QUERY</td>\n",
       "      <td>scotthamilton</td>\n",
       "      <td>is upset that he can't update his Facebook by ...</td>\n",
       "    </tr>\n",
       "    <tr>\n",
       "      <th>2</th>\n",
       "      <td>0</td>\n",
       "      <td>1467810917</td>\n",
       "      <td>Mon Apr 06 22:19:53 PDT 2009</td>\n",
       "      <td>NO_QUERY</td>\n",
       "      <td>mattycus</td>\n",
       "      <td>@Kenichan I dived many times for the ball. Man...</td>\n",
       "    </tr>\n",
       "    <tr>\n",
       "      <th>3</th>\n",
       "      <td>0</td>\n",
       "      <td>1467811184</td>\n",
       "      <td>Mon Apr 06 22:19:57 PDT 2009</td>\n",
       "      <td>NO_QUERY</td>\n",
       "      <td>ElleCTF</td>\n",
       "      <td>my whole body feels itchy and like its on fire</td>\n",
       "    </tr>\n",
       "    <tr>\n",
       "      <th>4</th>\n",
       "      <td>0</td>\n",
       "      <td>1467811193</td>\n",
       "      <td>Mon Apr 06 22:19:57 PDT 2009</td>\n",
       "      <td>NO_QUERY</td>\n",
       "      <td>Karoli</td>\n",
       "      <td>@nationwideclass no, it's not behaving at all....</td>\n",
       "    </tr>\n",
       "  </tbody>\n",
       "</table>\n",
       "</div>"
      ],
      "text/plain": [
       "   emotion          id                          date      flag  \\\n",
       "0        0  1467810369  Mon Apr 06 22:19:45 PDT 2009  NO_QUERY   \n",
       "1        0  1467810672  Mon Apr 06 22:19:49 PDT 2009  NO_QUERY   \n",
       "2        0  1467810917  Mon Apr 06 22:19:53 PDT 2009  NO_QUERY   \n",
       "3        0  1467811184  Mon Apr 06 22:19:57 PDT 2009  NO_QUERY   \n",
       "4        0  1467811193  Mon Apr 06 22:19:57 PDT 2009  NO_QUERY   \n",
       "\n",
       "              user                                               text  \n",
       "0  _TheSpecialOne_  @switchfoot http://twitpic.com/2y1zl - Awww, t...  \n",
       "1    scotthamilton  is upset that he can't update his Facebook by ...  \n",
       "2         mattycus  @Kenichan I dived many times for the ball. Man...  \n",
       "3          ElleCTF    my whole body feels itchy and like its on fire   \n",
       "4           Karoli  @nationwideclass no, it's not behaving at all....  "
      ]
     },
     "execution_count": 5,
     "metadata": {},
     "output_type": "execute_result"
    }
   ],
   "source": [
    "data.head()"
   ]
  },
  {
   "cell_type": "code",
   "execution_count": 6,
   "metadata": {},
   "outputs": [
    {
     "data": {
      "text/plain": [
       "(2, 1, 659775)"
      ]
     },
     "execution_count": 6,
     "metadata": {},
     "output_type": "execute_result"
    }
   ],
   "source": [
    "data.emotion.nunique(), data.flag.nunique(), data.user.nunique()"
   ]
  },
  {
   "cell_type": "markdown",
   "metadata": {
    "id": "OhbR5JJyA2VW"
   },
   "source": [
    "Выведем несколько примеров твитов, чтобы понимать, с чем мы имеем дело:"
   ]
  },
  {
   "cell_type": "code",
   "execution_count": 7,
   "metadata": {
    "id": "kCBwe0wR83C2"
   },
   "outputs": [
    {
     "name": "stdout",
     "output_type": "stream",
     "text": [
      "@chrishasboobs AHHH I HOPE YOUR OK!!! \n",
      "@misstoriblack cool , i have no tweet apps  for my razr 2\n",
      "@TiannaChaos i know  just family drama. its lame.hey next time u hang out with kim n u guys like have a sleepover or whatever, ill call u\n",
      "School email won't open  and I have geography stuff on there to revise! *Stupid School* :'(\n",
      "upper airways problem \n",
      "Going to miss Pastor's sermon on Faith... \n",
      "on lunch....dj should come eat with me \n",
      "@piginthepoke oh why are you feeling like that? \n",
      "gahh noo!peyton needs to live!this is horrible \n",
      "@mrstessyman thank you glad you like it! There is a product review bit on the site  Enjoy knitting it!\n"
     ]
    }
   ],
   "source": [
    "examples = data[\"text\"].sample(10)\n",
    "print(\"\\n\".join(examples))"
   ]
  },
  {
   "cell_type": "markdown",
   "metadata": {
    "id": "GvcYW8aX3mKt"
   },
   "source": [
    "Как вилим, тексты твитов очень \"грязные\". Нужно предобработать датасет, прежде чем строить для него модель классификации.\n",
    "\n",
    "Чтобы сравнивать различные методы обработки текста/модели/прочее, разделим датасет на dev(для обучения модели) и test(для получения качества модели)."
   ]
  },
  {
   "cell_type": "code",
   "execution_count": 8,
   "metadata": {
    "id": "f8hUK-jnQg6O"
   },
   "outputs": [],
   "source": [
    "indexes = np.arange(data.shape[0])\n",
    "np.random.shuffle(indexes)\n",
    "dev_size = math.ceil(data.shape[0] * 0.8)\n",
    "\n",
    "dev_indexes = indexes[:dev_size]\n",
    "test_indexes = indexes[dev_size:]\n",
    "\n",
    "dev_data = data.iloc[dev_indexes]\n",
    "test_data = data.iloc[test_indexes]\n",
    "\n",
    "dev_data.reset_index(drop=True, inplace=True)\n",
    "test_data.reset_index(drop=True, inplace=True)"
   ]
  },
  {
   "cell_type": "markdown",
   "metadata": {
    "id": "6ivcpeFoCnZA"
   },
   "source": [
    "## Обработка текста"
   ]
  },
  {
   "cell_type": "markdown",
   "metadata": {
    "id": "Df4nca285Dar"
   },
   "source": [
    "Токенизируем текст, избавимся от знаков пунктуации и выкинем все слова, состоящие менее чем из 4 букв:"
   ]
  },
  {
   "cell_type": "code",
   "execution_count": 9,
   "metadata": {
    "id": "nsNHNDES9ZVF"
   },
   "outputs": [
    {
     "name": "stdout",
     "output_type": "stream",
     "text": [
      "@\n",
      "claire_nelson\n",
      "i\n",
      "'\n",
      "m\n",
      "on\n",
      "the\n",
      "north\n",
      "devon\n",
      "coast\n",
      "the\n",
      "next\n",
      "few\n",
      "weeks\n",
      "will\n",
      "be\n",
      "down\n",
      "in\n",
      "devon\n",
      "again\n",
      "in\n",
      "may\n",
      "sometime\n",
      "i\n",
      "hope\n",
      "though\n",
      "!\n"
     ]
    }
   ],
   "source": [
    "tokenizer = nltk.WordPunctTokenizer()\n",
    "line = tokenizer.tokenize(dev_data[\"text\"][0].lower())\n",
    "print(\"\\n\".join(line))"
   ]
  },
  {
   "cell_type": "code",
   "execution_count": 10,
   "metadata": {
    "id": "GcBS_u_hTuxp"
   },
   "outputs": [
    {
     "name": "stdout",
     "output_type": "stream",
     "text": [
      "north devon coast next weeks will down devon again sometime hope though\n"
     ]
    }
   ],
   "source": [
    "filtered_line = [w for w in line if all(c not in string.punctuation for c in w) and len(w) > 3]\n",
    "print(\" \".join(filtered_line))"
   ]
  },
  {
   "cell_type": "markdown",
   "metadata": {
    "id": "cuFmlXkC6E7X"
   },
   "source": [
    "Загрузим предобученную модель эмбеддингов. \n",
    "\n",
    "Если хотите, можно попробовать другую. Полный список можно найти здесь: https://github.com/RaRe-Technologies/gensim-data.\n",
    "\n",
    "Данная модель выдает эмбеддинги для **слов**. Строить по эмбеддингам слов эмбеддинги предложений мы будем ниже."
   ]
  },
  {
   "cell_type": "code",
   "execution_count": 11,
   "metadata": {},
   "outputs": [],
   "source": [
    "import os \n",
    "from gensim.models import KeyedVectors\n",
    "from gensim.downloader import base_dir\n",
    "\n"
   ]
  },
  {
   "cell_type": "code",
   "execution_count": 12,
   "metadata": {},
   "outputs": [],
   "source": [
    "path = os.path.join(base_dir, 'glove-twitter-100', 'glove-twitter-100.gz')\n",
    "word2vec = KeyedVectors.load_word2vec_format(path) # api.load(\"fasttext-wiki-news-subwords-300\")"
   ]
  },
  {
   "cell_type": "code",
   "execution_count": 13,
   "metadata": {},
   "outputs": [
    {
     "data": {
      "text/plain": [
       "<gensim.models.keyedvectors.KeyedVectors at 0x7eff6d6a0f28>"
      ]
     },
     "execution_count": 13,
     "metadata": {},
     "output_type": "execute_result"
    }
   ],
   "source": [
    "word2vec"
   ]
  },
  {
   "cell_type": "code",
   "execution_count": 14,
   "metadata": {
    "id": "NafmYHrkT5YD"
   },
   "outputs": [
    {
     "name": "stdout",
     "output_type": "stream",
     "text": [
      "(100,)\n"
     ]
    }
   ],
   "source": [
    "emb_line = [word2vec.get_vector(w) for w in filtered_line if w in word2vec]\n",
    "print(sum(emb_line).shape)"
   ]
  },
  {
   "cell_type": "code",
   "execution_count": 15,
   "metadata": {},
   "outputs": [
    {
     "data": {
      "text/plain": [
       "100"
      ]
     },
     "execution_count": 15,
     "metadata": {},
     "output_type": "execute_result"
    }
   ],
   "source": [
    "len(emb_line[0])"
   ]
  },
  {
   "cell_type": "markdown",
   "metadata": {
    "id": "LTS6LCkd6_E7"
   },
   "source": [
    "Нормализуем эмбеддинги, прежде чем обучать на них сеть. \n",
    "(наверное, вы помните, что нейронные сети гораздо лучше обучаются на нормализованных данных)"
   ]
  },
  {
   "cell_type": "code",
   "execution_count": 16,
   "metadata": {
    "id": "3PyLTZ6xf3Oq"
   },
   "outputs": [
    {
     "name": "stdout",
     "output_type": "stream",
     "text": [
      "(100,)\n",
      "[False, False, False, False, False, False, False, False, False, False, False, False]\n"
     ]
    }
   ],
   "source": [
    "mean = np.mean(word2vec.vectors, 0)\n",
    "std = np.std(word2vec.vectors, 0)\n",
    "norm_emb_line = [(word2vec.get_vector(w) - mean) / std for w in filtered_line if w in word2vec and len(w) > 3]\n",
    "print(sum(norm_emb_line).shape)\n",
    "print([all(norm_emb_line[i] == emb_line[i]) for i in range(len(emb_line))])"
   ]
  },
  {
   "cell_type": "markdown",
   "metadata": {
    "id": "q7vm6Ppd7Ubw"
   },
   "source": [
    "Сделаем датасет, который будет по запросу возвращать подготовленные данные."
   ]
  },
  {
   "cell_type": "code",
   "execution_count": 367,
   "metadata": {
    "id": "b4eZajF7pZ1X"
   },
   "outputs": [],
   "source": [
    "from torch.utils.data import Dataset, random_split\n",
    "\n",
    "\n",
    "class TwitterDataset(Dataset):\n",
    "    \n",
    "    \n",
    "    def __init__(self, data: pd.DataFrame, feature_column: str, target_column: str, word2vec: gensim.models.Word2Vec):\n",
    "        self.tokenizer = nltk.WordPunctTokenizer()\n",
    "        \n",
    "        self.data = data\n",
    "\n",
    "        self.feature_column = feature_column\n",
    "        self.target_column = target_column\n",
    "\n",
    "        self.word2vec = word2vec\n",
    "\n",
    "        self.label2num = lambda label: 0 if label == 0 else 1\n",
    "        self.mean = np.mean(word2vec.vectors, axis=0)\n",
    "        self.std = np.std(word2vec.vectors, axis=0)\n",
    "\n",
    "        \n",
    "    def __getitem__(self, item):\n",
    "        text = self.data[self.feature_column][item]\n",
    "        label = self.label2num(self.data[self.target_column][item])\n",
    "\n",
    "        tokens = self.get_tokens_(text)\n",
    "        embeddings = self.get_embeddings_(tokens)\n",
    "\n",
    "        return {\"feature\": embeddings, \"target\": label}\n",
    "\n",
    "    \n",
    "    def get_tokens_(self, text):\n",
    "        # Получи все токены из текста и профильтруй их\n",
    "        tokenizer = nltk.WordPunctTokenizer()\n",
    "        tokens = tokenizer.tokenize(text.lower())\n",
    "        filtered_tokens = [w for w in tokens if all(c not in string.punctuation for c in w) and len(w) > 3]\n",
    "        \n",
    "        return filtered_tokens\n",
    "\n",
    "        \n",
    "    def get_embeddings_(self, tokens):\n",
    "        embeddings = [word2vec.get_vector(w) for w in tokens if w in word2vec] # Получи эмбеддинги слов и усредни их\n",
    "\n",
    "        if len(embeddings) == 0:\n",
    "            embeddings = np.zeros((1, self.word2vec.vector_size))\n",
    "        else:\n",
    "            embeddings = np.array(embeddings)\n",
    "            if len(embeddings.shape) == 1:\n",
    "                embeddings = embeddings.reshape(-1, 1)\n",
    "        return embeddings\n",
    "\n",
    "    def __len__(self):\n",
    "        return self.data.shape[0]"
   ]
  },
  {
   "cell_type": "code",
   "execution_count": 368,
   "metadata": {
    "id": "IZJpttbXpZyz"
   },
   "outputs": [],
   "source": [
    "dev = TwitterDataset(dev_data, \"text\", \"emotion\", word2vec)"
   ]
  },
  {
   "cell_type": "markdown",
   "metadata": {
    "id": "Sr-aetH0_LH1"
   },
   "source": [
    "Отлично, мы готовы с помощью эмбеддингов слов превращать твиты в векторы и обучать нейронную сеть.\n",
    "\n",
    "Превращать твиты в векторы, используя эмбеддинги слов, можно несколькими способами. А именно такими:"
   ]
  },
  {
   "cell_type": "markdown",
   "metadata": {
    "id": "4AhHrWa196Yc"
   },
   "source": [
    "## Average embedding (2 балла)\n",
    "---\n",
    "Это самый простой вариант, как получить вектор предложения, используя векторные представления слов в предложении. А именно: вектор предложения есть средний вектор всех слов в предлоежнии (которые остались после токенизации и удаления коротких слов, конечно). "
   ]
  },
  {
   "cell_type": "code",
   "execution_count": 369,
   "metadata": {
    "id": "ScdokSW-994t"
   },
   "outputs": [
    {
     "name": "stdout",
     "output_type": "stream",
     "text": [
      "1280\n"
     ]
    }
   ],
   "source": [
    "indexes = np.arange(len(dev))\n",
    "np.random.shuffle(indexes)\n",
    "example_indexes = indexes[::1000]\n",
    "\n",
    "examples = {\"features\": [np.sum(dev[i][\"feature\"], axis=0) for i in example_indexes], \n",
    "            \"targets\": [dev[i][\"target\"] for i in example_indexes]}\n",
    "print(len(examples[\"features\"]))"
   ]
  },
  {
   "cell_type": "markdown",
   "metadata": {
    "id": "1yGQ_lOx_1NL"
   },
   "source": [
    "Давайте сделаем визуализацию полученных векторов твитов тренировочного (dev) датасета. Так мы увидим, насколько хорошо твиты с разными target значениями отделяются друг от друга, т.е. насколько хорошо усреднение эмбеддингов слов предложения передает информацию о предложении."
   ]
  },
  {
   "cell_type": "markdown",
   "metadata": {
    "id": "LZwFksd_8uYO"
   },
   "source": [
    "Для визуализации векторов надо получить их проекцию на плоскость. Сделаем это с помощью `PCA`. Если хотите, можете вместо PCA использовать TSNE: так у вас получится более точная проекция на плоскость (а значит, более информативная, т.е. отражающая реальное положение векторов твитов в пространстве). Но TSNE будет работать намного дольше."
   ]
  },
  {
   "cell_type": "code",
   "execution_count": 370,
   "metadata": {
    "id": "aKFZRSHdtIac"
   },
   "outputs": [],
   "source": [
    "from sklearn.decomposition import PCA\n",
    "from sklearn.manifold import TSNE\n",
    "\n",
    "\n",
    "# pca = PCA(n_components=2)\n",
    "# examples[\"transformed_features\"] = pca.fit_transform(examples['features'])# Обучи PCA на эмбеддингах слов\n",
    "\n",
    "tsne = TSNE(n_components=2)\n",
    "examples[\"transformed_features\"] = tsne.fit_transform(examples['features'])"
   ]
  },
  {
   "cell_type": "code",
   "execution_count": 371,
   "metadata": {},
   "outputs": [],
   "source": [
    "# !pip install bokeh"
   ]
  },
  {
   "cell_type": "code",
   "execution_count": 372,
   "metadata": {
    "id": "szEOWdiNtIX8"
   },
   "outputs": [
    {
     "data": {
      "text/html": [
       "\n",
       "    <div class=\"bk-root\">\n",
       "        <a href=\"https://bokeh.org\" target=\"_blank\" class=\"bk-logo bk-logo-small bk-logo-notebook\"></a>\n",
       "        <span id=\"1804\">Loading BokehJS ...</span>\n",
       "    </div>"
      ]
     },
     "metadata": {},
     "output_type": "display_data"
    },
    {
     "data": {
      "application/javascript": [
       "\n",
       "(function(root) {\n",
       "  function now() {\n",
       "    return new Date();\n",
       "  }\n",
       "\n",
       "  var force = true;\n",
       "\n",
       "  if (typeof root._bokeh_onload_callbacks === \"undefined\" || force === true) {\n",
       "    root._bokeh_onload_callbacks = [];\n",
       "    root._bokeh_is_loading = undefined;\n",
       "  }\n",
       "\n",
       "  var JS_MIME_TYPE = 'application/javascript';\n",
       "  var HTML_MIME_TYPE = 'text/html';\n",
       "  var EXEC_MIME_TYPE = 'application/vnd.bokehjs_exec.v0+json';\n",
       "  var CLASS_NAME = 'output_bokeh rendered_html';\n",
       "\n",
       "  /**\n",
       "   * Render data to the DOM node\n",
       "   */\n",
       "  function render(props, node) {\n",
       "    var script = document.createElement(\"script\");\n",
       "    node.appendChild(script);\n",
       "  }\n",
       "\n",
       "  /**\n",
       "   * Handle when an output is cleared or removed\n",
       "   */\n",
       "  function handleClearOutput(event, handle) {\n",
       "    var cell = handle.cell;\n",
       "\n",
       "    var id = cell.output_area._bokeh_element_id;\n",
       "    var server_id = cell.output_area._bokeh_server_id;\n",
       "    // Clean up Bokeh references\n",
       "    if (id != null && id in Bokeh.index) {\n",
       "      Bokeh.index[id].model.document.clear();\n",
       "      delete Bokeh.index[id];\n",
       "    }\n",
       "\n",
       "    if (server_id !== undefined) {\n",
       "      // Clean up Bokeh references\n",
       "      var cmd = \"from bokeh.io.state import curstate; print(curstate().uuid_to_server['\" + server_id + \"'].get_sessions()[0].document.roots[0]._id)\";\n",
       "      cell.notebook.kernel.execute(cmd, {\n",
       "        iopub: {\n",
       "          output: function(msg) {\n",
       "            var id = msg.content.text.trim();\n",
       "            if (id in Bokeh.index) {\n",
       "              Bokeh.index[id].model.document.clear();\n",
       "              delete Bokeh.index[id];\n",
       "            }\n",
       "          }\n",
       "        }\n",
       "      });\n",
       "      // Destroy server and session\n",
       "      var cmd = \"import bokeh.io.notebook as ion; ion.destroy_server('\" + server_id + \"')\";\n",
       "      cell.notebook.kernel.execute(cmd);\n",
       "    }\n",
       "  }\n",
       "\n",
       "  /**\n",
       "   * Handle when a new output is added\n",
       "   */\n",
       "  function handleAddOutput(event, handle) {\n",
       "    var output_area = handle.output_area;\n",
       "    var output = handle.output;\n",
       "\n",
       "    // limit handleAddOutput to display_data with EXEC_MIME_TYPE content only\n",
       "    if ((output.output_type != \"display_data\") || (!Object.prototype.hasOwnProperty.call(output.data, EXEC_MIME_TYPE))) {\n",
       "      return\n",
       "    }\n",
       "\n",
       "    var toinsert = output_area.element.find(\".\" + CLASS_NAME.split(' ')[0]);\n",
       "\n",
       "    if (output.metadata[EXEC_MIME_TYPE][\"id\"] !== undefined) {\n",
       "      toinsert[toinsert.length - 1].firstChild.textContent = output.data[JS_MIME_TYPE];\n",
       "      // store reference to embed id on output_area\n",
       "      output_area._bokeh_element_id = output.metadata[EXEC_MIME_TYPE][\"id\"];\n",
       "    }\n",
       "    if (output.metadata[EXEC_MIME_TYPE][\"server_id\"] !== undefined) {\n",
       "      var bk_div = document.createElement(\"div\");\n",
       "      bk_div.innerHTML = output.data[HTML_MIME_TYPE];\n",
       "      var script_attrs = bk_div.children[0].attributes;\n",
       "      for (var i = 0; i < script_attrs.length; i++) {\n",
       "        toinsert[toinsert.length - 1].firstChild.setAttribute(script_attrs[i].name, script_attrs[i].value);\n",
       "        toinsert[toinsert.length - 1].firstChild.textContent = bk_div.children[0].textContent\n",
       "      }\n",
       "      // store reference to server id on output_area\n",
       "      output_area._bokeh_server_id = output.metadata[EXEC_MIME_TYPE][\"server_id\"];\n",
       "    }\n",
       "  }\n",
       "\n",
       "  function register_renderer(events, OutputArea) {\n",
       "\n",
       "    function append_mime(data, metadata, element) {\n",
       "      // create a DOM node to render to\n",
       "      var toinsert = this.create_output_subarea(\n",
       "        metadata,\n",
       "        CLASS_NAME,\n",
       "        EXEC_MIME_TYPE\n",
       "      );\n",
       "      this.keyboard_manager.register_events(toinsert);\n",
       "      // Render to node\n",
       "      var props = {data: data, metadata: metadata[EXEC_MIME_TYPE]};\n",
       "      render(props, toinsert[toinsert.length - 1]);\n",
       "      element.append(toinsert);\n",
       "      return toinsert\n",
       "    }\n",
       "\n",
       "    /* Handle when an output is cleared or removed */\n",
       "    events.on('clear_output.CodeCell', handleClearOutput);\n",
       "    events.on('delete.Cell', handleClearOutput);\n",
       "\n",
       "    /* Handle when a new output is added */\n",
       "    events.on('output_added.OutputArea', handleAddOutput);\n",
       "\n",
       "    /**\n",
       "     * Register the mime type and append_mime function with output_area\n",
       "     */\n",
       "    OutputArea.prototype.register_mime_type(EXEC_MIME_TYPE, append_mime, {\n",
       "      /* Is output safe? */\n",
       "      safe: true,\n",
       "      /* Index of renderer in `output_area.display_order` */\n",
       "      index: 0\n",
       "    });\n",
       "  }\n",
       "\n",
       "  // register the mime type if in Jupyter Notebook environment and previously unregistered\n",
       "  if (root.Jupyter !== undefined) {\n",
       "    var events = require('base/js/events');\n",
       "    var OutputArea = require('notebook/js/outputarea').OutputArea;\n",
       "\n",
       "    if (OutputArea.prototype.mime_types().indexOf(EXEC_MIME_TYPE) == -1) {\n",
       "      register_renderer(events, OutputArea);\n",
       "    }\n",
       "  }\n",
       "\n",
       "  \n",
       "  if (typeof (root._bokeh_timeout) === \"undefined\" || force === true) {\n",
       "    root._bokeh_timeout = Date.now() + 5000;\n",
       "    root._bokeh_failed_load = false;\n",
       "  }\n",
       "\n",
       "  var NB_LOAD_WARNING = {'data': {'text/html':\n",
       "     \"<div style='background-color: #fdd'>\\n\"+\n",
       "     \"<p>\\n\"+\n",
       "     \"BokehJS does not appear to have successfully loaded. If loading BokehJS from CDN, this \\n\"+\n",
       "     \"may be due to a slow or bad network connection. Possible fixes:\\n\"+\n",
       "     \"</p>\\n\"+\n",
       "     \"<ul>\\n\"+\n",
       "     \"<li>re-rerun `output_notebook()` to attempt to load from CDN again, or</li>\\n\"+\n",
       "     \"<li>use INLINE resources instead, as so:</li>\\n\"+\n",
       "     \"</ul>\\n\"+\n",
       "     \"<code>\\n\"+\n",
       "     \"from bokeh.resources import INLINE\\n\"+\n",
       "     \"output_notebook(resources=INLINE)\\n\"+\n",
       "     \"</code>\\n\"+\n",
       "     \"</div>\"}};\n",
       "\n",
       "  function display_loaded() {\n",
       "    var el = document.getElementById(\"1804\");\n",
       "    if (el != null) {\n",
       "      el.textContent = \"BokehJS is loading...\";\n",
       "    }\n",
       "    if (root.Bokeh !== undefined) {\n",
       "      if (el != null) {\n",
       "        el.textContent = \"BokehJS \" + root.Bokeh.version + \" successfully loaded.\";\n",
       "      }\n",
       "    } else if (Date.now() < root._bokeh_timeout) {\n",
       "      setTimeout(display_loaded, 100)\n",
       "    }\n",
       "  }\n",
       "\n",
       "\n",
       "  function run_callbacks() {\n",
       "    try {\n",
       "      root._bokeh_onload_callbacks.forEach(function(callback) {\n",
       "        if (callback != null)\n",
       "          callback();\n",
       "      });\n",
       "    } finally {\n",
       "      delete root._bokeh_onload_callbacks\n",
       "    }\n",
       "    console.debug(\"Bokeh: all callbacks have finished\");\n",
       "  }\n",
       "\n",
       "  function load_libs(css_urls, js_urls, callback) {\n",
       "    if (css_urls == null) css_urls = [];\n",
       "    if (js_urls == null) js_urls = [];\n",
       "\n",
       "    root._bokeh_onload_callbacks.push(callback);\n",
       "    if (root._bokeh_is_loading > 0) {\n",
       "      console.debug(\"Bokeh: BokehJS is being loaded, scheduling callback at\", now());\n",
       "      return null;\n",
       "    }\n",
       "    if (js_urls == null || js_urls.length === 0) {\n",
       "      run_callbacks();\n",
       "      return null;\n",
       "    }\n",
       "    console.debug(\"Bokeh: BokehJS not loaded, scheduling load and callback at\", now());\n",
       "    root._bokeh_is_loading = css_urls.length + js_urls.length;\n",
       "\n",
       "    function on_load() {\n",
       "      root._bokeh_is_loading--;\n",
       "      if (root._bokeh_is_loading === 0) {\n",
       "        console.debug(\"Bokeh: all BokehJS libraries/stylesheets loaded\");\n",
       "        run_callbacks()\n",
       "      }\n",
       "    }\n",
       "\n",
       "    function on_error(url) {\n",
       "      console.error(\"failed to load \" + url);\n",
       "    }\n",
       "\n",
       "    for (let i = 0; i < css_urls.length; i++) {\n",
       "      const url = css_urls[i];\n",
       "      const element = document.createElement(\"link\");\n",
       "      element.onload = on_load;\n",
       "      element.onerror = on_error.bind(null, url);\n",
       "      element.rel = \"stylesheet\";\n",
       "      element.type = \"text/css\";\n",
       "      element.href = url;\n",
       "      console.debug(\"Bokeh: injecting link tag for BokehJS stylesheet: \", url);\n",
       "      document.body.appendChild(element);\n",
       "    }\n",
       "\n",
       "    const hashes = {\"https://cdn.bokeh.org/bokeh/release/bokeh-2.3.3.min.js\": \"dM3QQsP+wXdHg42wTqW85BjZQdLNNIXqlPw/BgKoExPmTG7ZLML4EGqLMfqHT6ON\", \"https://cdn.bokeh.org/bokeh/release/bokeh-tables-2.3.3.min.js\": \"8x57I4YuIfu8XyZfFo0XVr2WAT8EK4rh/uDe3wF7YuW2FNUSNEpJbsPaB1nJ2fz2\", \"https://cdn.bokeh.org/bokeh/release/bokeh-widgets-2.3.3.min.js\": \"3QTqdz9LyAm2i0sG5XTePsHec3UHWwVsrOL68SYRoAXsafvfAyqtQ+h440+qIBhS\"};\n",
       "\n",
       "    for (let i = 0; i < js_urls.length; i++) {\n",
       "      const url = js_urls[i];\n",
       "      const element = document.createElement('script');\n",
       "      element.onload = on_load;\n",
       "      element.onerror = on_error.bind(null, url);\n",
       "      element.async = false;\n",
       "      element.src = url;\n",
       "      if (url in hashes) {\n",
       "        element.crossOrigin = \"anonymous\";\n",
       "        element.integrity = \"sha384-\" + hashes[url];\n",
       "      }\n",
       "      console.debug(\"Bokeh: injecting script tag for BokehJS library: \", url);\n",
       "      document.head.appendChild(element);\n",
       "    }\n",
       "  };\n",
       "\n",
       "  function inject_raw_css(css) {\n",
       "    const element = document.createElement(\"style\");\n",
       "    element.appendChild(document.createTextNode(css));\n",
       "    document.body.appendChild(element);\n",
       "  }\n",
       "\n",
       "  \n",
       "  var js_urls = [\"https://cdn.bokeh.org/bokeh/release/bokeh-2.3.3.min.js\", \"https://cdn.bokeh.org/bokeh/release/bokeh-widgets-2.3.3.min.js\", \"https://cdn.bokeh.org/bokeh/release/bokeh-tables-2.3.3.min.js\"];\n",
       "  var css_urls = [];\n",
       "  \n",
       "\n",
       "  var inline_js = [\n",
       "    function(Bokeh) {\n",
       "      Bokeh.set_log_level(\"info\");\n",
       "    },\n",
       "    function(Bokeh) {\n",
       "    \n",
       "    \n",
       "    }\n",
       "  ];\n",
       "\n",
       "  function run_inline_js() {\n",
       "    \n",
       "    if (root.Bokeh !== undefined || force === true) {\n",
       "      \n",
       "    for (var i = 0; i < inline_js.length; i++) {\n",
       "      inline_js[i].call(root, root.Bokeh);\n",
       "    }\n",
       "    if (force === true) {\n",
       "        display_loaded();\n",
       "      }} else if (Date.now() < root._bokeh_timeout) {\n",
       "      setTimeout(run_inline_js, 100);\n",
       "    } else if (!root._bokeh_failed_load) {\n",
       "      console.log(\"Bokeh: BokehJS failed to load within specified timeout.\");\n",
       "      root._bokeh_failed_load = true;\n",
       "    } else if (force !== true) {\n",
       "      var cell = $(document.getElementById(\"1804\")).parents('.cell').data().cell;\n",
       "      cell.output_area.append_execute_result(NB_LOAD_WARNING)\n",
       "    }\n",
       "\n",
       "  }\n",
       "\n",
       "  if (root._bokeh_is_loading === 0) {\n",
       "    console.debug(\"Bokeh: BokehJS loaded, going straight to plotting\");\n",
       "    run_inline_js();\n",
       "  } else {\n",
       "    load_libs(css_urls, js_urls, function() {\n",
       "      console.debug(\"Bokeh: BokehJS plotting callback run at\", now());\n",
       "      run_inline_js();\n",
       "    });\n",
       "  }\n",
       "}(window));"
      ],
      "application/vnd.bokehjs_load.v0+json": "\n(function(root) {\n  function now() {\n    return new Date();\n  }\n\n  var force = true;\n\n  if (typeof root._bokeh_onload_callbacks === \"undefined\" || force === true) {\n    root._bokeh_onload_callbacks = [];\n    root._bokeh_is_loading = undefined;\n  }\n\n  \n\n  \n  if (typeof (root._bokeh_timeout) === \"undefined\" || force === true) {\n    root._bokeh_timeout = Date.now() + 5000;\n    root._bokeh_failed_load = false;\n  }\n\n  var NB_LOAD_WARNING = {'data': {'text/html':\n     \"<div style='background-color: #fdd'>\\n\"+\n     \"<p>\\n\"+\n     \"BokehJS does not appear to have successfully loaded. If loading BokehJS from CDN, this \\n\"+\n     \"may be due to a slow or bad network connection. Possible fixes:\\n\"+\n     \"</p>\\n\"+\n     \"<ul>\\n\"+\n     \"<li>re-rerun `output_notebook()` to attempt to load from CDN again, or</li>\\n\"+\n     \"<li>use INLINE resources instead, as so:</li>\\n\"+\n     \"</ul>\\n\"+\n     \"<code>\\n\"+\n     \"from bokeh.resources import INLINE\\n\"+\n     \"output_notebook(resources=INLINE)\\n\"+\n     \"</code>\\n\"+\n     \"</div>\"}};\n\n  function display_loaded() {\n    var el = document.getElementById(\"1804\");\n    if (el != null) {\n      el.textContent = \"BokehJS is loading...\";\n    }\n    if (root.Bokeh !== undefined) {\n      if (el != null) {\n        el.textContent = \"BokehJS \" + root.Bokeh.version + \" successfully loaded.\";\n      }\n    } else if (Date.now() < root._bokeh_timeout) {\n      setTimeout(display_loaded, 100)\n    }\n  }\n\n\n  function run_callbacks() {\n    try {\n      root._bokeh_onload_callbacks.forEach(function(callback) {\n        if (callback != null)\n          callback();\n      });\n    } finally {\n      delete root._bokeh_onload_callbacks\n    }\n    console.debug(\"Bokeh: all callbacks have finished\");\n  }\n\n  function load_libs(css_urls, js_urls, callback) {\n    if (css_urls == null) css_urls = [];\n    if (js_urls == null) js_urls = [];\n\n    root._bokeh_onload_callbacks.push(callback);\n    if (root._bokeh_is_loading > 0) {\n      console.debug(\"Bokeh: BokehJS is being loaded, scheduling callback at\", now());\n      return null;\n    }\n    if (js_urls == null || js_urls.length === 0) {\n      run_callbacks();\n      return null;\n    }\n    console.debug(\"Bokeh: BokehJS not loaded, scheduling load and callback at\", now());\n    root._bokeh_is_loading = css_urls.length + js_urls.length;\n\n    function on_load() {\n      root._bokeh_is_loading--;\n      if (root._bokeh_is_loading === 0) {\n        console.debug(\"Bokeh: all BokehJS libraries/stylesheets loaded\");\n        run_callbacks()\n      }\n    }\n\n    function on_error(url) {\n      console.error(\"failed to load \" + url);\n    }\n\n    for (let i = 0; i < css_urls.length; i++) {\n      const url = css_urls[i];\n      const element = document.createElement(\"link\");\n      element.onload = on_load;\n      element.onerror = on_error.bind(null, url);\n      element.rel = \"stylesheet\";\n      element.type = \"text/css\";\n      element.href = url;\n      console.debug(\"Bokeh: injecting link tag for BokehJS stylesheet: \", url);\n      document.body.appendChild(element);\n    }\n\n    const hashes = {\"https://cdn.bokeh.org/bokeh/release/bokeh-2.3.3.min.js\": \"dM3QQsP+wXdHg42wTqW85BjZQdLNNIXqlPw/BgKoExPmTG7ZLML4EGqLMfqHT6ON\", \"https://cdn.bokeh.org/bokeh/release/bokeh-tables-2.3.3.min.js\": \"8x57I4YuIfu8XyZfFo0XVr2WAT8EK4rh/uDe3wF7YuW2FNUSNEpJbsPaB1nJ2fz2\", \"https://cdn.bokeh.org/bokeh/release/bokeh-widgets-2.3.3.min.js\": \"3QTqdz9LyAm2i0sG5XTePsHec3UHWwVsrOL68SYRoAXsafvfAyqtQ+h440+qIBhS\"};\n\n    for (let i = 0; i < js_urls.length; i++) {\n      const url = js_urls[i];\n      const element = document.createElement('script');\n      element.onload = on_load;\n      element.onerror = on_error.bind(null, url);\n      element.async = false;\n      element.src = url;\n      if (url in hashes) {\n        element.crossOrigin = \"anonymous\";\n        element.integrity = \"sha384-\" + hashes[url];\n      }\n      console.debug(\"Bokeh: injecting script tag for BokehJS library: \", url);\n      document.head.appendChild(element);\n    }\n  };\n\n  function inject_raw_css(css) {\n    const element = document.createElement(\"style\");\n    element.appendChild(document.createTextNode(css));\n    document.body.appendChild(element);\n  }\n\n  \n  var js_urls = [\"https://cdn.bokeh.org/bokeh/release/bokeh-2.3.3.min.js\", \"https://cdn.bokeh.org/bokeh/release/bokeh-widgets-2.3.3.min.js\", \"https://cdn.bokeh.org/bokeh/release/bokeh-tables-2.3.3.min.js\"];\n  var css_urls = [];\n  \n\n  var inline_js = [\n    function(Bokeh) {\n      Bokeh.set_log_level(\"info\");\n    },\n    function(Bokeh) {\n    \n    \n    }\n  ];\n\n  function run_inline_js() {\n    \n    if (root.Bokeh !== undefined || force === true) {\n      \n    for (var i = 0; i < inline_js.length; i++) {\n      inline_js[i].call(root, root.Bokeh);\n    }\n    if (force === true) {\n        display_loaded();\n      }} else if (Date.now() < root._bokeh_timeout) {\n      setTimeout(run_inline_js, 100);\n    } else if (!root._bokeh_failed_load) {\n      console.log(\"Bokeh: BokehJS failed to load within specified timeout.\");\n      root._bokeh_failed_load = true;\n    } else if (force !== true) {\n      var cell = $(document.getElementById(\"1804\")).parents('.cell').data().cell;\n      cell.output_area.append_execute_result(NB_LOAD_WARNING)\n    }\n\n  }\n\n  if (root._bokeh_is_loading === 0) {\n    console.debug(\"Bokeh: BokehJS loaded, going straight to plotting\");\n    run_inline_js();\n  } else {\n    load_libs(css_urls, js_urls, function() {\n      console.debug(\"Bokeh: BokehJS plotting callback run at\", now());\n      run_inline_js();\n    });\n  }\n}(window));"
     },
     "metadata": {},
     "output_type": "display_data"
    }
   ],
   "source": [
    "import bokeh.models as bm, bokeh.plotting as pl\n",
    "from bokeh.io import output_notebook\n",
    "output_notebook()\n",
    "\n",
    "def draw_vectors(x, y, radius=10, alpha=0.25, color='blue',\n",
    "                 width=600, height=400, show=True, **kwargs):\n",
    "    \"\"\" draws an interactive plot for data points with auxilirary info on hover \"\"\"\n",
    "    data_source = bm.ColumnDataSource({ 'x' : x, 'y' : y, 'color': color, **kwargs })\n",
    "\n",
    "    fig = pl.figure(active_scroll='wheel_zoom', width=width, height=height)\n",
    "    fig.scatter('x', 'y', size=radius, color='color', alpha=alpha, source=data_source)\n",
    "\n",
    "    fig.add_tools(bm.HoverTool(tooltips=[(key, \"@\" + key) for key in kwargs.keys()]))\n",
    "    if show: pl.show(fig)\n",
    "    return fig"
   ]
  },
  {
   "cell_type": "code",
   "execution_count": 373,
   "metadata": {
    "id": "7OONK8ldtIWe"
   },
   "outputs": [
    {
     "data": {
      "text/html": [
       "\n",
       "\n",
       "\n",
       "\n",
       "\n",
       "\n",
       "  <div class=\"bk-root\" id=\"9b6e0b3e-714c-4fdc-be66-edfb26ead1d4\" data-root-id=\"1806\"></div>\n"
      ]
     },
     "metadata": {},
     "output_type": "display_data"
    },
    {
     "data": {
      "application/javascript": [
       "(function(root) {\n",
       "  function embed_document(root) {\n",
       "    \n",
       "  var docs_json = {\"6cf5c97b-45b3-46f1-9391-29ae661d83c6\":{\"defs\":[],\"roots\":{\"references\":[{\"attributes\":{\"below\":[{\"id\":\"1815\"}],\"center\":[{\"id\":\"1818\"},{\"id\":\"1822\"}],\"height\":400,\"left\":[{\"id\":\"1819\"}],\"renderers\":[{\"id\":\"1840\"}],\"title\":{\"id\":\"1910\"},\"toolbar\":{\"id\":\"1830\"},\"x_range\":{\"id\":\"1807\"},\"x_scale\":{\"id\":\"1811\"},\"y_range\":{\"id\":\"1809\"},\"y_scale\":{\"id\":\"1813\"}},\"id\":\"1806\",\"subtype\":\"Figure\",\"type\":\"Plot\"},{\"attributes\":{\"callback\":null,\"tooltips\":[]},\"id\":\"1842\",\"type\":\"HoverTool\"},{\"attributes\":{\"fill_alpha\":{\"value\":0.1},\"fill_color\":{\"field\":\"color\"},\"line_alpha\":{\"value\":0.1},\"line_color\":{\"field\":\"color\"},\"size\":{\"value\":10},\"x\":{\"field\":\"x\"},\"y\":{\"field\":\"y\"}},\"id\":\"1839\",\"type\":\"Scatter\"},{\"attributes\":{},\"id\":\"1828\",\"type\":\"HelpTool\"},{\"attributes\":{},\"id\":\"1912\",\"type\":\"AllLabels\"},{\"attributes\":{\"overlay\":{\"id\":\"1829\"}},\"id\":\"1825\",\"type\":\"BoxZoomTool\"},{\"attributes\":{\"formatter\":{\"id\":\"1913\"},\"major_label_policy\":{\"id\":\"1912\"},\"ticker\":{\"id\":\"1816\"}},\"id\":\"1815\",\"type\":\"LinearAxis\"},{\"attributes\":{\"fill_alpha\":{\"value\":0.25},\"fill_color\":{\"field\":\"color\"},\"line_alpha\":{\"value\":0.25},\"line_color\":{\"field\":\"color\"},\"size\":{\"value\":10},\"x\":{\"field\":\"x\"},\"y\":{\"field\":\"y\"}},\"id\":\"1838\",\"type\":\"Scatter\"},{\"attributes\":{},\"id\":\"1811\",\"type\":\"LinearScale\"},{\"attributes\":{},\"id\":\"1915\",\"type\":\"AllLabels\"},{\"attributes\":{},\"id\":\"1813\",\"type\":\"LinearScale\"},{\"attributes\":{},\"id\":\"1916\",\"type\":\"BasicTickFormatter\"},{\"attributes\":{},\"id\":\"1920\",\"type\":\"UnionRenderers\"},{\"attributes\":{\"active_multi\":null,\"active_scroll\":{\"id\":\"1824\"},\"tools\":[{\"id\":\"1823\"},{\"id\":\"1824\"},{\"id\":\"1825\"},{\"id\":\"1826\"},{\"id\":\"1827\"},{\"id\":\"1828\"},{\"id\":\"1842\"}]},\"id\":\"1830\",\"type\":\"Toolbar\"},{\"attributes\":{},\"id\":\"1826\",\"type\":\"SaveTool\"},{\"attributes\":{},\"id\":\"1919\",\"type\":\"Selection\"},{\"attributes\":{\"axis\":{\"id\":\"1819\"},\"dimension\":1,\"ticker\":null},\"id\":\"1822\",\"type\":\"Grid\"},{\"attributes\":{},\"id\":\"1824\",\"type\":\"WheelZoomTool\"},{\"attributes\":{\"axis\":{\"id\":\"1815\"},\"ticker\":null},\"id\":\"1818\",\"type\":\"Grid\"},{\"attributes\":{\"bottom_units\":\"screen\",\"fill_alpha\":0.5,\"fill_color\":\"lightgrey\",\"left_units\":\"screen\",\"level\":\"overlay\",\"line_alpha\":1.0,\"line_color\":\"black\",\"line_dash\":[4,4],\"line_width\":2,\"right_units\":\"screen\",\"syncable\":false,\"top_units\":\"screen\"},\"id\":\"1829\",\"type\":\"BoxAnnotation\"},{\"attributes\":{},\"id\":\"1807\",\"type\":\"DataRange1d\"},{\"attributes\":{},\"id\":\"1816\",\"type\":\"BasicTicker\"},{\"attributes\":{},\"id\":\"1913\",\"type\":\"BasicTickFormatter\"},{\"attributes\":{},\"id\":\"1809\",\"type\":\"DataRange1d\"},{\"attributes\":{},\"id\":\"1820\",\"type\":\"BasicTicker\"},{\"attributes\":{},\"id\":\"1823\",\"type\":\"PanTool\"},{\"attributes\":{\"formatter\":{\"id\":\"1916\"},\"major_label_policy\":{\"id\":\"1915\"},\"ticker\":{\"id\":\"1820\"}},\"id\":\"1819\",\"type\":\"LinearAxis\"},{\"attributes\":{},\"id\":\"1827\",\"type\":\"ResetTool\"},{\"attributes\":{\"source\":{\"id\":\"1805\"}},\"id\":\"1841\",\"type\":\"CDSView\"},{\"attributes\":{},\"id\":\"1910\",\"type\":\"Title\"},{\"attributes\":{\"data\":{\"color\":[\"red\",\"blue\",\"blue\",\"blue\",\"blue\",\"red\",\"red\",\"blue\",\"blue\",\"red\",\"red\",\"blue\",\"red\",\"red\",\"red\",\"blue\",\"red\",\"red\",\"blue\",\"blue\",\"blue\",\"red\",\"red\",\"red\",\"red\",\"blue\",\"red\",\"blue\",\"blue\",\"red\",\"blue\",\"red\",\"red\",\"red\",\"red\",\"blue\",\"blue\",\"red\",\"blue\",\"red\",\"blue\",\"blue\",\"blue\",\"blue\",\"blue\",\"red\",\"red\",\"red\",\"blue\",\"red\",\"red\",\"red\",\"red\",\"red\",\"red\",\"red\",\"blue\",\"red\",\"blue\",\"red\",\"red\",\"red\",\"blue\",\"blue\",\"blue\",\"blue\",\"red\",\"blue\",\"red\",\"red\",\"red\",\"blue\",\"blue\",\"red\",\"blue\",\"blue\",\"red\",\"blue\",\"red\",\"blue\",\"blue\",\"blue\",\"red\",\"red\",\"red\",\"red\",\"red\",\"blue\",\"red\",\"red\",\"blue\",\"red\",\"red\",\"blue\",\"red\",\"red\",\"red\",\"blue\",\"red\",\"red\",\"red\",\"blue\",\"red\",\"blue\",\"red\",\"blue\",\"blue\",\"red\",\"blue\",\"red\",\"red\",\"blue\",\"blue\",\"red\",\"blue\",\"red\",\"blue\",\"blue\",\"blue\",\"blue\",\"red\",\"red\",\"red\",\"blue\",\"red\",\"blue\",\"blue\",\"blue\",\"red\",\"red\",\"red\",\"blue\",\"red\",\"red\",\"blue\",\"red\",\"red\",\"red\",\"red\",\"blue\",\"red\",\"blue\",\"blue\",\"blue\",\"blue\",\"red\",\"red\",\"red\",\"red\",\"blue\",\"red\",\"red\",\"blue\",\"red\",\"blue\",\"blue\",\"blue\",\"red\",\"blue\",\"red\",\"blue\",\"red\",\"red\",\"red\",\"red\",\"blue\",\"red\",\"blue\",\"red\",\"blue\",\"blue\",\"blue\",\"red\",\"blue\",\"red\",\"red\",\"red\",\"red\",\"red\",\"blue\",\"red\",\"red\",\"blue\",\"blue\",\"red\",\"red\",\"blue\",\"red\",\"blue\",\"red\",\"blue\",\"blue\",\"blue\",\"red\",\"red\",\"blue\",\"blue\",\"red\",\"blue\",\"red\",\"blue\",\"blue\",\"red\",\"blue\",\"blue\",\"red\",\"blue\",\"blue\",\"red\",\"red\",\"blue\",\"blue\",\"red\",\"blue\",\"red\",\"blue\",\"red\",\"red\",\"red\",\"red\",\"red\",\"red\",\"red\",\"red\",\"red\",\"blue\",\"blue\",\"red\",\"red\",\"blue\",\"red\",\"red\",\"red\",\"blue\",\"red\",\"blue\",\"red\",\"red\",\"blue\",\"red\",\"blue\",\"red\",\"red\",\"red\",\"red\",\"blue\",\"blue\",\"blue\",\"blue\",\"red\",\"red\",\"red\",\"blue\",\"blue\",\"red\",\"blue\",\"blue\",\"red\",\"red\",\"blue\",\"red\",\"blue\",\"red\",\"blue\",\"blue\",\"blue\",\"blue\",\"red\",\"red\",\"red\",\"blue\",\"blue\",\"red\",\"blue\",\"red\",\"blue\",\"blue\",\"red\",\"blue\",\"blue\",\"blue\",\"red\",\"red\",\"blue\",\"red\",\"red\",\"blue\",\"blue\",\"red\",\"red\",\"red\",\"blue\",\"blue\",\"blue\",\"red\",\"red\",\"red\",\"red\",\"red\",\"red\",\"blue\",\"blue\",\"red\",\"red\",\"blue\",\"blue\",\"red\",\"red\",\"red\",\"blue\",\"red\",\"blue\",\"blue\",\"red\",\"blue\",\"red\",\"blue\",\"red\",\"blue\",\"red\",\"blue\",\"blue\",\"blue\",\"red\",\"blue\",\"red\",\"red\",\"blue\",\"red\",\"red\",\"blue\",\"blue\",\"red\",\"red\",\"red\",\"red\",\"blue\",\"blue\",\"red\",\"red\",\"red\",\"blue\",\"blue\",\"blue\",\"red\",\"red\",\"red\",\"blue\",\"red\",\"blue\",\"red\",\"red\",\"red\",\"blue\",\"red\",\"blue\",\"red\",\"red\",\"red\",\"red\",\"red\",\"blue\",\"blue\",\"red\",\"red\",\"red\",\"red\",\"blue\",\"red\",\"red\",\"blue\",\"blue\",\"red\",\"red\",\"red\",\"red\",\"red\",\"red\",\"red\",\"red\",\"red\",\"blue\",\"blue\",\"red\",\"blue\",\"red\",\"blue\",\"blue\",\"red\",\"red\",\"blue\",\"blue\",\"red\",\"blue\",\"blue\",\"blue\",\"red\",\"blue\",\"red\",\"red\",\"blue\",\"red\",\"red\",\"red\",\"red\",\"blue\",\"red\",\"red\",\"red\",\"red\",\"red\",\"red\",\"red\",\"blue\",\"red\",\"blue\",\"red\",\"red\",\"red\",\"red\",\"blue\",\"blue\",\"blue\",\"blue\",\"red\",\"blue\",\"red\",\"red\",\"blue\",\"red\",\"red\",\"blue\",\"red\",\"blue\",\"red\",\"red\",\"blue\",\"red\",\"blue\",\"blue\",\"blue\",\"blue\",\"red\",\"red\",\"red\",\"blue\",\"blue\",\"red\",\"red\",\"red\",\"blue\",\"red\",\"red\",\"red\",\"red\",\"blue\",\"blue\",\"blue\",\"red\",\"red\",\"red\",\"red\",\"red\",\"blue\",\"blue\",\"red\",\"blue\",\"red\",\"blue\",\"blue\",\"blue\",\"red\",\"red\",\"red\",\"red\",\"blue\",\"red\",\"blue\",\"red\",\"red\",\"red\",\"red\",\"blue\",\"blue\",\"red\",\"red\",\"blue\",\"blue\",\"blue\",\"red\",\"blue\",\"red\",\"red\",\"blue\",\"red\",\"blue\",\"blue\",\"red\",\"blue\",\"red\",\"red\",\"blue\",\"blue\",\"blue\",\"red\",\"blue\",\"blue\",\"red\",\"blue\",\"red\",\"blue\",\"blue\",\"blue\",\"red\",\"red\",\"blue\",\"blue\",\"blue\",\"red\",\"blue\",\"red\",\"red\",\"blue\",\"red\",\"blue\",\"blue\",\"blue\",\"red\",\"blue\",\"red\",\"blue\",\"red\",\"blue\",\"blue\",\"blue\",\"blue\",\"red\",\"red\",\"blue\",\"red\",\"blue\",\"red\",\"red\",\"blue\",\"red\",\"red\",\"red\",\"red\",\"blue\",\"red\",\"red\",\"blue\",\"red\",\"red\",\"red\",\"red\",\"red\",\"red\",\"red\",\"red\",\"blue\",\"blue\",\"red\",\"red\",\"red\",\"blue\",\"red\",\"blue\",\"blue\",\"blue\",\"blue\",\"red\",\"blue\",\"red\",\"red\",\"red\",\"red\",\"red\",\"red\",\"blue\",\"blue\",\"red\",\"blue\",\"red\",\"blue\",\"blue\",\"red\",\"blue\",\"blue\",\"red\",\"blue\",\"blue\",\"red\",\"red\",\"blue\",\"blue\",\"red\",\"blue\",\"red\",\"blue\",\"red\",\"red\",\"blue\",\"red\",\"blue\",\"red\",\"red\",\"red\",\"red\",\"red\",\"blue\",\"blue\",\"red\",\"red\",\"blue\",\"blue\",\"blue\",\"red\",\"red\",\"blue\",\"red\",\"red\",\"blue\",\"red\",\"red\",\"blue\",\"blue\",\"blue\",\"red\",\"blue\",\"blue\",\"red\",\"blue\",\"red\",\"blue\",\"blue\",\"blue\",\"blue\",\"red\",\"red\",\"blue\",\"blue\",\"blue\",\"blue\",\"red\",\"blue\",\"blue\",\"blue\",\"red\",\"blue\",\"red\",\"red\",\"blue\",\"blue\",\"blue\",\"red\",\"blue\",\"blue\",\"blue\",\"red\",\"red\",\"red\",\"blue\",\"red\",\"blue\",\"red\",\"blue\",\"blue\",\"red\",\"red\",\"red\",\"red\",\"red\",\"red\",\"red\",\"red\",\"blue\",\"blue\",\"blue\",\"red\",\"blue\",\"blue\",\"red\",\"blue\",\"blue\",\"blue\",\"red\",\"red\",\"red\",\"blue\",\"red\",\"blue\",\"blue\",\"blue\",\"blue\",\"blue\",\"blue\",\"blue\",\"blue\",\"red\",\"blue\",\"blue\",\"red\",\"red\",\"red\",\"blue\",\"red\",\"red\",\"blue\",\"red\",\"blue\",\"red\",\"blue\",\"blue\",\"blue\",\"blue\",\"blue\",\"blue\",\"blue\",\"blue\",\"red\",\"blue\",\"blue\",\"blue\",\"blue\",\"red\",\"red\",\"red\",\"red\",\"blue\",\"red\",\"blue\",\"red\",\"blue\",\"blue\",\"red\",\"blue\",\"red\",\"blue\",\"blue\",\"red\",\"red\",\"blue\",\"red\",\"blue\",\"blue\",\"red\",\"blue\",\"blue\",\"blue\",\"red\",\"blue\",\"red\",\"red\",\"red\",\"red\",\"blue\",\"red\",\"blue\",\"red\",\"red\",\"blue\",\"red\",\"red\",\"red\",\"blue\",\"red\",\"red\",\"blue\",\"red\",\"red\",\"red\",\"blue\",\"red\",\"blue\",\"red\",\"blue\",\"red\",\"red\",\"blue\",\"red\",\"red\",\"blue\",\"blue\",\"red\",\"red\",\"red\",\"red\",\"blue\",\"blue\",\"blue\",\"blue\",\"red\",\"blue\",\"red\",\"red\",\"blue\",\"red\",\"red\",\"red\",\"blue\",\"red\",\"blue\",\"blue\",\"red\",\"red\",\"blue\",\"blue\",\"blue\",\"red\",\"red\",\"red\",\"blue\",\"blue\",\"blue\",\"red\",\"blue\",\"red\",\"red\",\"blue\",\"red\",\"red\",\"red\",\"blue\",\"blue\",\"blue\",\"red\",\"blue\",\"blue\",\"blue\",\"blue\",\"red\",\"blue\",\"red\",\"blue\",\"blue\",\"red\",\"blue\",\"red\",\"red\",\"red\",\"red\",\"red\",\"red\",\"red\",\"red\",\"blue\",\"red\",\"blue\",\"red\",\"red\",\"red\",\"blue\",\"blue\",\"red\",\"blue\",\"red\",\"blue\",\"red\",\"blue\",\"blue\",\"blue\",\"blue\",\"red\",\"blue\",\"blue\",\"blue\",\"red\",\"blue\",\"blue\",\"red\",\"red\",\"blue\",\"blue\",\"blue\",\"blue\",\"red\",\"red\",\"blue\",\"red\",\"red\",\"blue\",\"blue\",\"blue\",\"red\",\"blue\",\"red\",\"blue\",\"blue\",\"red\",\"blue\",\"blue\",\"blue\",\"red\",\"blue\",\"blue\",\"blue\",\"red\",\"red\",\"blue\",\"blue\",\"blue\",\"blue\",\"red\",\"blue\",\"blue\",\"red\",\"blue\",\"red\",\"blue\",\"blue\",\"red\",\"red\",\"red\",\"blue\",\"red\",\"blue\",\"red\",\"red\",\"red\",\"red\",\"red\",\"blue\",\"blue\",\"red\",\"red\",\"blue\",\"blue\",\"blue\",\"red\",\"red\",\"blue\",\"blue\",\"red\",\"red\",\"red\",\"blue\",\"blue\",\"blue\",\"blue\",\"red\",\"red\",\"blue\",\"blue\",\"blue\",\"blue\",\"red\",\"blue\",\"red\",\"blue\",\"red\",\"red\",\"blue\",\"red\",\"blue\",\"blue\",\"red\",\"red\",\"blue\",\"blue\",\"red\",\"red\",\"blue\",\"red\",\"blue\",\"red\",\"red\",\"blue\",\"red\",\"blue\",\"red\",\"blue\",\"red\",\"red\",\"red\",\"blue\",\"blue\",\"blue\",\"red\",\"blue\",\"blue\",\"blue\",\"blue\",\"red\",\"red\",\"blue\",\"blue\",\"blue\",\"red\",\"blue\",\"red\",\"red\",\"blue\",\"blue\",\"red\",\"red\",\"blue\",\"blue\",\"blue\",\"blue\",\"blue\",\"red\",\"blue\",\"blue\",\"blue\",\"blue\",\"red\",\"blue\",\"blue\",\"red\",\"blue\",\"blue\",\"red\",\"blue\",\"red\",\"blue\",\"red\",\"red\",\"red\",\"blue\",\"blue\",\"red\",\"blue\",\"red\",\"blue\",\"red\",\"blue\",\"red\",\"blue\",\"red\",\"red\",\"blue\",\"blue\",\"blue\",\"red\",\"blue\",\"blue\",\"red\",\"blue\",\"blue\",\"red\",\"red\",\"red\",\"red\",\"blue\",\"red\",\"blue\",\"red\",\"blue\",\"red\",\"red\",\"red\",\"blue\",\"red\",\"blue\",\"blue\",\"red\",\"red\",\"red\",\"blue\",\"blue\",\"blue\",\"blue\",\"blue\",\"red\",\"red\",\"red\",\"blue\",\"red\",\"red\",\"blue\",\"blue\",\"red\",\"red\",\"blue\",\"blue\",\"blue\",\"blue\",\"red\",\"blue\",\"red\",\"blue\",\"red\",\"blue\",\"red\",\"red\",\"red\",\"blue\",\"blue\",\"blue\",\"red\",\"blue\",\"red\",\"red\",\"blue\",\"red\",\"red\",\"red\",\"red\",\"red\",\"blue\",\"red\",\"red\",\"blue\",\"blue\",\"blue\",\"blue\",\"blue\",\"blue\",\"blue\",\"red\",\"red\",\"red\",\"blue\",\"blue\",\"blue\",\"blue\",\"blue\",\"blue\",\"blue\",\"blue\",\"blue\",\"blue\",\"blue\",\"red\",\"red\",\"blue\",\"blue\",\"red\",\"red\",\"blue\",\"blue\",\"red\",\"red\",\"red\",\"blue\",\"red\",\"blue\",\"red\",\"red\",\"blue\",\"red\",\"blue\",\"red\",\"blue\",\"red\",\"blue\",\"blue\",\"blue\",\"blue\",\"blue\",\"blue\",\"red\",\"blue\",\"blue\",\"blue\",\"red\",\"blue\",\"red\",\"red\",\"red\",\"blue\",\"blue\",\"blue\",\"blue\",\"blue\",\"red\",\"blue\",\"blue\",\"red\",\"blue\",\"red\",\"blue\",\"blue\",\"blue\",\"blue\",\"blue\",\"red\",\"blue\",\"red\",\"blue\",\"red\",\"blue\",\"red\",\"red\",\"blue\",\"red\",\"red\",\"red\",\"red\",\"red\",\"red\",\"red\",\"red\",\"red\",\"blue\",\"red\",\"red\",\"blue\",\"blue\",\"red\",\"red\",\"red\",\"blue\",\"blue\",\"blue\",\"blue\",\"red\",\"blue\",\"red\",\"blue\",\"red\",\"blue\",\"red\",\"red\",\"blue\",\"red\",\"blue\",\"red\",\"red\",\"red\",\"red\",\"red\",\"red\",\"blue\",\"red\",\"blue\",\"blue\",\"red\",\"red\",\"red\",\"blue\",\"blue\",\"red\",\"blue\",\"blue\",\"red\",\"blue\",\"blue\",\"red\",\"blue\",\"blue\",\"red\",\"red\",\"red\",\"red\",\"blue\",\"blue\",\"blue\",\"blue\",\"blue\",\"blue\",\"red\",\"red\",\"blue\",\"red\",\"red\",\"red\",\"red\",\"red\",\"red\",\"red\",\"blue\",\"red\",\"blue\",\"red\",\"blue\",\"blue\",\"blue\",\"blue\",\"red\",\"red\",\"red\",\"red\",\"red\",\"blue\",\"blue\",\"blue\",\"blue\",\"blue\"],\"x\":{\"__ndarray__\":\"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\",\"dtype\":\"float32\",\"order\":\"little\",\"shape\":[1280]},\"y\":{\"__ndarray__\":\"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\",\"dtype\":\"float32\",\"order\":\"little\",\"shape\":[1280]}},\"selected\":{\"id\":\"1919\"},\"selection_policy\":{\"id\":\"1920\"}},\"id\":\"1805\",\"type\":\"ColumnDataSource\"},{\"attributes\":{\"data_source\":{\"id\":\"1805\"},\"glyph\":{\"id\":\"1838\"},\"hover_glyph\":null,\"muted_glyph\":null,\"nonselection_glyph\":{\"id\":\"1839\"},\"view\":{\"id\":\"1841\"}},\"id\":\"1840\",\"type\":\"GlyphRenderer\"}],\"root_ids\":[\"1806\"]},\"title\":\"Bokeh Application\",\"version\":\"2.3.3\"}};\n",
       "  var render_items = [{\"docid\":\"6cf5c97b-45b3-46f1-9391-29ae661d83c6\",\"root_ids\":[\"1806\"],\"roots\":{\"1806\":\"9b6e0b3e-714c-4fdc-be66-edfb26ead1d4\"}}];\n",
       "  root.Bokeh.embed.embed_items_notebook(docs_json, render_items);\n",
       "\n",
       "  }\n",
       "  if (root.Bokeh !== undefined) {\n",
       "    embed_document(root);\n",
       "  } else {\n",
       "    var attempts = 0;\n",
       "    var timer = setInterval(function(root) {\n",
       "      if (root.Bokeh !== undefined) {\n",
       "        clearInterval(timer);\n",
       "        embed_document(root);\n",
       "      } else {\n",
       "        attempts++;\n",
       "        if (attempts > 100) {\n",
       "          clearInterval(timer);\n",
       "          console.log(\"Bokeh: ERROR: Unable to run BokehJS code because BokehJS library is missing\");\n",
       "        }\n",
       "      }\n",
       "    }, 10, root)\n",
       "  }\n",
       "})(window);"
      ],
      "application/vnd.bokehjs_exec.v0+json": ""
     },
     "metadata": {
      "application/vnd.bokehjs_exec.v0+json": {
       "id": "1806"
      }
     },
     "output_type": "display_data"
    }
   ],
   "source": [
    "draw_vectors(\n",
    "    examples[\"transformed_features\"][:, 0], \n",
    "    examples[\"transformed_features\"][:, 1], \n",
    "    color=[[\"red\", \"blue\"][t] for t in examples[\"targets\"]]\n",
    "    );"
   ]
  },
  {
   "cell_type": "markdown",
   "metadata": {
    "id": "0fNF6LRQ9MPI"
   },
   "source": [
    "Скорее всего, на визуализации нет четкого разделения твитов между классами. Это значит, что по полученным нами векторам твитов не так-то просто определить, к какому классу твит пренадлежит. Значит, обычный линейный классификатор не очень хорошо справится с задачей. Надо будет делать глубокую (хотя бы два слоя) нейронную сеть.\n",
    "\n",
    "Подготовим загрузчики данных.\n",
    "Усреднее векторов будем делать в \"батчевалке\"(`collate_fn`). Она используется для того, чтобы собирать из данных `torch.Tensor` батчи, которые можно отправлять в модель.\n"
   ]
  },
  {
   "cell_type": "code",
   "execution_count": 374,
   "metadata": {},
   "outputs": [
    {
     "data": {
      "text/plain": [
       "1280000"
      ]
     },
     "execution_count": 374,
     "metadata": {},
     "output_type": "execute_result"
    }
   ],
   "source": [
    "len(dev)"
   ]
  },
  {
   "cell_type": "code",
   "execution_count": 375,
   "metadata": {
    "id": "y1XapsADtITv"
   },
   "outputs": [],
   "source": [
    "from torch.utils.data import DataLoader\n",
    "\n",
    "\n",
    "batch_size = 1024\n",
    "num_workers = 4\n",
    "\n",
    "def average_emb(batch):\n",
    "    features = [np.mean(b[\"feature\"], axis=0) for b in batch]\n",
    "    targets = [b[\"target\"] for b in batch]\n",
    "\n",
    "    return {\"features\": torch.FloatTensor(features), \"targets\": torch.LongTensor(targets)}\n",
    "\n",
    "\n",
    "train_size = math.ceil(len(dev) * 0.8)\n",
    "\n",
    "train, valid = random_split(dev, [train_size, len(dev) - train_size])\n",
    "\n",
    "train_loader = DataLoader(train, batch_size=batch_size, num_workers=num_workers, shuffle=True, drop_last=True, collate_fn=average_emb)\n",
    "valid_loader = DataLoader(valid, batch_size=batch_size, num_workers=num_workers, shuffle=False, drop_last=False, collate_fn=average_emb)"
   ]
  },
  {
   "cell_type": "markdown",
   "metadata": {
    "id": "p-zs0WEK-Vkt"
   },
   "source": [
    "Определим функции для тренировки и теста модели:"
   ]
  },
  {
   "cell_type": "code",
   "execution_count": 376,
   "metadata": {
    "id": "U--T2Gjw1r27"
   },
   "outputs": [],
   "source": [
    "from tqdm.notebook import tqdm\n",
    "from sklearn.metrics import accuracy_score\n",
    "\n",
    "\n",
    "def training(model, optimizer, criterion, train_loader, epoch, device=\"cpu\"):\n",
    "    pbar = tqdm(train_loader, desc=f\"Epoch {e + 1}. Train Loss: {0}\")\n",
    "    mean_acc = 0\n",
    "    model.train()\n",
    "    for batch in pbar:\n",
    "        features = batch[\"features\"].to(device)\n",
    "        targets = batch[\"targets\"].to(device)\n",
    "\n",
    "        # Получи предсказания модели\n",
    "        y_pred = model(features)\n",
    "        y_pred = y_pred.reshape(-1)\n",
    "        # Посчитай лосс\n",
    "        loss = criterion(y_pred, targets.float()) \n",
    "        # Обнови параметры модели\n",
    "        loss.backward()\n",
    "        \n",
    "        optimizer.step()\n",
    "        optimizer.zero_grad()\n",
    "\n",
    "        acc = accuracy_score(targets.cpu().numpy(), y_pred.detach().cpu().numpy() > 0.5)\n",
    "        mean_acc += acc.item()\n",
    "        \n",
    "        pbar.set_description(f\"Epoch {e + 1}. Train Loss: {loss:.4}\")\n",
    "                             \n",
    "    pbar.set_description(f\"Train Acc: {mean_acc / len(train_loader):.4}\")\n",
    "\n",
    "def testing(model, criterion, test_loader, device=\"cpu\"):\n",
    "    pbar = tqdm(test_loader, desc=f\"Test Loss: {0}, Test Acc: {0}\")\n",
    "    mean_loss = 0\n",
    "    mean_acc = 0\n",
    "    model.eval()\n",
    "    with torch.no_grad():\n",
    "        for batch in pbar:\n",
    "            features = batch[\"features\"].to(device)\n",
    "            targets = batch[\"targets\"].to(device)\n",
    "\n",
    "            # Получи предсказания модели\n",
    "            y_pred = model(features)\n",
    "            y_pred = y_pred.reshape(-1)\n",
    "            # Посчитай лосс\n",
    "            loss = criterion(y_pred, targets.float())  \n",
    "                             \n",
    "            acc = accuracy_score(targets.cpu().numpy(), y_pred.cpu().numpy() > 0.5) # Посчитай точность модели\n",
    "            mean_loss += loss.item()\n",
    "            mean_acc += acc.item()\n",
    "\n",
    "            pbar.set_description(f\"Test Loss: {loss:.4}, Test Acc: {acc:.4}\")\n",
    "\n",
    "    pbar.set_description(f\"Test Loss: {mean_loss / len(test_loader):.4}, Test Acc: {mean_acc / len(test_loader):.4}\")\n",
    "\n",
    "    return {\"Test Loss\": mean_loss / len(test_loader), \"Test Acc\": mean_acc / len(test_loader)}"
   ]
  },
  {
   "cell_type": "code",
   "execution_count": 377,
   "metadata": {},
   "outputs": [
    {
     "data": {
      "text/plain": [
       "100"
      ]
     },
     "execution_count": 377,
     "metadata": {},
     "output_type": "execute_result"
    }
   ],
   "source": [
    "word2vec.vector_size"
   ]
  },
  {
   "cell_type": "markdown",
   "metadata": {
    "id": "oVg_XBBb-YBH"
   },
   "source": [
    "Создадим модель, оптимизатор и целевую функцию. Вы можете сами выбрать количество слоев в нейронной сети, ваш любимый оптимизатор и целевую функцию.\n"
   ]
  },
  {
   "cell_type": "code",
   "execution_count": 378,
   "metadata": {},
   "outputs": [
    {
     "data": {
      "text/plain": [
       "100"
      ]
     },
     "execution_count": 378,
     "metadata": {},
     "output_type": "execute_result"
    }
   ],
   "source": [
    "dev.word2vec.vector_size"
   ]
  },
  {
   "cell_type": "code",
   "execution_count": 379,
   "metadata": {
    "id": "EBoZ4F3Fx1Hm"
   },
   "outputs": [],
   "source": [
    "import torch.nn as nn\n",
    "from torch.optim import Adam\n",
    "\n",
    "\n",
    "# Не забудь поиграться с параметрами ;)\n",
    "vector_size = dev.word2vec.vector_size\n",
    "num_classes = 1\n",
    "lr = 1e-3\n",
    "num_epochs = 5\n",
    "\n",
    "model = nn.Sequential(\n",
    "    nn.Linear(vector_size, 128),\n",
    "    nn.ReLU(),\n",
    "    nn.Linear(128, 64),\n",
    "    nn.ReLU(),\n",
    "    nn.Linear(64, num_classes),\n",
    "    nn.Sigmoid())\n",
    "model = model.cuda()\n",
    "criterion = nn.BCELoss()# Твой лосс\n",
    "optimizer = Adam(model.parameters(), lr=lr)# Твой оптимайзер"
   ]
  },
  {
   "cell_type": "markdown",
   "metadata": {
    "id": "-AitU8AR-zBj"
   },
   "source": [
    "Наконец, обучим модель и протестируем её.\n",
    "\n",
    "После каждой эпохи будем проверять качество модели на валидационной части датасета. Если метрика стала лучше, будем сохранять модель. **Подумайте, какая метрика (точность или лосс) будет лучше работать в этой задаче?** "
   ]
  },
  {
   "cell_type": "code",
   "execution_count": 380,
   "metadata": {},
   "outputs": [],
   "source": [
    "#testing(model, criterion, valid_loader, device)"
   ]
  },
  {
   "cell_type": "code",
   "execution_count": 381,
   "metadata": {
    "id": "gKhk71Pmx1F1"
   },
   "outputs": [
    {
     "data": {
      "application/vnd.jupyter.widget-view+json": {
       "model_id": "a2eb653fcdda4bf2923a56cb06275854",
       "version_major": 2,
       "version_minor": 0
      },
      "text/plain": [
       "HBox(children=(FloatProgress(value=0.0, description='Epoch 1. Train Loss: 0', max=1000.0, style=ProgressStyle(…"
      ]
     },
     "metadata": {},
     "output_type": "display_data"
    },
    {
     "name": "stdout",
     "output_type": "stream",
     "text": [
      "\n"
     ]
    },
    {
     "data": {
      "application/vnd.jupyter.widget-view+json": {
       "model_id": "e334323d0cf2442aa334e38f361c6331",
       "version_major": 2,
       "version_minor": 0
      },
      "text/plain": [
       "HBox(children=(FloatProgress(value=0.0, description='Test Loss: 0, Test Acc: 0', max=250.0, style=ProgressStyl…"
      ]
     },
     "metadata": {},
     "output_type": "display_data"
    },
    {
     "name": "stdout",
     "output_type": "stream",
     "text": [
      "\n",
      "{'Test Loss': 0.5125732548236847, 'Test Acc': 0.744921875}\n"
     ]
    },
    {
     "data": {
      "application/vnd.jupyter.widget-view+json": {
       "model_id": "299d7982693f439180d43c8cf137f753",
       "version_major": 2,
       "version_minor": 0
      },
      "text/plain": [
       "HBox(children=(FloatProgress(value=0.0, description='Epoch 2. Train Loss: 0', max=1000.0, style=ProgressStyle(…"
      ]
     },
     "metadata": {},
     "output_type": "display_data"
    },
    {
     "name": "stdout",
     "output_type": "stream",
     "text": [
      "\n"
     ]
    },
    {
     "data": {
      "application/vnd.jupyter.widget-view+json": {
       "model_id": "194062f3712646c6bcced938fb9f56e0",
       "version_major": 2,
       "version_minor": 0
      },
      "text/plain": [
       "HBox(children=(FloatProgress(value=0.0, description='Test Loss: 0, Test Acc: 0', max=250.0, style=ProgressStyl…"
      ]
     },
     "metadata": {},
     "output_type": "display_data"
    },
    {
     "name": "stdout",
     "output_type": "stream",
     "text": [
      "\n",
      "{'Test Loss': 0.5070803210735321, 'Test Acc': 0.74793359375}\n"
     ]
    },
    {
     "data": {
      "application/vnd.jupyter.widget-view+json": {
       "model_id": "1d7c68b8568f425dadad35c01cf3a81c",
       "version_major": 2,
       "version_minor": 0
      },
      "text/plain": [
       "HBox(children=(FloatProgress(value=0.0, description='Epoch 3. Train Loss: 0', max=1000.0, style=ProgressStyle(…"
      ]
     },
     "metadata": {},
     "output_type": "display_data"
    },
    {
     "name": "stdout",
     "output_type": "stream",
     "text": [
      "\n"
     ]
    },
    {
     "data": {
      "application/vnd.jupyter.widget-view+json": {
       "model_id": "dd628e40622942c68edd1998c0623925",
       "version_major": 2,
       "version_minor": 0
      },
      "text/plain": [
       "HBox(children=(FloatProgress(value=0.0, description='Test Loss: 0, Test Acc: 0', max=250.0, style=ProgressStyl…"
      ]
     },
     "metadata": {},
     "output_type": "display_data"
    },
    {
     "name": "stdout",
     "output_type": "stream",
     "text": [
      "\n",
      "{'Test Loss': 0.5048438949584961, 'Test Acc': 0.74902734375}\n"
     ]
    },
    {
     "data": {
      "application/vnd.jupyter.widget-view+json": {
       "model_id": "80f4622d7d48458f8f568ba9717ee10b",
       "version_major": 2,
       "version_minor": 0
      },
      "text/plain": [
       "HBox(children=(FloatProgress(value=0.0, description='Epoch 4. Train Loss: 0', max=1000.0, style=ProgressStyle(…"
      ]
     },
     "metadata": {},
     "output_type": "display_data"
    },
    {
     "name": "stdout",
     "output_type": "stream",
     "text": [
      "\n"
     ]
    },
    {
     "data": {
      "application/vnd.jupyter.widget-view+json": {
       "model_id": "b9d9772159824b08b62af6316ccd8a38",
       "version_major": 2,
       "version_minor": 0
      },
      "text/plain": [
       "HBox(children=(FloatProgress(value=0.0, description='Test Loss: 0, Test Acc: 0', max=250.0, style=ProgressStyl…"
      ]
     },
     "metadata": {},
     "output_type": "display_data"
    },
    {
     "name": "stdout",
     "output_type": "stream",
     "text": [
      "\n",
      "{'Test Loss': 0.5050263856649398, 'Test Acc': 0.7492734375}\n"
     ]
    },
    {
     "data": {
      "application/vnd.jupyter.widget-view+json": {
       "model_id": "20a095e934a24159b771b4404e07ea9c",
       "version_major": 2,
       "version_minor": 0
      },
      "text/plain": [
       "HBox(children=(FloatProgress(value=0.0, description='Epoch 5. Train Loss: 0', max=1000.0, style=ProgressStyle(…"
      ]
     },
     "metadata": {},
     "output_type": "display_data"
    },
    {
     "name": "stdout",
     "output_type": "stream",
     "text": [
      "\n"
     ]
    },
    {
     "data": {
      "application/vnd.jupyter.widget-view+json": {
       "model_id": "987c463592db49018f3d6878f603435b",
       "version_major": 2,
       "version_minor": 0
      },
      "text/plain": [
       "HBox(children=(FloatProgress(value=0.0, description='Test Loss: 0, Test Acc: 0', max=250.0, style=ProgressStyl…"
      ]
     },
     "metadata": {},
     "output_type": "display_data"
    },
    {
     "name": "stdout",
     "output_type": "stream",
     "text": [
      "\n",
      "{'Test Loss': 0.5058892072439194, 'Test Acc': 0.7483671875}\n"
     ]
    }
   ],
   "source": [
    "best_metric = np.inf\n",
    "for e in range(num_epochs):\n",
    "    training(model, optimizer, criterion, train_loader, e, device)\n",
    "    log = testing(model, criterion, valid_loader, device)\n",
    "    print(log)\n",
    "    if log[\"Test Loss\"] < best_metric:\n",
    "        torch.save(model.state_dict(), \"model.pt\")\n",
    "        best_metric = log[\"Test Loss\"]"
   ]
  },
  {
   "cell_type": "code",
   "execution_count": 382,
   "metadata": {
    "id": "di4dGwD4x1Dt"
   },
   "outputs": [
    {
     "data": {
      "application/vnd.jupyter.widget-view+json": {
       "model_id": "7bab5929a8e0420387820779d96b5084",
       "version_major": 2,
       "version_minor": 0
      },
      "text/plain": [
       "HBox(children=(FloatProgress(value=0.0, description='Test Loss: 0, Test Acc: 0', max=313.0, style=ProgressStyl…"
      ]
     },
     "metadata": {},
     "output_type": "display_data"
    },
    {
     "name": "stdout",
     "output_type": "stream",
     "text": [
      "\n",
      "{'Test Loss': 0.5072701189655084, 'Test Acc': 0.7472356729233227}\n"
     ]
    }
   ],
   "source": [
    "test_loader = DataLoader(\n",
    "    TwitterDataset(test_data, \"text\", \"emotion\", word2vec), \n",
    "    batch_size=batch_size, \n",
    "    num_workers=num_workers, \n",
    "    shuffle=False,\n",
    "    drop_last=False, \n",
    "    collate_fn=average_emb)\n",
    "\n",
    "model.load_state_dict(torch.load(\"model.pt\", map_location=device))\n",
    "\n",
    "print(testing(model, criterion, test_loader, device=device))"
   ]
  },
  {
   "cell_type": "markdown",
   "metadata": {
    "id": "ZRvzpldHSAu0"
   },
   "source": [
    "## Embeddings for unknown words (8 баллов)\n",
    "\n",
    "Пока что использовалась не вся информация из текста. Часть информации фильтровалось – если слова не было в словаре эмбеддингов, то мы просто превращали слово в нулевой вектор. Хочется использовать информацию по-максимуму. Поэтому рассмотрим другие способы обработки слов, которых нет в словаре. А именно:\n",
    "\n",
    "- Для каждого незнакомого слова будем запоминать его контекст(слова слева и справа от этого слова). Эмбеддингом нашего незнакомого слова будет сумма эмбеддингов всех слов из его контекста. (4 балла)\n",
    "- Для каждого слова текста получим его эмбеддинг из Tfidf с помощью ```TfidfVectorizer``` из [sklearn](https://scikit-learn.org/stable/modules/generated/sklearn.feature_extraction.text.TfidfVectorizer.html#sklearn.feature_extraction.text.TfidfVectorizer). Итоговым эмбеддингом для каждого слова будет сумма двух эмбеддингов: предобученного и Tfidf-ного. Для слов, которых нет в словаре предобученных эмбеддингов, результирующий эмбеддинг будет просто полученный из Tfidf. (4 балла)\n",
    "\n",
    "Реализуйте оба варианта **ниже**. Напишите, какой способ сработал лучше и ваши мысли, почему так получилось."
   ]
  },
  {
   "cell_type": "markdown",
   "metadata": {
    "id": "RxhEpKalU1UQ"
   },
   "source": [
    "# Sum of context embeddings"
   ]
  },
  {
   "cell_type": "code",
   "execution_count": 414,
   "metadata": {},
   "outputs": [],
   "source": [
    "class TwitterDataset_1(Dataset):\n",
    "    \n",
    "    \n",
    "    def __init__(self, data: pd.DataFrame, feature_column: str, target_column: str, word2vec: gensim.models.Word2Vec):\n",
    "        self.tokenizer = nltk.WordPunctTokenizer()\n",
    "        \n",
    "        self.data = data\n",
    "\n",
    "        self.feature_column = feature_column\n",
    "        self.target_column = target_column\n",
    "\n",
    "        self.word2vec = word2vec\n",
    "\n",
    "        self.label2num = lambda label: 0 if label == 0 else 1\n",
    "        self.mean = np.mean(word2vec.vectors, axis=0)\n",
    "        self.std = np.std(word2vec.vectors, axis=0)\n",
    "\n",
    "        \n",
    "    def __getitem__(self, item):\n",
    "        text = self.data[self.feature_column][item]\n",
    "        label = self.label2num(self.data[self.target_column][item])\n",
    "\n",
    "        tokens = self.get_tokens_(text)\n",
    "        embeddings = self.get_embeddings_(tokens)\n",
    "\n",
    "        return {\"feature\": embeddings, \"target\": label}\n",
    "\n",
    "    \n",
    "    def get_tokens_(self, text):\n",
    "        # Получи все токены из текста и профильтруй их\n",
    "        tokenizer = nltk.WordPunctTokenizer()\n",
    "        tokens = tokenizer.tokenize(text.lower())\n",
    "        filtered_tokens = [w for w in tokens if all(c not in string.punctuation for c in w) and len(w) > 3]\n",
    "        \n",
    "        return filtered_tokens\n",
    "\n",
    "        \n",
    "    def get_embeddings_(self, tokens):\n",
    "        w_size = 3\n",
    "        embeddings = []\n",
    "\n",
    "        for i in range(len(tokens)):\n",
    "            if tokens[i] in self.word2vec:\n",
    "                embeddings.append(self.word2vec.get_vector(tokens[i]))\n",
    "            else:\n",
    "                emb_sum = np.zeros((2 * w_size, self.word2vec.vector_size))\n",
    "                left_idx = i - w_size\n",
    "                right_idx = i + w_size\n",
    "                \n",
    "                # Check the left side of the window inside the line, otherwise pad it\n",
    "                if left_idx < 0:\n",
    "                    left_padding = np.zeros((abs(left_idx), self.word2vec.vector_size))\n",
    "                    left_emb = np.zeros((i, self.word2vec.vector_size))\n",
    "                    for idx in range(0, i):\n",
    "                        if tokens[idx] in word2vec:\n",
    "                            left_emb[idx] = self.word2vec.get_vector(tokens[idx])\n",
    "                    emb_sum[:w_size] += np.vstack((left_padding, left_emb))\n",
    "                    \n",
    "                # Check the right side also\n",
    "                if right_idx > len(tokens) - 1:\n",
    "                    right_padding = np.zeros((abs(right_idx) - len(tokens) + 1, self.word2vec.vector_size))\n",
    "                    right_emb = np.zeros((len(tokens) - (i + 1), self.word2vec.vector_size))\n",
    "                    for idx in range(i + 1, len(tokens)):\n",
    "                        if tokens[idx] in word2vec:\n",
    "                            right_emb[idx - (i + 1)] = self.word2vec.get_vector(tokens[idx])\n",
    "                    emb_sum[w_size:] += np.vstack((right_emb, right_padding))\n",
    "                    \n",
    "                emb_sum /= 2 * w_size \n",
    "                weights = np.array([1 / abs(w_size - j) for j in range(w_size)])\n",
    "                weights = np.hstack((weights, weights[::-1]))\n",
    "\n",
    "                # Let's sum neighbors embeddings with weights=1/N\n",
    "                emb_sum = weights @ emb_sum\n",
    "                \n",
    "                embeddings.append(emb_sum)\n",
    "        if len(embeddings) == 0:\n",
    "            embeddings = np.zeros((1, self.word2vec.vector_size))\n",
    "        else:\n",
    "            embeddings = np.array(embeddings)\n",
    "            if len(embeddings.shape) == 1:\n",
    "                embeddings = embeddings.reshape(-1, 1)\n",
    "                \n",
    "        return embeddings\n",
    "\n",
    "    def __len__(self):\n",
    "        return self.data.shape[0]"
   ]
  },
  {
   "cell_type": "code",
   "execution_count": 415,
   "metadata": {},
   "outputs": [],
   "source": [
    "dev = TwitterDataset_1(dev_data, \"text\", \"emotion\", word2vec)"
   ]
  },
  {
   "cell_type": "code",
   "execution_count": 416,
   "metadata": {},
   "outputs": [
    {
     "name": "stdout",
     "output_type": "stream",
     "text": [
      "2560\n"
     ]
    }
   ],
   "source": [
    "indexes = np.arange(len(dev))\n",
    "np.random.shuffle(indexes)\n",
    "example_indexes = indexes[::500]\n",
    "\n",
    "examples = {\"features\": [np.sum(dev[i][\"feature\"], axis=0) for i in example_indexes], \n",
    "            \"targets\": [dev[i][\"target\"] for i in example_indexes]}\n",
    "print(len(examples[\"features\"]))"
   ]
  },
  {
   "cell_type": "code",
   "execution_count": 417,
   "metadata": {},
   "outputs": [],
   "source": [
    "tsne = TSNE(n_components=2)\n",
    "examples[\"transformed_features\"] = tsne.fit_transform(examples['features'])"
   ]
  },
  {
   "cell_type": "code",
   "execution_count": 418,
   "metadata": {},
   "outputs": [
    {
     "data": {
      "text/html": [
       "\n",
       "    <div class=\"bk-root\">\n",
       "        <a href=\"https://bokeh.org\" target=\"_blank\" class=\"bk-logo bk-logo-small bk-logo-notebook\"></a>\n",
       "        <span id=\"2353\">Loading BokehJS ...</span>\n",
       "    </div>"
      ]
     },
     "metadata": {},
     "output_type": "display_data"
    },
    {
     "data": {
      "application/javascript": [
       "\n",
       "(function(root) {\n",
       "  function now() {\n",
       "    return new Date();\n",
       "  }\n",
       "\n",
       "  var force = true;\n",
       "\n",
       "  if (typeof root._bokeh_onload_callbacks === \"undefined\" || force === true) {\n",
       "    root._bokeh_onload_callbacks = [];\n",
       "    root._bokeh_is_loading = undefined;\n",
       "  }\n",
       "\n",
       "  var JS_MIME_TYPE = 'application/javascript';\n",
       "  var HTML_MIME_TYPE = 'text/html';\n",
       "  var EXEC_MIME_TYPE = 'application/vnd.bokehjs_exec.v0+json';\n",
       "  var CLASS_NAME = 'output_bokeh rendered_html';\n",
       "\n",
       "  /**\n",
       "   * Render data to the DOM node\n",
       "   */\n",
       "  function render(props, node) {\n",
       "    var script = document.createElement(\"script\");\n",
       "    node.appendChild(script);\n",
       "  }\n",
       "\n",
       "  /**\n",
       "   * Handle when an output is cleared or removed\n",
       "   */\n",
       "  function handleClearOutput(event, handle) {\n",
       "    var cell = handle.cell;\n",
       "\n",
       "    var id = cell.output_area._bokeh_element_id;\n",
       "    var server_id = cell.output_area._bokeh_server_id;\n",
       "    // Clean up Bokeh references\n",
       "    if (id != null && id in Bokeh.index) {\n",
       "      Bokeh.index[id].model.document.clear();\n",
       "      delete Bokeh.index[id];\n",
       "    }\n",
       "\n",
       "    if (server_id !== undefined) {\n",
       "      // Clean up Bokeh references\n",
       "      var cmd = \"from bokeh.io.state import curstate; print(curstate().uuid_to_server['\" + server_id + \"'].get_sessions()[0].document.roots[0]._id)\";\n",
       "      cell.notebook.kernel.execute(cmd, {\n",
       "        iopub: {\n",
       "          output: function(msg) {\n",
       "            var id = msg.content.text.trim();\n",
       "            if (id in Bokeh.index) {\n",
       "              Bokeh.index[id].model.document.clear();\n",
       "              delete Bokeh.index[id];\n",
       "            }\n",
       "          }\n",
       "        }\n",
       "      });\n",
       "      // Destroy server and session\n",
       "      var cmd = \"import bokeh.io.notebook as ion; ion.destroy_server('\" + server_id + \"')\";\n",
       "      cell.notebook.kernel.execute(cmd);\n",
       "    }\n",
       "  }\n",
       "\n",
       "  /**\n",
       "   * Handle when a new output is added\n",
       "   */\n",
       "  function handleAddOutput(event, handle) {\n",
       "    var output_area = handle.output_area;\n",
       "    var output = handle.output;\n",
       "\n",
       "    // limit handleAddOutput to display_data with EXEC_MIME_TYPE content only\n",
       "    if ((output.output_type != \"display_data\") || (!Object.prototype.hasOwnProperty.call(output.data, EXEC_MIME_TYPE))) {\n",
       "      return\n",
       "    }\n",
       "\n",
       "    var toinsert = output_area.element.find(\".\" + CLASS_NAME.split(' ')[0]);\n",
       "\n",
       "    if (output.metadata[EXEC_MIME_TYPE][\"id\"] !== undefined) {\n",
       "      toinsert[toinsert.length - 1].firstChild.textContent = output.data[JS_MIME_TYPE];\n",
       "      // store reference to embed id on output_area\n",
       "      output_area._bokeh_element_id = output.metadata[EXEC_MIME_TYPE][\"id\"];\n",
       "    }\n",
       "    if (output.metadata[EXEC_MIME_TYPE][\"server_id\"] !== undefined) {\n",
       "      var bk_div = document.createElement(\"div\");\n",
       "      bk_div.innerHTML = output.data[HTML_MIME_TYPE];\n",
       "      var script_attrs = bk_div.children[0].attributes;\n",
       "      for (var i = 0; i < script_attrs.length; i++) {\n",
       "        toinsert[toinsert.length - 1].firstChild.setAttribute(script_attrs[i].name, script_attrs[i].value);\n",
       "        toinsert[toinsert.length - 1].firstChild.textContent = bk_div.children[0].textContent\n",
       "      }\n",
       "      // store reference to server id on output_area\n",
       "      output_area._bokeh_server_id = output.metadata[EXEC_MIME_TYPE][\"server_id\"];\n",
       "    }\n",
       "  }\n",
       "\n",
       "  function register_renderer(events, OutputArea) {\n",
       "\n",
       "    function append_mime(data, metadata, element) {\n",
       "      // create a DOM node to render to\n",
       "      var toinsert = this.create_output_subarea(\n",
       "        metadata,\n",
       "        CLASS_NAME,\n",
       "        EXEC_MIME_TYPE\n",
       "      );\n",
       "      this.keyboard_manager.register_events(toinsert);\n",
       "      // Render to node\n",
       "      var props = {data: data, metadata: metadata[EXEC_MIME_TYPE]};\n",
       "      render(props, toinsert[toinsert.length - 1]);\n",
       "      element.append(toinsert);\n",
       "      return toinsert\n",
       "    }\n",
       "\n",
       "    /* Handle when an output is cleared or removed */\n",
       "    events.on('clear_output.CodeCell', handleClearOutput);\n",
       "    events.on('delete.Cell', handleClearOutput);\n",
       "\n",
       "    /* Handle when a new output is added */\n",
       "    events.on('output_added.OutputArea', handleAddOutput);\n",
       "\n",
       "    /**\n",
       "     * Register the mime type and append_mime function with output_area\n",
       "     */\n",
       "    OutputArea.prototype.register_mime_type(EXEC_MIME_TYPE, append_mime, {\n",
       "      /* Is output safe? */\n",
       "      safe: true,\n",
       "      /* Index of renderer in `output_area.display_order` */\n",
       "      index: 0\n",
       "    });\n",
       "  }\n",
       "\n",
       "  // register the mime type if in Jupyter Notebook environment and previously unregistered\n",
       "  if (root.Jupyter !== undefined) {\n",
       "    var events = require('base/js/events');\n",
       "    var OutputArea = require('notebook/js/outputarea').OutputArea;\n",
       "\n",
       "    if (OutputArea.prototype.mime_types().indexOf(EXEC_MIME_TYPE) == -1) {\n",
       "      register_renderer(events, OutputArea);\n",
       "    }\n",
       "  }\n",
       "\n",
       "  \n",
       "  if (typeof (root._bokeh_timeout) === \"undefined\" || force === true) {\n",
       "    root._bokeh_timeout = Date.now() + 5000;\n",
       "    root._bokeh_failed_load = false;\n",
       "  }\n",
       "\n",
       "  var NB_LOAD_WARNING = {'data': {'text/html':\n",
       "     \"<div style='background-color: #fdd'>\\n\"+\n",
       "     \"<p>\\n\"+\n",
       "     \"BokehJS does not appear to have successfully loaded. If loading BokehJS from CDN, this \\n\"+\n",
       "     \"may be due to a slow or bad network connection. Possible fixes:\\n\"+\n",
       "     \"</p>\\n\"+\n",
       "     \"<ul>\\n\"+\n",
       "     \"<li>re-rerun `output_notebook()` to attempt to load from CDN again, or</li>\\n\"+\n",
       "     \"<li>use INLINE resources instead, as so:</li>\\n\"+\n",
       "     \"</ul>\\n\"+\n",
       "     \"<code>\\n\"+\n",
       "     \"from bokeh.resources import INLINE\\n\"+\n",
       "     \"output_notebook(resources=INLINE)\\n\"+\n",
       "     \"</code>\\n\"+\n",
       "     \"</div>\"}};\n",
       "\n",
       "  function display_loaded() {\n",
       "    var el = document.getElementById(\"2353\");\n",
       "    if (el != null) {\n",
       "      el.textContent = \"BokehJS is loading...\";\n",
       "    }\n",
       "    if (root.Bokeh !== undefined) {\n",
       "      if (el != null) {\n",
       "        el.textContent = \"BokehJS \" + root.Bokeh.version + \" successfully loaded.\";\n",
       "      }\n",
       "    } else if (Date.now() < root._bokeh_timeout) {\n",
       "      setTimeout(display_loaded, 100)\n",
       "    }\n",
       "  }\n",
       "\n",
       "\n",
       "  function run_callbacks() {\n",
       "    try {\n",
       "      root._bokeh_onload_callbacks.forEach(function(callback) {\n",
       "        if (callback != null)\n",
       "          callback();\n",
       "      });\n",
       "    } finally {\n",
       "      delete root._bokeh_onload_callbacks\n",
       "    }\n",
       "    console.debug(\"Bokeh: all callbacks have finished\");\n",
       "  }\n",
       "\n",
       "  function load_libs(css_urls, js_urls, callback) {\n",
       "    if (css_urls == null) css_urls = [];\n",
       "    if (js_urls == null) js_urls = [];\n",
       "\n",
       "    root._bokeh_onload_callbacks.push(callback);\n",
       "    if (root._bokeh_is_loading > 0) {\n",
       "      console.debug(\"Bokeh: BokehJS is being loaded, scheduling callback at\", now());\n",
       "      return null;\n",
       "    }\n",
       "    if (js_urls == null || js_urls.length === 0) {\n",
       "      run_callbacks();\n",
       "      return null;\n",
       "    }\n",
       "    console.debug(\"Bokeh: BokehJS not loaded, scheduling load and callback at\", now());\n",
       "    root._bokeh_is_loading = css_urls.length + js_urls.length;\n",
       "\n",
       "    function on_load() {\n",
       "      root._bokeh_is_loading--;\n",
       "      if (root._bokeh_is_loading === 0) {\n",
       "        console.debug(\"Bokeh: all BokehJS libraries/stylesheets loaded\");\n",
       "        run_callbacks()\n",
       "      }\n",
       "    }\n",
       "\n",
       "    function on_error(url) {\n",
       "      console.error(\"failed to load \" + url);\n",
       "    }\n",
       "\n",
       "    for (let i = 0; i < css_urls.length; i++) {\n",
       "      const url = css_urls[i];\n",
       "      const element = document.createElement(\"link\");\n",
       "      element.onload = on_load;\n",
       "      element.onerror = on_error.bind(null, url);\n",
       "      element.rel = \"stylesheet\";\n",
       "      element.type = \"text/css\";\n",
       "      element.href = url;\n",
       "      console.debug(\"Bokeh: injecting link tag for BokehJS stylesheet: \", url);\n",
       "      document.body.appendChild(element);\n",
       "    }\n",
       "\n",
       "    const hashes = {\"https://cdn.bokeh.org/bokeh/release/bokeh-2.3.3.min.js\": \"dM3QQsP+wXdHg42wTqW85BjZQdLNNIXqlPw/BgKoExPmTG7ZLML4EGqLMfqHT6ON\", \"https://cdn.bokeh.org/bokeh/release/bokeh-tables-2.3.3.min.js\": \"8x57I4YuIfu8XyZfFo0XVr2WAT8EK4rh/uDe3wF7YuW2FNUSNEpJbsPaB1nJ2fz2\", \"https://cdn.bokeh.org/bokeh/release/bokeh-widgets-2.3.3.min.js\": \"3QTqdz9LyAm2i0sG5XTePsHec3UHWwVsrOL68SYRoAXsafvfAyqtQ+h440+qIBhS\"};\n",
       "\n",
       "    for (let i = 0; i < js_urls.length; i++) {\n",
       "      const url = js_urls[i];\n",
       "      const element = document.createElement('script');\n",
       "      element.onload = on_load;\n",
       "      element.onerror = on_error.bind(null, url);\n",
       "      element.async = false;\n",
       "      element.src = url;\n",
       "      if (url in hashes) {\n",
       "        element.crossOrigin = \"anonymous\";\n",
       "        element.integrity = \"sha384-\" + hashes[url];\n",
       "      }\n",
       "      console.debug(\"Bokeh: injecting script tag for BokehJS library: \", url);\n",
       "      document.head.appendChild(element);\n",
       "    }\n",
       "  };\n",
       "\n",
       "  function inject_raw_css(css) {\n",
       "    const element = document.createElement(\"style\");\n",
       "    element.appendChild(document.createTextNode(css));\n",
       "    document.body.appendChild(element);\n",
       "  }\n",
       "\n",
       "  \n",
       "  var js_urls = [\"https://cdn.bokeh.org/bokeh/release/bokeh-2.3.3.min.js\", \"https://cdn.bokeh.org/bokeh/release/bokeh-widgets-2.3.3.min.js\", \"https://cdn.bokeh.org/bokeh/release/bokeh-tables-2.3.3.min.js\"];\n",
       "  var css_urls = [];\n",
       "  \n",
       "\n",
       "  var inline_js = [\n",
       "    function(Bokeh) {\n",
       "      Bokeh.set_log_level(\"info\");\n",
       "    },\n",
       "    function(Bokeh) {\n",
       "    \n",
       "    \n",
       "    }\n",
       "  ];\n",
       "\n",
       "  function run_inline_js() {\n",
       "    \n",
       "    if (root.Bokeh !== undefined || force === true) {\n",
       "      \n",
       "    for (var i = 0; i < inline_js.length; i++) {\n",
       "      inline_js[i].call(root, root.Bokeh);\n",
       "    }\n",
       "    if (force === true) {\n",
       "        display_loaded();\n",
       "      }} else if (Date.now() < root._bokeh_timeout) {\n",
       "      setTimeout(run_inline_js, 100);\n",
       "    } else if (!root._bokeh_failed_load) {\n",
       "      console.log(\"Bokeh: BokehJS failed to load within specified timeout.\");\n",
       "      root._bokeh_failed_load = true;\n",
       "    } else if (force !== true) {\n",
       "      var cell = $(document.getElementById(\"2353\")).parents('.cell').data().cell;\n",
       "      cell.output_area.append_execute_result(NB_LOAD_WARNING)\n",
       "    }\n",
       "\n",
       "  }\n",
       "\n",
       "  if (root._bokeh_is_loading === 0) {\n",
       "    console.debug(\"Bokeh: BokehJS loaded, going straight to plotting\");\n",
       "    run_inline_js();\n",
       "  } else {\n",
       "    load_libs(css_urls, js_urls, function() {\n",
       "      console.debug(\"Bokeh: BokehJS plotting callback run at\", now());\n",
       "      run_inline_js();\n",
       "    });\n",
       "  }\n",
       "}(window));"
      ],
      "application/vnd.bokehjs_load.v0+json": "\n(function(root) {\n  function now() {\n    return new Date();\n  }\n\n  var force = true;\n\n  if (typeof root._bokeh_onload_callbacks === \"undefined\" || force === true) {\n    root._bokeh_onload_callbacks = [];\n    root._bokeh_is_loading = undefined;\n  }\n\n  \n\n  \n  if (typeof (root._bokeh_timeout) === \"undefined\" || force === true) {\n    root._bokeh_timeout = Date.now() + 5000;\n    root._bokeh_failed_load = false;\n  }\n\n  var NB_LOAD_WARNING = {'data': {'text/html':\n     \"<div style='background-color: #fdd'>\\n\"+\n     \"<p>\\n\"+\n     \"BokehJS does not appear to have successfully loaded. If loading BokehJS from CDN, this \\n\"+\n     \"may be due to a slow or bad network connection. Possible fixes:\\n\"+\n     \"</p>\\n\"+\n     \"<ul>\\n\"+\n     \"<li>re-rerun `output_notebook()` to attempt to load from CDN again, or</li>\\n\"+\n     \"<li>use INLINE resources instead, as so:</li>\\n\"+\n     \"</ul>\\n\"+\n     \"<code>\\n\"+\n     \"from bokeh.resources import INLINE\\n\"+\n     \"output_notebook(resources=INLINE)\\n\"+\n     \"</code>\\n\"+\n     \"</div>\"}};\n\n  function display_loaded() {\n    var el = document.getElementById(\"2353\");\n    if (el != null) {\n      el.textContent = \"BokehJS is loading...\";\n    }\n    if (root.Bokeh !== undefined) {\n      if (el != null) {\n        el.textContent = \"BokehJS \" + root.Bokeh.version + \" successfully loaded.\";\n      }\n    } else if (Date.now() < root._bokeh_timeout) {\n      setTimeout(display_loaded, 100)\n    }\n  }\n\n\n  function run_callbacks() {\n    try {\n      root._bokeh_onload_callbacks.forEach(function(callback) {\n        if (callback != null)\n          callback();\n      });\n    } finally {\n      delete root._bokeh_onload_callbacks\n    }\n    console.debug(\"Bokeh: all callbacks have finished\");\n  }\n\n  function load_libs(css_urls, js_urls, callback) {\n    if (css_urls == null) css_urls = [];\n    if (js_urls == null) js_urls = [];\n\n    root._bokeh_onload_callbacks.push(callback);\n    if (root._bokeh_is_loading > 0) {\n      console.debug(\"Bokeh: BokehJS is being loaded, scheduling callback at\", now());\n      return null;\n    }\n    if (js_urls == null || js_urls.length === 0) {\n      run_callbacks();\n      return null;\n    }\n    console.debug(\"Bokeh: BokehJS not loaded, scheduling load and callback at\", now());\n    root._bokeh_is_loading = css_urls.length + js_urls.length;\n\n    function on_load() {\n      root._bokeh_is_loading--;\n      if (root._bokeh_is_loading === 0) {\n        console.debug(\"Bokeh: all BokehJS libraries/stylesheets loaded\");\n        run_callbacks()\n      }\n    }\n\n    function on_error(url) {\n      console.error(\"failed to load \" + url);\n    }\n\n    for (let i = 0; i < css_urls.length; i++) {\n      const url = css_urls[i];\n      const element = document.createElement(\"link\");\n      element.onload = on_load;\n      element.onerror = on_error.bind(null, url);\n      element.rel = \"stylesheet\";\n      element.type = \"text/css\";\n      element.href = url;\n      console.debug(\"Bokeh: injecting link tag for BokehJS stylesheet: \", url);\n      document.body.appendChild(element);\n    }\n\n    const hashes = {\"https://cdn.bokeh.org/bokeh/release/bokeh-2.3.3.min.js\": \"dM3QQsP+wXdHg42wTqW85BjZQdLNNIXqlPw/BgKoExPmTG7ZLML4EGqLMfqHT6ON\", \"https://cdn.bokeh.org/bokeh/release/bokeh-tables-2.3.3.min.js\": \"8x57I4YuIfu8XyZfFo0XVr2WAT8EK4rh/uDe3wF7YuW2FNUSNEpJbsPaB1nJ2fz2\", \"https://cdn.bokeh.org/bokeh/release/bokeh-widgets-2.3.3.min.js\": \"3QTqdz9LyAm2i0sG5XTePsHec3UHWwVsrOL68SYRoAXsafvfAyqtQ+h440+qIBhS\"};\n\n    for (let i = 0; i < js_urls.length; i++) {\n      const url = js_urls[i];\n      const element = document.createElement('script');\n      element.onload = on_load;\n      element.onerror = on_error.bind(null, url);\n      element.async = false;\n      element.src = url;\n      if (url in hashes) {\n        element.crossOrigin = \"anonymous\";\n        element.integrity = \"sha384-\" + hashes[url];\n      }\n      console.debug(\"Bokeh: injecting script tag for BokehJS library: \", url);\n      document.head.appendChild(element);\n    }\n  };\n\n  function inject_raw_css(css) {\n    const element = document.createElement(\"style\");\n    element.appendChild(document.createTextNode(css));\n    document.body.appendChild(element);\n  }\n\n  \n  var js_urls = [\"https://cdn.bokeh.org/bokeh/release/bokeh-2.3.3.min.js\", \"https://cdn.bokeh.org/bokeh/release/bokeh-widgets-2.3.3.min.js\", \"https://cdn.bokeh.org/bokeh/release/bokeh-tables-2.3.3.min.js\"];\n  var css_urls = [];\n  \n\n  var inline_js = [\n    function(Bokeh) {\n      Bokeh.set_log_level(\"info\");\n    },\n    function(Bokeh) {\n    \n    \n    }\n  ];\n\n  function run_inline_js() {\n    \n    if (root.Bokeh !== undefined || force === true) {\n      \n    for (var i = 0; i < inline_js.length; i++) {\n      inline_js[i].call(root, root.Bokeh);\n    }\n    if (force === true) {\n        display_loaded();\n      }} else if (Date.now() < root._bokeh_timeout) {\n      setTimeout(run_inline_js, 100);\n    } else if (!root._bokeh_failed_load) {\n      console.log(\"Bokeh: BokehJS failed to load within specified timeout.\");\n      root._bokeh_failed_load = true;\n    } else if (force !== true) {\n      var cell = $(document.getElementById(\"2353\")).parents('.cell').data().cell;\n      cell.output_area.append_execute_result(NB_LOAD_WARNING)\n    }\n\n  }\n\n  if (root._bokeh_is_loading === 0) {\n    console.debug(\"Bokeh: BokehJS loaded, going straight to plotting\");\n    run_inline_js();\n  } else {\n    load_libs(css_urls, js_urls, function() {\n      console.debug(\"Bokeh: BokehJS plotting callback run at\", now());\n      run_inline_js();\n    });\n  }\n}(window));"
     },
     "metadata": {},
     "output_type": "display_data"
    }
   ],
   "source": [
    "import bokeh.models as bm, bokeh.plotting as pl\n",
    "from bokeh.io import output_notebook\n",
    "output_notebook()\n",
    "\n",
    "def draw_vectors(x, y, radius=10, alpha=0.25, color='blue',\n",
    "                 width=600, height=400, show=True, **kwargs):\n",
    "    \"\"\" draws an interactive plot for data points with auxilirary info on hover \"\"\"\n",
    "    data_source = bm.ColumnDataSource({ 'x' : x, 'y' : y, 'color': color, **kwargs })\n",
    "\n",
    "    fig = pl.figure(active_scroll='wheel_zoom', width=width, height=height)\n",
    "    fig.scatter('x', 'y', size=radius, color='color', alpha=alpha, source=data_source)\n",
    "\n",
    "    fig.add_tools(bm.HoverTool(tooltips=[(key, \"@\" + key) for key in kwargs.keys()]))\n",
    "    if show: pl.show(fig)\n",
    "    return fig"
   ]
  },
  {
   "cell_type": "code",
   "execution_count": 419,
   "metadata": {},
   "outputs": [
    {
     "data": {
      "text/html": [
       "\n",
       "\n",
       "\n",
       "\n",
       "\n",
       "\n",
       "  <div class=\"bk-root\" id=\"8c491ec8-f40a-4807-98f9-4dfba14a6a3e\" data-root-id=\"2355\"></div>\n"
      ]
     },
     "metadata": {},
     "output_type": "display_data"
    },
    {
     "data": {
      "application/javascript": [
       "(function(root) {\n",
       "  function embed_document(root) {\n",
       "    \n",
       "  var docs_json = {\"7141fc5e-ae2f-414b-8dd3-1d9e2956cd1f\":{\"defs\":[],\"roots\":{\"references\":[{\"attributes\":{\"below\":[{\"id\":\"2364\"}],\"center\":[{\"id\":\"2367\"},{\"id\":\"2371\"}],\"height\":400,\"left\":[{\"id\":\"2368\"}],\"renderers\":[{\"id\":\"2389\"}],\"title\":{\"id\":\"2492\"},\"toolbar\":{\"id\":\"2379\"},\"x_range\":{\"id\":\"2356\"},\"x_scale\":{\"id\":\"2360\"},\"y_range\":{\"id\":\"2358\"},\"y_scale\":{\"id\":\"2362\"}},\"id\":\"2355\",\"subtype\":\"Figure\",\"type\":\"Plot\"},{\"attributes\":{},\"id\":\"2377\",\"type\":\"HelpTool\"},{\"attributes\":{},\"id\":\"2501\",\"type\":\"Selection\"},{\"attributes\":{\"formatter\":{\"id\":\"2495\"},\"major_label_policy\":{\"id\":\"2494\"},\"ticker\":{\"id\":\"2365\"}},\"id\":\"2364\",\"type\":\"LinearAxis\"},{\"attributes\":{},\"id\":\"2360\",\"type\":\"LinearScale\"},{\"attributes\":{},\"id\":\"2356\",\"type\":\"DataRange1d\"},{\"attributes\":{\"axis\":{\"id\":\"2364\"},\"ticker\":null},\"id\":\"2367\",\"type\":\"Grid\"},{\"attributes\":{},\"id\":\"2373\",\"type\":\"WheelZoomTool\"},{\"attributes\":{},\"id\":\"2495\",\"type\":\"BasicTickFormatter\"},{\"attributes\":{},\"id\":\"2498\",\"type\":\"BasicTickFormatter\"},{\"attributes\":{\"fill_alpha\":{\"value\":0.25},\"fill_color\":{\"field\":\"color\"},\"line_alpha\":{\"value\":0.25},\"line_color\":{\"field\":\"color\"},\"size\":{\"value\":10},\"x\":{\"field\":\"x\"},\"y\":{\"field\":\"y\"}},\"id\":\"2387\",\"type\":\"Scatter\"},{\"attributes\":{},\"id\":\"2497\",\"type\":\"AllLabels\"},{\"attributes\":{},\"id\":\"2358\",\"type\":\"DataRange1d\"},{\"attributes\":{},\"id\":\"2376\",\"type\":\"ResetTool\"},{\"attributes\":{},\"id\":\"2492\",\"type\":\"Title\"},{\"attributes\":{},\"id\":\"2494\",\"type\":\"AllLabels\"},{\"attributes\":{\"data_source\":{\"id\":\"2354\"},\"glyph\":{\"id\":\"2387\"},\"hover_glyph\":null,\"muted_glyph\":null,\"nonselection_glyph\":{\"id\":\"2388\"},\"view\":{\"id\":\"2390\"}},\"id\":\"2389\",\"type\":\"GlyphRenderer\"},{\"attributes\":{\"axis\":{\"id\":\"2368\"},\"dimension\":1,\"ticker\":null},\"id\":\"2371\",\"type\":\"Grid\"},{\"attributes\":{},\"id\":\"2375\",\"type\":\"SaveTool\"},{\"attributes\":{\"callback\":null,\"tooltips\":[]},\"id\":\"2391\",\"type\":\"HoverTool\"},{\"attributes\":{\"data\":{\"color\":[\"blue\",\"red\",\"red\",\"blue\",\"blue\",\"red\",\"red\",\"red\",\"red\",\"red\",\"blue\",\"blue\",\"red\",\"red\",\"red\",\"blue\",\"blue\",\"red\",\"red\",\"red\",\"blue\",\"red\",\"red\",\"red\",\"red\",\"red\",\"blue\",\"red\",\"blue\",\"blue\",\"red\",\"red\",\"red\",\"blue\",\"blue\",\"blue\",\"red\",\"blue\",\"red\",\"red\",\"blue\",\"blue\",\"blue\",\"red\",\"blue\",\"red\",\"blue\",\"blue\",\"blue\",\"red\",\"blue\",\"blue\",\"red\",\"blue\",\"blue\",\"red\",\"blue\",\"blue\",\"blue\",\"blue\",\"blue\",\"red\",\"blue\",\"blue\",\"blue\",\"red\",\"blue\",\"blue\",\"blue\",\"red\",\"red\",\"red\",\"red\",\"red\",\"red\",\"red\",\"blue\",\"red\",\"red\",\"red\",\"red\",\"red\",\"blue\",\"red\",\"blue\",\"blue\",\"blue\",\"blue\",\"red\",\"blue\",\"blue\",\"blue\",\"blue\",\"blue\",\"red\",\"red\",\"blue\",\"blue\",\"red\",\"red\",\"blue\",\"blue\",\"red\",\"red\",\"blue\",\"blue\",\"blue\",\"red\",\"blue\",\"blue\",\"red\",\"blue\",\"blue\",\"blue\",\"red\",\"red\",\"red\",\"red\",\"blue\",\"blue\",\"red\",\"red\",\"red\",\"red\",\"red\",\"red\",\"blue\",\"red\",\"blue\",\"red\",\"red\",\"red\",\"red\",\"red\",\"blue\",\"blue\",\"red\",\"blue\",\"blue\",\"red\",\"blue\",\"red\",\"blue\",\"red\",\"blue\",\"blue\",\"red\",\"blue\",\"red\",\"red\",\"blue\",\"blue\",\"red\",\"blue\",\"blue\",\"red\",\"blue\",\"blue\",\"blue\",\"blue\",\"blue\",\"red\",\"red\",\"blue\",\"blue\",\"blue\",\"red\",\"blue\",\"red\",\"red\",\"red\",\"red\",\"blue\",\"blue\",\"blue\",\"red\",\"blue\",\"blue\",\"blue\",\"red\",\"blue\",\"red\",\"red\",\"blue\",\"blue\",\"red\",\"red\",\"red\",\"blue\",\"red\",\"red\",\"red\",\"red\",\"blue\",\"blue\",\"red\",\"blue\",\"red\",\"red\",\"red\",\"blue\",\"red\",\"red\",\"red\",\"blue\",\"blue\",\"red\",\"red\",\"blue\",\"red\",\"red\",\"red\",\"red\",\"red\",\"blue\",\"red\",\"blue\",\"red\",\"red\",\"blue\",\"blue\",\"blue\",\"red\",\"blue\",\"red\",\"blue\",\"blue\",\"red\",\"blue\",\"red\",\"blue\",\"red\",\"blue\",\"red\",\"red\",\"red\",\"blue\",\"blue\",\"red\",\"red\",\"red\",\"blue\",\"blue\",\"blue\",\"red\",\"blue\",\"red\",\"red\",\"blue\",\"red\",\"blue\",\"blue\",\"blue\",\"blue\",\"blue\",\"red\",\"blue\",\"blue\",\"blue\",\"blue\",\"red\",\"red\",\"red\",\"blue\",\"red\",\"blue\",\"blue\",\"red\",\"red\",\"blue\",\"blue\",\"blue\",\"red\",\"blue\",\"blue\",\"red\",\"red\",\"red\",\"blue\",\"red\",\"blue\",\"red\",\"red\",\"red\",\"blue\",\"blue\",\"red\",\"blue\",\"red\",\"blue\",\"blue\",\"red\",\"red\",\"blue\",\"red\",\"blue\",\"blue\",\"blue\",\"red\",\"blue\",\"red\",\"red\",\"red\",\"red\",\"blue\",\"red\",\"blue\",\"red\",\"red\",\"red\",\"red\",\"red\",\"red\",\"red\",\"red\",\"blue\",\"blue\",\"blue\",\"red\",\"red\",\"red\",\"blue\",\"blue\",\"blue\",\"blue\",\"blue\",\"blue\",\"blue\",\"red\",\"red\",\"red\",\"red\",\"red\",\"blue\",\"red\",\"blue\",\"blue\",\"red\",\"blue\",\"red\",\"red\",\"red\",\"blue\",\"red\",\"blue\",\"blue\",\"blue\",\"red\",\"red\",\"blue\",\"blue\",\"red\",\"red\",\"red\",\"red\",\"red\",\"red\",\"blue\",\"red\",\"blue\",\"blue\",\"red\",\"blue\",\"blue\",\"blue\",\"blue\",\"blue\",\"red\",\"red\",\"red\",\"blue\",\"blue\",\"red\",\"blue\",\"red\",\"red\",\"red\",\"blue\",\"red\",\"blue\",\"blue\",\"blue\",\"blue\",\"blue\",\"blue\",\"red\",\"blue\",\"blue\",\"blue\",\"red\",\"red\",\"red\",\"red\",\"blue\",\"red\",\"blue\",\"blue\",\"red\",\"red\",\"red\",\"red\",\"red\",\"red\",\"blue\",\"blue\",\"red\",\"blue\",\"red\",\"blue\",\"blue\",\"blue\",\"red\",\"red\",\"blue\",\"blue\",\"red\",\"blue\",\"red\",\"red\",\"red\",\"red\",\"red\",\"red\",\"blue\",\"blue\",\"blue\",\"red\",\"red\",\"red\",\"red\",\"red\",\"blue\",\"red\",\"red\",\"blue\",\"blue\",\"red\",\"blue\",\"blue\",\"blue\",\"red\",\"blue\",\"blue\",\"blue\",\"blue\",\"red\",\"red\",\"red\",\"blue\",\"red\",\"blue\",\"blue\",\"blue\",\"blue\",\"red\",\"red\",\"blue\",\"blue\",\"blue\",\"red\",\"red\",\"blue\",\"red\",\"red\",\"red\",\"blue\",\"blue\",\"blue\",\"blue\",\"red\",\"blue\",\"blue\",\"blue\",\"red\",\"blue\",\"blue\",\"blue\",\"blue\",\"red\",\"red\",\"red\",\"red\",\"red\",\"blue\",\"blue\",\"blue\",\"blue\",\"red\",\"blue\",\"blue\",\"blue\",\"blue\",\"blue\",\"red\",\"red\",\"red\",\"red\",\"blue\",\"blue\",\"blue\",\"blue\",\"red\",\"blue\",\"red\",\"blue\",\"blue\",\"blue\",\"blue\",\"red\",\"red\",\"red\",\"blue\",\"blue\",\"red\",\"blue\",\"blue\",\"red\",\"red\",\"red\",\"blue\",\"red\",\"blue\",\"blue\",\"red\",\"blue\",\"blue\",\"red\",\"blue\",\"red\",\"red\",\"blue\",\"blue\",\"blue\",\"red\",\"red\",\"red\",\"red\",\"red\",\"blue\",\"blue\",\"red\",\"red\",\"blue\",\"blue\",\"blue\",\"blue\",\"blue\",\"blue\",\"blue\",\"blue\",\"blue\",\"blue\",\"blue\",\"red\",\"red\",\"blue\",\"red\",\"blue\",\"red\",\"blue\",\"red\",\"red\",\"blue\",\"blue\",\"red\",\"blue\",\"red\",\"blue\",\"red\",\"blue\",\"blue\",\"red\",\"red\",\"blue\",\"blue\",\"blue\",\"red\",\"blue\",\"blue\",\"red\",\"blue\",\"blue\",\"red\",\"blue\",\"blue\",\"red\",\"red\",\"blue\",\"red\",\"blue\",\"red\",\"blue\",\"red\",\"blue\",\"blue\",\"red\",\"blue\",\"red\",\"blue\",\"red\",\"red\",\"blue\",\"red\",\"blue\",\"red\",\"blue\",\"red\",\"red\",\"blue\",\"red\",\"blue\",\"red\",\"blue\",\"blue\",\"blue\",\"blue\",\"blue\",\"red\",\"blue\",\"red\",\"red\",\"blue\",\"red\",\"blue\",\"red\",\"red\",\"red\",\"blue\",\"blue\",\"blue\",\"blue\",\"red\",\"red\",\"red\",\"red\",\"blue\",\"blue\",\"blue\",\"red\",\"blue\",\"red\",\"blue\",\"blue\",\"blue\",\"blue\",\"red\",\"red\",\"red\",\"red\",\"blue\",\"blue\",\"blue\",\"blue\",\"red\",\"red\",\"blue\",\"blue\",\"blue\",\"blue\",\"red\",\"red\",\"blue\",\"red\",\"red\",\"red\",\"red\",\"blue\",\"red\",\"red\",\"red\",\"red\",\"red\",\"red\",\"red\",\"red\",\"blue\",\"red\",\"blue\",\"blue\",\"red\",\"red\",\"blue\",\"red\",\"red\",\"blue\",\"red\",\"blue\",\"blue\",\"blue\",\"red\",\"blue\",\"red\",\"blue\",\"blue\",\"blue\",\"red\",\"red\",\"blue\",\"blue\",\"blue\",\"blue\",\"red\",\"blue\",\"blue\",\"blue\",\"red\",\"red\",\"red\",\"blue\",\"blue\",\"blue\",\"red\",\"blue\",\"red\",\"blue\",\"red\",\"blue\",\"blue\",\"blue\",\"blue\",\"red\",\"blue\",\"blue\",\"red\",\"red\",\"blue\",\"red\",\"blue\",\"red\",\"blue\",\"blue\",\"red\",\"red\",\"blue\",\"red\",\"blue\",\"blue\",\"red\",\"blue\",\"red\",\"red\",\"red\",\"red\",\"blue\",\"blue\",\"blue\",\"blue\",\"red\",\"blue\",\"blue\",\"red\",\"blue\",\"blue\",\"red\",\"blue\",\"blue\",\"red\",\"blue\",\"red\",\"red\",\"blue\",\"blue\",\"blue\",\"blue\",\"blue\",\"blue\",\"blue\",\"blue\",\"blue\",\"blue\",\"red\",\"blue\",\"red\",\"blue\",\"blue\",\"red\",\"red\",\"blue\",\"red\",\"blue\",\"red\",\"blue\",\"blue\",\"red\",\"blue\",\"blue\",\"red\",\"red\",\"red\",\"red\",\"red\",\"blue\",\"red\",\"red\",\"red\",\"blue\",\"blue\",\"red\",\"red\",\"blue\",\"red\",\"red\",\"blue\",\"red\",\"red\",\"blue\",\"blue\",\"red\",\"red\",\"blue\",\"blue\",\"blue\",\"blue\",\"blue\",\"red\",\"red\",\"blue\",\"blue\",\"red\",\"red\",\"red\",\"red\",\"blue\",\"blue\",\"blue\",\"blue\",\"red\",\"red\",\"blue\",\"red\",\"blue\",\"blue\",\"red\",\"blue\",\"blue\",\"blue\",\"blue\",\"red\",\"red\",\"red\",\"blue\",\"blue\",\"red\",\"red\",\"red\",\"red\",\"blue\",\"red\",\"red\",\"blue\",\"blue\",\"blue\",\"blue\",\"red\",\"blue\",\"blue\",\"blue\",\"red\",\"blue\",\"blue\",\"red\",\"red\",\"blue\",\"blue\",\"red\",\"red\",\"blue\",\"blue\",\"blue\",\"blue\",\"blue\",\"red\",\"blue\",\"red\",\"blue\",\"red\",\"blue\",\"red\",\"red\",\"red\",\"red\",\"blue\",\"red\",\"blue\",\"blue\",\"blue\",\"red\",\"red\",\"red\",\"red\",\"red\",\"red\",\"blue\",\"red\",\"blue\",\"blue\",\"red\",\"blue\",\"blue\",\"blue\",\"blue\",\"red\",\"blue\",\"blue\",\"blue\",\"red\",\"blue\",\"blue\",\"blue\",\"red\",\"red\",\"red\",\"blue\",\"red\",\"red\",\"blue\",\"blue\",\"red\",\"blue\",\"blue\",\"blue\",\"blue\",\"red\",\"blue\",\"red\",\"red\",\"blue\",\"blue\",\"red\",\"red\",\"red\",\"red\",\"blue\",\"blue\",\"red\",\"blue\",\"blue\",\"red\",\"red\",\"blue\",\"red\",\"blue\",\"blue\",\"blue\",\"blue\",\"red\",\"red\",\"blue\",\"blue\",\"blue\",\"blue\",\"blue\",\"red\",\"red\",\"red\",\"blue\",\"blue\",\"red\",\"red\",\"blue\",\"blue\",\"red\",\"red\",\"blue\",\"blue\",\"red\",\"red\",\"red\",\"blue\",\"red\",\"blue\",\"red\",\"red\",\"blue\",\"blue\",\"blue\",\"red\",\"blue\",\"blue\",\"blue\",\"blue\",\"red\",\"red\",\"red\",\"blue\",\"blue\",\"blue\",\"red\",\"red\",\"blue\",\"red\",\"red\",\"blue\",\"red\",\"red\",\"red\",\"blue\",\"red\",\"blue\",\"blue\",\"blue\",\"blue\",\"blue\",\"red\",\"blue\",\"blue\",\"red\",\"red\",\"red\",\"blue\",\"blue\",\"blue\",\"red\",\"red\",\"red\",\"blue\",\"red\",\"blue\",\"blue\",\"blue\",\"red\",\"red\",\"red\",\"red\",\"red\",\"red\",\"red\",\"red\",\"blue\",\"red\",\"blue\",\"red\",\"blue\",\"red\",\"red\",\"red\",\"blue\",\"blue\",\"red\",\"red\",\"red\",\"red\",\"red\",\"red\",\"red\",\"blue\",\"red\",\"blue\",\"red\",\"red\",\"blue\",\"red\",\"blue\",\"blue\",\"red\",\"blue\",\"red\",\"red\",\"blue\",\"blue\",\"red\",\"red\",\"red\",\"blue\",\"blue\",\"blue\",\"red\",\"red\",\"blue\",\"blue\",\"red\",\"blue\",\"red\",\"red\",\"red\",\"blue\",\"red\",\"red\",\"red\",\"red\",\"red\",\"red\",\"blue\",\"blue\",\"blue\",\"blue\",\"blue\",\"red\",\"blue\",\"blue\",\"red\",\"red\",\"blue\",\"blue\",\"blue\",\"blue\",\"red\",\"red\",\"red\",\"red\",\"red\",\"blue\",\"red\",\"red\",\"blue\",\"red\",\"red\",\"red\",\"blue\",\"blue\",\"red\",\"blue\",\"red\",\"red\",\"red\",\"red\",\"blue\",\"blue\",\"blue\",\"blue\",\"red\",\"red\",\"red\",\"blue\",\"blue\",\"red\",\"blue\",\"red\",\"red\",\"red\",\"red\",\"blue\",\"red\",\"red\",\"blue\",\"red\",\"red\",\"red\",\"blue\",\"blue\",\"blue\",\"blue\",\"blue\",\"red\",\"blue\",\"red\",\"blue\",\"blue\",\"blue\",\"red\",\"blue\",\"blue\",\"blue\",\"red\",\"red\",\"blue\",\"red\",\"red\",\"red\",\"blue\",\"blue\",\"blue\",\"red\",\"red\",\"blue\",\"red\",\"blue\",\"blue\",\"blue\",\"red\",\"blue\",\"red\",\"blue\",\"red\",\"red\",\"blue\",\"blue\",\"red\",\"blue\",\"red\",\"red\",\"red\",\"red\",\"blue\",\"red\",\"blue\",\"red\",\"red\",\"red\",\"red\",\"red\",\"blue\",\"red\",\"blue\",\"blue\",\"red\",\"red\",\"blue\",\"blue\",\"red\",\"blue\",\"blue\",\"red\",\"red\",\"red\",\"red\",\"blue\",\"blue\",\"blue\",\"blue\",\"blue\",\"red\",\"blue\",\"red\",\"blue\",\"blue\",\"red\",\"blue\",\"red\",\"red\",\"red\",\"blue\",\"red\",\"red\",\"blue\",\"blue\",\"red\",\"red\",\"red\",\"blue\",\"blue\",\"blue\",\"blue\",\"blue\",\"red\",\"red\",\"blue\",\"blue\",\"blue\",\"red\",\"red\",\"red\",\"red\",\"red\",\"red\",\"red\",\"blue\",\"red\",\"blue\",\"red\",\"red\",\"red\",\"red\",\"red\",\"blue\",\"blue\",\"blue\",\"blue\",\"blue\",\"red\",\"blue\",\"blue\",\"blue\",\"red\",\"red\",\"red\",\"blue\",\"red\",\"blue\",\"red\",\"blue\",\"red\",\"red\",\"blue\",\"red\",\"blue\",\"red\",\"red\",\"red\",\"blue\",\"red\",\"red\",\"red\",\"red\",\"red\",\"red\",\"blue\",\"red\",\"blue\",\"blue\",\"blue\",\"red\",\"red\",\"red\",\"blue\",\"red\",\"red\",\"blue\",\"blue\",\"red\",\"red\",\"red\",\"blue\",\"red\",\"blue\",\"blue\",\"red\",\"blue\",\"blue\",\"red\",\"red\",\"red\",\"blue\",\"red\",\"red\",\"red\",\"red\",\"red\",\"red\",\"red\",\"blue\",\"red\",\"red\",\"red\",\"blue\",\"red\",\"blue\",\"red\",\"red\",\"red\",\"blue\",\"red\",\"blue\",\"blue\",\"blue\",\"red\",\"blue\",\"red\",\"blue\",\"red\",\"red\",\"blue\",\"blue\",\"red\",\"red\",\"blue\",\"red\",\"blue\",\"blue\",\"red\",\"red\",\"red\",\"blue\",\"red\",\"red\",\"blue\",\"blue\",\"blue\",\"red\",\"blue\",\"red\",\"blue\",\"red\",\"blue\",\"blue\",\"blue\",\"blue\",\"red\",\"red\",\"red\",\"blue\",\"red\",\"red\",\"blue\",\"red\",\"blue\",\"red\",\"red\",\"red\",\"blue\",\"red\",\"red\",\"red\",\"blue\",\"blue\",\"red\",\"red\",\"blue\",\"blue\",\"blue\",\"blue\",\"red\",\"red\",\"red\",\"red\",\"red\",\"red\",\"red\",\"blue\",\"red\",\"blue\",\"blue\",\"blue\",\"red\",\"blue\",\"red\",\"blue\",\"blue\",\"red\",\"red\",\"red\",\"red\",\"red\",\"red\",\"blue\",\"blue\",\"red\",\"blue\",\"blue\",\"red\",\"red\",\"blue\",\"red\",\"red\",\"blue\",\"red\",\"red\",\"red\",\"red\",\"red\",\"red\",\"red\",\"blue\",\"red\",\"red\",\"blue\",\"blue\",\"red\",\"red\",\"blue\",\"blue\",\"red\",\"blue\",\"red\",\"blue\",\"blue\",\"blue\",\"red\",\"blue\",\"red\",\"blue\",\"red\",\"red\",\"red\",\"blue\",\"red\",\"red\",\"red\",\"blue\",\"blue\",\"blue\",\"red\",\"blue\",\"blue\",\"red\",\"red\",\"red\",\"red\",\"blue\",\"blue\",\"red\",\"blue\",\"red\",\"red\",\"blue\",\"red\",\"red\",\"blue\",\"red\",\"red\",\"blue\",\"blue\",\"red\",\"red\",\"red\",\"blue\",\"blue\",\"blue\",\"red\",\"red\",\"blue\",\"blue\",\"red\",\"red\",\"blue\",\"blue\",\"blue\",\"blue\",\"red\",\"red\",\"blue\",\"red\",\"blue\",\"blue\",\"blue\",\"red\",\"blue\",\"red\",\"red\",\"blue\",\"blue\",\"blue\",\"blue\",\"blue\",\"red\",\"red\",\"blue\",\"red\",\"blue\",\"blue\",\"red\",\"red\",\"blue\",\"blue\",\"blue\",\"blue\",\"blue\",\"blue\",\"blue\",\"red\",\"red\",\"blue\",\"red\",\"blue\",\"red\",\"blue\",\"blue\",\"blue\",\"blue\",\"red\",\"blue\",\"red\",\"blue\",\"blue\",\"blue\",\"blue\",\"red\",\"blue\",\"blue\",\"blue\",\"blue\",\"blue\",\"red\",\"blue\",\"red\",\"blue\",\"red\",\"red\",\"blue\",\"red\",\"red\",\"red\",\"blue\",\"red\",\"red\",\"blue\",\"red\",\"blue\",\"red\",\"red\",\"red\",\"red\",\"blue\",\"blue\",\"red\",\"red\",\"blue\",\"red\",\"blue\",\"blue\",\"blue\",\"blue\",\"red\",\"red\",\"blue\",\"blue\",\"red\",\"red\",\"blue\",\"blue\",\"red\",\"blue\",\"blue\",\"blue\",\"blue\",\"blue\",\"blue\",\"red\",\"red\",\"blue\",\"red\",\"red\",\"red\",\"blue\",\"red\",\"red\",\"blue\",\"red\",\"red\",\"blue\",\"blue\",\"red\",\"blue\",\"red\",\"red\",\"red\",\"red\",\"red\",\"red\",\"blue\",\"blue\",\"blue\",\"red\",\"blue\",\"blue\",\"red\",\"red\",\"blue\",\"blue\",\"blue\",\"blue\",\"blue\",\"red\",\"red\",\"blue\",\"blue\",\"red\",\"red\",\"blue\",\"red\",\"blue\",\"blue\",\"red\",\"blue\",\"red\",\"blue\",\"blue\",\"blue\",\"blue\",\"blue\",\"red\",\"blue\",\"blue\",\"blue\",\"red\",\"red\",\"blue\",\"red\",\"red\",\"blue\",\"blue\",\"red\",\"blue\",\"blue\",\"blue\",\"red\",\"red\",\"red\",\"blue\",\"blue\",\"blue\",\"red\",\"red\",\"red\",\"blue\",\"blue\",\"red\",\"red\",\"blue\",\"red\",\"red\",\"blue\",\"red\",\"red\",\"blue\",\"red\",\"blue\",\"red\",\"blue\",\"red\",\"blue\",\"red\",\"red\",\"red\",\"red\",\"blue\",\"red\",\"red\",\"blue\",\"red\",\"red\",\"blue\",\"red\",\"blue\",\"blue\",\"blue\",\"red\",\"blue\",\"blue\",\"red\",\"red\",\"blue\",\"blue\",\"red\",\"red\",\"red\",\"blue\",\"blue\",\"red\",\"blue\",\"red\",\"red\",\"red\",\"red\",\"blue\",\"blue\",\"red\",\"blue\",\"blue\",\"red\",\"blue\",\"red\",\"blue\",\"blue\",\"red\",\"red\",\"blue\",\"blue\",\"red\",\"blue\",\"red\",\"red\",\"blue\",\"red\",\"blue\",\"red\",\"blue\",\"blue\",\"red\",\"blue\",\"red\",\"blue\",\"blue\",\"blue\",\"blue\",\"blue\",\"red\",\"blue\",\"red\",\"red\",\"blue\",\"blue\",\"red\",\"blue\",\"red\",\"red\",\"blue\",\"blue\",\"blue\",\"blue\",\"red\",\"blue\",\"red\",\"blue\",\"blue\",\"blue\",\"blue\",\"blue\",\"red\",\"red\",\"red\",\"blue\",\"red\",\"blue\",\"red\",\"blue\",\"red\",\"blue\",\"blue\",\"red\",\"blue\",\"red\",\"red\",\"blue\",\"red\",\"red\",\"blue\",\"blue\",\"blue\",\"red\",\"red\",\"red\",\"blue\",\"red\",\"blue\",\"blue\",\"red\",\"red\",\"red\",\"blue\",\"red\",\"red\",\"blue\",\"red\",\"blue\",\"red\",\"red\",\"red\",\"blue\",\"red\",\"blue\",\"blue\",\"blue\",\"blue\",\"blue\",\"red\",\"blue\",\"blue\",\"red\",\"red\",\"red\",\"red\",\"red\",\"red\",\"red\",\"red\",\"red\",\"red\",\"blue\",\"red\",\"blue\",\"blue\",\"blue\",\"blue\",\"red\",\"red\",\"blue\",\"red\",\"blue\",\"red\",\"blue\",\"blue\",\"blue\",\"red\",\"red\",\"red\",\"red\",\"blue\",\"blue\",\"blue\",\"red\",\"red\",\"red\",\"blue\",\"red\",\"blue\",\"red\",\"red\",\"blue\",\"red\",\"blue\",\"red\",\"blue\",\"red\",\"red\",\"red\",\"red\",\"blue\",\"red\",\"blue\",\"blue\",\"blue\",\"blue\",\"red\",\"red\",\"red\",\"blue\",\"blue\",\"red\",\"blue\",\"red\",\"blue\",\"blue\",\"red\",\"red\",\"red\",\"blue\",\"red\",\"blue\",\"blue\",\"blue\",\"red\",\"red\",\"blue\",\"blue\",\"blue\",\"red\",\"blue\",\"red\",\"blue\",\"blue\",\"red\",\"red\",\"red\",\"blue\",\"red\",\"blue\",\"red\",\"red\",\"blue\",\"blue\",\"blue\",\"blue\",\"red\",\"red\",\"blue\",\"blue\",\"blue\",\"red\",\"red\",\"red\",\"red\",\"red\",\"blue\",\"red\",\"blue\",\"blue\",\"blue\",\"red\",\"blue\",\"red\",\"blue\",\"blue\",\"red\",\"blue\",\"red\",\"blue\",\"red\",\"blue\",\"blue\",\"red\",\"blue\",\"red\",\"blue\",\"blue\",\"blue\",\"blue\",\"red\",\"red\",\"blue\",\"red\",\"blue\",\"red\",\"blue\",\"red\",\"blue\",\"blue\",\"red\",\"red\",\"blue\",\"red\",\"red\",\"blue\",\"blue\",\"blue\",\"red\",\"blue\",\"red\",\"red\",\"blue\",\"red\",\"red\",\"blue\",\"blue\",\"red\",\"red\",\"blue\",\"red\",\"blue\",\"red\",\"blue\",\"red\",\"red\",\"red\",\"red\",\"blue\",\"blue\",\"blue\",\"blue\",\"red\",\"red\",\"blue\",\"blue\",\"red\",\"blue\",\"blue\",\"blue\",\"red\",\"blue\",\"red\",\"red\",\"red\",\"blue\",\"blue\",\"blue\",\"blue\",\"red\",\"red\",\"blue\",\"red\",\"red\",\"blue\",\"red\",\"blue\",\"red\",\"red\",\"red\",\"blue\",\"blue\",\"red\",\"blue\",\"red\",\"red\",\"blue\",\"blue\",\"blue\",\"blue\",\"blue\",\"red\",\"red\",\"red\",\"red\",\"blue\",\"blue\",\"red\",\"red\",\"red\",\"blue\",\"blue\",\"red\",\"blue\",\"blue\",\"blue\",\"blue\",\"blue\",\"blue\",\"red\",\"red\",\"blue\",\"blue\",\"red\",\"blue\",\"blue\",\"blue\",\"red\",\"red\",\"red\",\"blue\",\"blue\",\"red\",\"blue\",\"red\",\"red\",\"blue\",\"red\",\"blue\",\"red\",\"blue\",\"red\",\"red\",\"blue\",\"blue\",\"red\",\"red\",\"red\",\"blue\",\"blue\",\"red\",\"red\",\"blue\",\"red\",\"blue\",\"blue\",\"blue\",\"red\",\"red\",\"blue\",\"red\",\"blue\",\"red\",\"red\",\"red\",\"red\",\"blue\",\"red\",\"red\",\"blue\",\"red\",\"blue\",\"red\",\"red\",\"blue\",\"red\",\"red\",\"red\",\"red\",\"red\",\"red\",\"blue\",\"blue\",\"blue\",\"red\",\"blue\",\"blue\",\"red\",\"red\",\"red\",\"blue\",\"red\",\"blue\",\"red\",\"red\",\"blue\",\"red\",\"red\",\"red\",\"blue\",\"blue\",\"blue\",\"blue\",\"blue\",\"red\",\"red\",\"red\",\"red\",\"blue\",\"blue\",\"red\",\"blue\",\"blue\",\"red\",\"blue\",\"blue\",\"red\",\"blue\",\"blue\",\"blue\",\"red\",\"red\",\"red\",\"blue\",\"red\",\"blue\",\"blue\",\"blue\",\"red\",\"blue\",\"red\",\"blue\",\"red\",\"red\",\"red\",\"red\",\"blue\",\"blue\",\"red\",\"blue\",\"red\",\"red\",\"blue\",\"red\",\"red\",\"blue\",\"blue\",\"blue\",\"blue\",\"red\",\"blue\",\"blue\",\"blue\",\"red\",\"blue\",\"red\",\"blue\",\"blue\",\"blue\",\"blue\",\"blue\",\"blue\",\"blue\",\"blue\",\"blue\",\"red\",\"blue\",\"blue\",\"blue\",\"blue\",\"blue\",\"red\",\"red\",\"blue\",\"red\",\"blue\",\"red\",\"blue\",\"blue\",\"blue\",\"red\",\"blue\",\"red\",\"red\",\"red\",\"red\",\"blue\",\"red\",\"red\",\"red\",\"blue\",\"red\",\"blue\",\"blue\",\"red\",\"red\",\"red\",\"red\",\"red\",\"red\",\"red\",\"red\",\"blue\",\"red\",\"red\",\"blue\",\"red\",\"red\",\"red\",\"red\",\"red\",\"red\",\"blue\",\"blue\",\"red\",\"red\",\"blue\",\"blue\",\"red\",\"red\",\"red\",\"red\",\"blue\",\"blue\",\"red\",\"red\",\"blue\",\"blue\",\"blue\",\"red\",\"red\",\"blue\",\"red\",\"blue\",\"blue\",\"blue\",\"blue\",\"blue\",\"blue\",\"blue\",\"red\",\"blue\",\"red\",\"red\",\"red\",\"red\",\"red\",\"blue\",\"blue\",\"blue\",\"blue\",\"red\",\"blue\",\"red\",\"red\",\"red\",\"blue\",\"red\",\"red\",\"red\",\"blue\",\"blue\",\"blue\",\"blue\",\"red\",\"blue\",\"blue\",\"blue\",\"blue\",\"blue\",\"red\",\"red\",\"red\",\"blue\",\"blue\",\"blue\",\"blue\",\"blue\",\"red\",\"red\",\"blue\",\"red\",\"red\",\"red\",\"red\",\"red\",\"blue\",\"blue\",\"red\",\"red\",\"blue\",\"red\",\"red\",\"red\",\"red\",\"blue\",\"red\",\"red\",\"red\",\"blue\",\"red\",\"blue\",\"blue\",\"blue\",\"blue\",\"red\",\"red\",\"red\",\"blue\",\"blue\",\"blue\",\"blue\",\"red\",\"blue\",\"red\",\"red\",\"blue\",\"blue\",\"red\",\"blue\",\"red\",\"red\",\"red\",\"blue\",\"blue\",\"red\",\"red\",\"red\",\"blue\",\"blue\",\"red\",\"blue\",\"blue\",\"blue\",\"blue\",\"red\",\"red\",\"blue\",\"red\",\"red\",\"blue\",\"blue\",\"blue\",\"red\",\"red\",\"blue\",\"blue\",\"blue\",\"blue\",\"red\",\"red\",\"blue\",\"blue\",\"blue\",\"blue\",\"blue\",\"red\",\"red\",\"red\",\"red\",\"blue\",\"blue\",\"blue\",\"red\",\"red\",\"blue\",\"blue\",\"red\",\"blue\",\"red\",\"red\",\"red\",\"red\",\"red\",\"red\",\"blue\",\"red\",\"red\",\"blue\",\"red\",\"blue\",\"blue\",\"red\",\"blue\",\"red\",\"red\",\"blue\",\"blue\",\"blue\",\"blue\",\"blue\",\"red\",\"red\",\"red\",\"red\",\"blue\",\"red\",\"red\",\"red\",\"red\",\"red\",\"red\",\"blue\",\"red\",\"red\",\"blue\",\"blue\",\"blue\",\"red\",\"blue\",\"red\",\"blue\",\"blue\",\"red\",\"red\",\"red\",\"red\",\"red\",\"red\",\"red\",\"red\",\"red\",\"blue\",\"blue\",\"blue\",\"blue\",\"blue\",\"red\",\"red\",\"red\",\"red\",\"red\",\"blue\",\"red\",\"blue\",\"red\",\"blue\",\"red\",\"blue\",\"blue\",\"red\",\"red\",\"red\",\"red\",\"red\",\"red\",\"blue\",\"red\",\"blue\",\"blue\",\"red\",\"blue\",\"red\",\"red\",\"blue\",\"blue\",\"red\",\"red\",\"red\",\"red\",\"red\",\"red\",\"red\",\"red\",\"red\",\"blue\",\"red\",\"red\",\"red\",\"blue\",\"red\",\"red\",\"red\",\"red\",\"blue\",\"red\",\"blue\",\"blue\",\"red\",\"blue\",\"blue\",\"red\",\"blue\",\"blue\",\"blue\",\"blue\",\"red\",\"red\",\"red\",\"red\",\"red\",\"red\",\"blue\",\"blue\",\"red\",\"red\",\"blue\",\"blue\",\"red\",\"blue\",\"red\",\"blue\",\"blue\",\"red\",\"red\",\"red\",\"blue\",\"red\",\"blue\",\"blue\",\"red\",\"blue\",\"red\",\"blue\",\"blue\",\"red\",\"blue\",\"blue\",\"blue\",\"red\",\"blue\",\"red\",\"blue\"],\"x\":{\"__ndarray__\":\"72XDP9F6J0KmWSTAPN8FQob79kCOWpdAtEtcQpLEGsGjfPjBF746QRBNU8HIpFPCf9P+wSHkpMF0DaRBNV1fQquwhUAxeazBEYo5QtkMOULH3zRC/r9qwUv4akF/YDHCW/u8QeEAWELYngXBHe08wg3bu8GBOi/C3amZQV/jUcJhA1nC9YrvwWgmx0COSrZBwiaxP3FHT8Lxhe5B+d0XwhRIJELQKDpCvxslQlmsWUAHgrpBxUbJweoxBMIUEMZBZI/cQAYqJELdCLNBnOoNQit0JkLHhDJCGCzJwRYZWELoUxJCteBBQdBZX0Ki/xzC4B/VwQfmh8Hvh5RAEZNTv7pFxUHR8BnCkOixQRciBcFWa4bB498KwhRgAMIUHYk9DdMNQYwst8FKmiNBmpcbwsKpGUEmcnhBNIKaQEN0AUK1XQbCIND6QeaQKkI07m3CR+h6P0NnmMDpEQHCVgHzQbk3BELE7ds/xYoHwpteFEHUm9+/rScewg4tZcFNnLC/z8QIwmJ9KMLy0UbCOmIGwuG8N8IwIyFCawenwbYvHkK4muzBF70fQovoYcJ+IPDBmYzNQcuR+sFRXSjCrHDDwb5a9sFqNZZB55GTwU4kQ8KspidCu1ndQaGOm8FgOPtAluPiQZ3uDEKV+6XByj7EQZ1FlMGekVZCRt8UQrkzQcJiMKlB5/tWwifRP0EYocdBm3fYQV0uVkAaLIbBhwivwRX9YcIIpFZBqJ89wiHc2UEAnkLCSLylwAefJkIuHw1CtYzeQe/yw0GfvcNAwF40QSLSiEHnu1TCdOnjQaxfrcEWOkJCCVmuQIE4OEJ0jQ3CV/QrwayKaUEq5GzCCRKGQQXbRUH2oWBBm57qQZ/khcGlL8BB+CWavqX20EHUkCPCvvmMwVPJAcE4se/BZZG/QIIgQkLG8w1CTE+HQf6sC8JtG+xBwOscwhJgG8IUgmNAqIBmQSJyCsKQ4QHBKk/PwfRRcD9gigrCBLmkweSiccDavIfBldxovmqIqMEWORjCXAGjwWkUl0Ej88TA9IrYwQHOy0EUTlnB0ZEYQpy1NcKiHhPCGjaIQXGyt0GKMjpCDaJXwfu+N0E2Dh3CPpJaQkAVj8GZpcNBcLWMwLiPzkDjuHJBVZ2IQYtPT8F+gfE/PVs/wkEyEsKduxvCJAqhwahf9EGWOupB08ZZwn5jUsHU8WpBwRIEwO5/JMGfyBfCSL5fwnDO0UHl2nVAZwU+wmJSTcKFIoXBkrvZwS4vu0GGwzbCX3GvQK0q80Gv1yVCP7uTwce/UcI01/fBlim2P0unWkLEPExCCwXZwen7Z8KnmZjB+NEPwu/LHsJIeMjBv00nwijjRsDQXFrCC31qwTIZvcE4Az1ACJkQQRvL0779HWDCO4GCwQiXUsBg4UXCD2QDQkdXxcHT1ydA5+ziQXDMMMG8A5rBNcfUQPEkFUG9YntAXIN+wayBXUJ6iH1Aj1kfQhv0rcHQ/bbBdYZswp9QPkJI7MrBj3wsQizJZMBzKqI/5lGtwIk/nME59TRCSMkwwlGcUcGPVmY/HzndQSUNZcFpgbpBJ8u8wbiMF8KhuSVCy3KKQXY3R0LLXoZBVFUvwoOds8EEJP3AYZiFwTLPOUISpybC63GQv5KtIMJcDkrAY+Y8wIIHG0L6xWRB13U2wtL3ukFuX7ZBaeoPQab2akGY5ETAUOkfQo3Q/ED5vyvCtEcmQTYmScJQTv/B4AfjwSJ65MHLZLQ/9RwTwkkCL8I8NzZBe46VQZCMZcBE6wXBZ8AaQkiP+sDKmx5CQTg8wjzKOEKw3L/AYUwZQly7XkJrk2RBAYKVQTbKAkL7zxLCAmeRQKJ+icHGa0fCJ/L2QGLRtECgwRfCZwMxwgeoU8Je+DY/PirNQfzpG8I6zybB77nkvyo3rEHA315BJ9iaQRVmosEd3opBv14WQjROAMLXr6vBa9cZwqih/cF2g0vAlGxFQYPKz8CEFTrCIpwXQVcHEUDFN/PBaf+lQQfH0kHEnz7BeLSjQdFk3kCx+tpBdRK4QL9ONkJJwWXCPj/VviTlBcJkChfCuDp8weiAg77Gqu1A8qmaQBOrVkKBLSdBk4YrwhoiScJM6iLClv4XwjAlLsLDyQBB+D9iQIFWG8HMGi3Ce/DmwY+hKUIgdJdBctKCwVmzoEAXWC1CupemwVmcQ0Je59bAaNfgweXlCcKRNkzCVoFQQb6/B0J+RzFCnS4twkTT6UGAgy3Bja76QTJywUHmUVrBu2A9wqny2EHt2S5C3WDLwTqzPUESHbPB/rYZwrwFiUHjM1LCLG0Xwl1XRsE9qVpCQaDJwHL+6UDidJlBr4Gpv2LPgUCTxudBC6dvwRsfF789Dg5C56G+wQOQs0FQCdHBTq3fwXlIwsCqoAVC3LJMQcot8UFZFB/CwQrlwMkyQcEKFddBBtCQwRedMcItoFZC9qI3wjYlm0E8E3bBhmc4wQq+N8I0hpNBDCJXQj5OXMKBgZrAI59ewjOFbkEmob1A3X3WQCkvBUEZeaBBUZw5QhTTjsHGx5HBdMqQQVuPqUBrcR/CNtf+QTETA8EMYibCdMutQNpvBkChtt/BHf5swh6SMEIvz5rAVTFuwhm5ekGU0Q1C4kzSP4m4X0FJ1WTCbX4mQkZHN8GwIPTBh1iywTYGRMKFBJ1B9ZI5QovpN0Il6RtCmVHYQcO2uMF7iqdBV4OgQFmWJULfJyjCzdRMwFhqosEiZmJCFQFRwvkJ3cHvoKbBXDYXQqkfykEpXvxArBx1wQloO8Lp2ag+KT6awWpbNcG8WErCzF3zwTqIfUGYCHFBnC7DwBaCC0Jw8QpCUXPCQPGKTULU+yzCqeOLwYDbUsGC4CdCSME5wuXyDEIL+jnCNnYUQTZzAUINJTXCfO8EQbxNI0JyrLDBMIUGwhtFeMHSIBbCupvZwZiyB8Lvw8RB42bUQIsDu8GtO/5A/nmsQXueHsLaBP1B5nsLwRJwSMK/Nm7CWdD8QHchHEK6rarBcLONwbPFicFL7cdBC6U+wRGUtMFaEXHAVvUAQocNpcE1tEVBSfA4wdMR3MFhF5Y/4R8cQtWNFcHcGTxBHeDBwT4XB8I6gjpCk+QFQmp92kEVBkDAD6sSQnTEF0LP7BpCN37jQWSr3sC7RNpB9eAOwlEyMMKrq4LBKdM7wqd2DsKU2YLBnK1ZQq6sq8EpIyNBTuGBPhvsyEF8NmFBQPbUwQC1psFIIRPCVmK4QOuS+EFdNx1CneDDwUh4OEJIyKFB3YybvyOsWMIJ3xJCrBWlQULPOUIgF0XC1idHwjynpT9LUQnCYEYRQkRXgsEd+P3Brz8ewp5awcECm59B5w3lweXnBMKuTRbC8a0KQoD8JULAQXvAq+HBQb0Rp0BUKihBiFYHwcOLaMLXV1XCm/VGwg9ElcE+W+5BTweEwVnICkLx4ei+zSKBwV1XYMKU3yjCsMkhwEY20cGEDThAWuJCQFl+bMI0MwFCJ9QFwmSmHcJUMsZB6feZv2zBCcJ4q17BeIIgQjfqUcLOuYJBrmEZwmCYC8L1sU3C3vfUwZKcLEIIKMdBG+67vfkvFcJpM2XBNLyNwQ0BOsL36LdB0jeaQaDXvEFM8zPChlejQZH5xMA0LoFBexwcwcXu1cARX23Cy9XYwIumH8JtqAJAlvyGwWaq6cAOjQpCW6wkQqlBHUIvGxRBMnyEQUWWFEJZqtpBeHi8wdQbIMHhmszApeGkQQ2Hpb9tkxXCLRWHwWYYIsIflwJBXwANwo6kTr5vkWfCkvw6PwG4bsHaRM1ASUFOwkdIsEHsk4NBbRP/QVOkrEGVtxFCWuJCQNjTr0GC0vbBp5Mxwq2GNEIqJChCTuYSwgz24kHDEAjCIdVEwNG/F0IqUThBxYK6QYlR9kE6Pa1BCQuQQdUOGELQwINB0L67walCAsI59KVBbOx/QW2B/8E7OiJCEdVKQmlNT0LBxCrC9mDqQdMgr8Hym+XBwpzMwasGMEI7sJA/gculQf6jAkK6z9nBtKElQkFuJ8IZmVTAu//FwaF0kEG3xShCZeO3QXwOM0EwxoA9AAO7QY7shEBEU6s9FR9MwnShX8E9xe3BLxEAQsChl0D5zmZBLE+kQHzKHELUQQtCObrYwA//fkE0YItBHZnSvxhUJcKXRRlBLh2NQXXzQkG4nNPBKwfRQWZdwMFYQYW/pVItQo/jJj/t0BM/XU+wQIvIrsH4cIbBTjLJwJZ/DcK+AWLB5QMdQi8JJ8H3bEFC6fuMQXR548GANU9CUIUWQtNGFkJNObFA/4WzwfWmM0J4cyhCqkVJQS9XSj+t7rlBHxjrQY+mRr8yDyJCUlI+wirwWMLfLA3C7vMFQpeZbUF1FRDCLDsUwhCSXkKjiR9CgmQ7wpGUWcKQADpCUePKQYlshUCFTytC3wSSwPwvgsFxl9fBfXyPwUevaMEQuUDCcCwBQn/TocFKYRtCDgEZQZOe9EDQl8ZA0iMGQglOFMLARefBmOYvQkQsdEFG2NHBvteuwc38VsILQW5BNQ8VwuQx00EYqCzB4MsUQtHblMGvai5C87AbwXfGicGh7KBBnhA5wp6iEMIi2zBBu+RKQdYDUMLCuLPAfcaswYH9BcIH4JlBdLcwQbS2JcKO211A4loMwnl+dEEBgFnCHoEswiaT+sHaea5BymCIwRTXH8E/hjBCUBzEwZ0o9EEUTkDBVoQ7wm/avEG4Sk7BIvIgQqUnQkIU0aXAhn7mwaUNfMGrNWtBiCP+Qbkq3cFdCW3CLF/8wIf6k8GYvnlAEUPpQdBWBUKRj5hAaZkaQEx1M0BmefLAgU4uwnlzFsGcjhvCvKLDQLMuk0Ho0opAjuG/QezU4kFYFBFCMVB3wZkaEsIGtOdBm8MfQvU6xT6oErBA2v8zQVBlsEHO3lZC44/JwS16McGJTRfCf71HwumTZcEiPABCQVTcwPtvNkJKdB7BL63WwQkDrj8FEPFBS06CQTus3cEuNPvA0DQTQogNLsLHWCbC/Y86wV1+wUHtYAXCF/DeQRZCIsLncBNCwBVHwUojOcJ7cWHCqFkDQsS5KcLCvPJBYky1QfHiZ8AgghDC4nWPwSx0/cAevOPBcF+4wU77MUJ2uDDCA31BwE1QS0CRXFlCpFFjwTgIVEHgkyNCaQXPQX49IcIicB1Ca6DKwTCrysE9o5DBbXtEQMZuDcLAaCbC3L9nQTkBKMJH2TJCOosdwcB6V8IBTwNBA3cyQmOWiUEcBhTBKYo0QqEkV0JGjY4+Sqojwa9+m8FuQ0vCnoTWwbYvNEFNaJQ/SzA0wgAWJ8LgXTrCftXawQyZa0G7kTi/q2AaQsmkoEADLE3BiOARQt+ocsJXDOI+MSM2QpbbWcJ4jARCiPuOwdpCC0FaK/FBh7SMwfjPKcF2yAhC6GdNwlhhGcKcEBLCTN1MQhWWLkII3QfCu3SYQSbRFMJ2oWZAyIkQwsvEW8LPcrhBjlyZwZND9kGNeJhAb9NkQK/0oMAn1P9Av64Fwt7T1kHmTPxBte0JQc5oI0LSjKnBfVoKwjl8m8Btf1jBDBBYQoOEnEHC2NHBLGQIwpfC+0DdJ8XBESc1QrH3LsC+j8FBUMk/wZOWJ0FWL8RBulWdQXi3H0KUwo/BsgUxQuv2icC/k1DCzLsKQiDSsEFq5uNBr2QCQi1R/cEDYMfB8kKqP12n1cDaLwdC2z+cP38RXMJ+DpxBNe8QQplZUsJgWyxC9yBeQvs650ABQAbCJVOpQebxQkHJkm7BcG6PwdFKycAGEBVCTZhLwpBx7cFRXCHByBACQq90J8G15I1Am7MrQmiVCcIdtibCH1ThwQSdir1sjhrCMikUwsaxJ8LAl/5BzXktQuyQ4cHgQxdCC/81QhygRcF6JmXCLBgJQuCFmUG5P0JBpfCnwH155UE6DjlCWKsUQuKT0EHnpro+v/yWQXkjGMLQPWbCzJc/wrheoME5KADCxUwxwnrgVkLbO69BHJAkQvEBWUIrT7bBSLo4wUX1AUFgS7rAhZStwT4rKkF2FbfBw+EsQpM7QMGDzDrCMFaNwAgGj0Bt3kPB2ikEwnos/b+kdEVB2inXwYEYF0DiwP3BfrCWP4SkFkGPnSvCYcA7QragF0IkMfLBaX3twZXQTcFY/cRBXjDAwe5NLMIK70ZBB8+uQKr3QcLTEwXBtOIVwTnYPELisHVB06fpQSfHHEKvNC5C8SnQwD2zPcAL/kTCfNhLQpTcxj09GJ1B22utPwt+BULKGQpCVnzqQa/FKEJboV/B3HyyQR+WJ8KiY+VBaOTYQYhuXsGKWf3BINklQoDiWULCXHJBLXLgwRq3TcK+UCjBTPT7Qdcc2UHe5II+/igjwtuMLEJVJrtBNJjbP6SsQkJDqydCMkAbQk0++MHKgK5B1682Qa9qjUEpUmhAF+sWQpCls8EPypHB0wnGwG1ma0DXZxdC04gHwqTacEEIkh1CjBGSwZptkMGzIk/CmnH4QORQckE5ddrBG383wYorFUJGl1lC1xjbPy7pIcJznpvBhUEOwjndNcJAEOJBEKeiwf6fvUEHAJ/B1RINQe3GR0GDVLJBPbJpQcd+T8KjDydC8NktQfVw7sB/mxHCnC0PwjGmgsBKDDfCsXAjwtsYLEJXbivCKr+lP8Dpi0H0MH5B7zsEQr8kY0ETcg3CPJFWQlF5BUJ+J4zBquz4QTMKGkH5GCTCeHNHQS93QkEZ7U7C4YEewgFkH8I+doJBraR2wWaKs8F0IyzCormZwWe9n8FPjqvB4wgjQJ2q+8Febh9Cl6+8wEn9gsEHqGdBePjHQR8MHELTF/vBebPoQCMT48GpMXDCtp0uwY/k6kFjaerBrrFbwRCLQMHuWlZC7pm4QVb2ZEHtiiZCoEUOwXFZr0GYEohB8flIwkR1zcGwO/xBNHnPQX8p7EEwRNjBzZYJwTITLELyKhFCa5fmwb1Brj8gKUzB0p5SQDhbOsCziy7CKUoRQs1Zs781cKNBPtyyQfcpAcF3XbNAM9lCwkmcDcBMVFdB0t8dwkBaVEHrdkFB07YbwtKq2cHioajBLSmiwSrPMz9ntKLB7YpLwhPFCUKmemNCjT/nQZqMCcKjrSXCqo9JwvTXf0H7RD/Cu7LBwZOkJkGdtlpCe0QEwpQmtEALyixC7ULOwKBjW0FoyV5BZUk1wu0nS8KZOCxByuS4wSJpLkJpJlpC76s4wnLd/kGcIT1CLMQYQiAvmcE6uznCn5BYQo4FrcHoZlBA2ueOwdu55EE+vh7CnCfDQdfKEEJbrjrC2bqKwRmTS774MiPCr0IWwHNG8kAREWJCJr9EwmwmM8LQr05B/hFAQUEHakE+nydBnXhwwS/Ki0FZq0lBkToTwqd8GkK/WYHB170pQaiiJ0LfPh3C8vEvQsDLwkH8o27BQNnZwZcgEkGe+H/BTX4LQU0gb0B/yaVBRZeNQU5OYcKJCglCZA8OQN9bbUEVlL9B/ipQwlKvM8IfyaxBjYj1QaMqQ0KjtZlBWAtcwu1iaMJwMnhBQhSpwKVfYsF1alfC5in0wYZzFMGMpkHCUEi1QQXBPEI2to9AKHXDQIJJokH2XzRC0KQnQRi6ZsLt7xHBWGTsQbWPSEEbsl7Ckw0Ywj9VO8IukFzCT0ZdwiJxz8C3bD3BNYMlQa9kWkKCZlTC6nOfwZUBI8Ixv4VBC40UQvioEMJgYFFB2hmUQeNO5MBMmX+/qCltvpjeyEDAfwlCT61uQQ5Lb8ECklzCheu7QcNDXcLVh4dBD/8aQMLHHkKPJJLB8gclQoz/nsAVn1nCKqYWwTjjTMK4oARCRLABQScABML6ixxC3tjLQdSVX8Ip32VCBKCnQDLgDsIeyadBw+VaQpNMjsAPPY/BGo49wZUtK8ITldhBRy/lQV5J4cDEe/9BToYgwkULUkIOhApC+MKswRqbDMK+zX9BX2dTwoOONUJHqJ1BrWFbQZvMB0Ixii1CTNFHwab7n8E0eBxCWOG5wcLUtcCF8qFBUncOQh/NJcL2w4bBxKjYwRRpwEHJDLNAdzqrQGkmBsLMkqjBZIilQYKQKsLz8nBBeTMlQNKkGcKR5BjCuDpswfaB9cEAAlrB31VnwSKRJsAm9iTCkf1qQV+HMMCwVotBB/JkQix8WELU81ZCfpTswJAeksAgfy/ClE89QkUjDEK1HH9BvB2RQUq1u79qIFHANN8/weZga8L4R2HCBAPNwDv0cr+s8ehB5oeZwW2hJ0JpS7/BfdclPxhQPUFFINnAPDCtP9zbIsIKisRBt6wzQkR7VEGEcVnC/PDswbgoUkJ/TwlCU9PcQa2vScHzCOA/YgUXQhc1s78tuhfCqQ1cQlQuHsEXLvNBclyjQWtfYUATWBFCOD+PQRk+QsLx2U3CJDRLwj0UrkH7IldCu/XHwdLFC8EfZldB5uJOwYnSLsL6EM9B3wwKwuKfCMGCDZvByuASQvQAE0KCGTnCdzzVQZ5kx8Fyap7BW6KpwTX/3EErn0DC+rgvwOWQjUH+5RrCXfjBwXqgDsJ5lwrCkY6SwVmWZkFBBPPB7R46QoMTMsJGqplB2n+qwUUip0Gs1sdBjT0UwrY1IEKFVqhBaL3KwCmPL0JmkY1B8McOQSARIUKYAplBN2aPQYLlJ8GzbVfC4g5TQWyJCcL46CdCWVsIQVXH20EIVVJCLkwCQTytGsKlrCRC4RGWQPY2JMBGiCbClO8LQt2YD8KOxyBB+rdIwoVJq0FbY/vA7s+BQUCDz0ENPDRCPUPtQBGYMMKQLZvA8P5nwQb9rsFD9y7C7bl1wcxpDkKizafBMrw5QOVDZcB9ajnBf+dXQhrAZsG3QSbBPzk7wuTuEkKPUUhBdnobwjVDsMEdM/RBkclQwWcMq0GgbRbCToGwQUlip8Bwe0LCfAa+QYbsA0La1MjB7IUHQgGMIULiqyfCpeIjwXobH0JcmkPCisnSQXlLy0DPwk8/080JQjX8I8LTko2/sQqSQRwgwkF6OArBADoawjlMlcDGQhPCckRuweq3FL9CQi3CWPpYwrEcwsFvLj7CuMEHwgXYJEHnh4JBYdNtwD7f9kElxB9A3cUkwvR11UHLMgjCeR75wFBKAcLq6kfCla0jQI6GCUJRzSDCiozAwVBOxkE9LixBqgyVwaN4I8JtxizCr+EcQj30DsFeSQnCHu0VwstMPcKLEzbC77olQm06JkIi1hVCTeufQXLmIkGQc5/AZuUiQLk/RcE3qLRBNt04wUmK0r88uSZC9qwBQnljU8I42p7BcToLwfTn+0HgPalA5RsZwoX3E0LrQlhAc4wLQqAHzMHjYnxB8rYBwqwVWUIAnSVCWT2iQZRuEMI3lDZCHKktwN3E2kFv5xLBxQJxQfADQsKv/ELB+Z2UwaArp8Hr0Co/XxMCQRcNfEHSlfbAV6+rQRaO3UGqbb7BeWDQwdz+g0FACR1CyQ1iwqtPPkKaMBnCzGdoQTy7a0H6WrzBJGLQwfB4nME9L7FBrirPQSDfykH0lYLBlQUdwUnViUErRzpBAtS5wanA48HXA9vBDhigQff630EjQwXCudFIwmJsnkEz87pAvwPaQaWEDsEQs0zCrp2JQSK5JML+udFBNW3YQUz8h8HiIgdC+7QDwkTFgkH4SINBEHpGwhd9CULq2CLCd7GsQaRIdb9swYvAmu5JwAuQKkC0EPJAs1udPqutSsIkavbARqroQTSsHkIkRdtBA0iAQdT600AupoxAPtkyQiOq18EoBZTBWjUnwY3HpEFFYjLBVIe7QSN6C0IVFeLBynwtwk0MlME7ZwJBhW0bwq8en8F5NJdAllQAPtSRSMFUNAZA484zwkQ5YsJjfRnA+i3AwZ19TkLGgVTCRZYnwUSZqkH9O2HCDZapQLzkgUECTcNAh7+kwUbgKMJ+UV/BrLk5QuO8xcGZzePAzbuewa/AE8LoVyXBL94Cwqa+/MBNzRzAREIBwufVvUCzS1LCTLaIQS/ioUBCvDVCzg0KQn2HBEJXrDnBXeRGwWPSUUFv/KTBs1dvQSOPBcKMwWjCqji0Qd0jm8FdVmbC8f6OQQxzxUHHc73Bh3ESQkwfNMLt/uXBgfzwwbG10D/kapdB8dVFQjgY3MHswp3BNd6cQET90cHmZZU+HOYAQso1OMIWcl7Be12KwXBwxEH7WV5CnmkLwmQlysD0unxBOQLMwCf01kAy5lfCtunJwXf/zMESvk/Cx5b7v+7C+UE/rju/PSGaQH5BDsIdYJhBmY51wXeZPUEvrp3AEK2jQQwtXsIIhzpC0KPIwWDHPMLdiTa/uiTnQY2urUEkNQ5CIu6RQLSrwEHVtv7BghCkwW2gCkG7UErByDUaQTZwYEFoCi9BW7HJwUFzSMFl5ffA/cwvQn8aKMHiiHfBCg65QTczkUD+D2lBGZ20waGuM8IkMy5CqxL4wUuGlsGoZCNBbafcwGLx1sGGepZBZHuXwOUAPcJEkhVB3rUKQe/V0EHD2alB4fWCwW9GYMJTguNB1RdDwuwVVcIMl7BBwYYGQvchwcH2XRBCn0y0QTmjv8E9WrQ/pTnywUM7ScKndMVBT29pwrMbMUETQRPCUakUwgBqIUC2wRJAsUJBwqgb90A4eeVBCu25wS8fx8FzSMlBtF8Cwq2Vk0Er+wJBdZ4hwjzKnEFeQgvBfF9FQZhVq8HBPDdCkb8RQqpVbcEeeZ/BSzlWwlU1G8GfI7nBRmAoQnvxkUHkO6FBowHJwZeOZ8FoMZxAnrSIwCXgoEGL9x3CRsdwwtzzsj6v1QPC3jNzwTGPisENoOHBNGy/QXcf+MGKZCpChLjoQTS5mMHUHo5B0BsUQlg11sCzajhCWJuWQP3UAsLI6n9Aq6CRwTtom0GfMwLC1T+RwK4nAUKmvVPCfCk1wmtVLMGpjSNC1A08QtIcX8ClhCdCchACwua0hkFpekvChQmLQfIK90EADwRAdSZWQh2OFEImMs1BWJYRwooissHaYqJB6YQJQkThWUJkGxDCRqhaQik/jsHSRRNAJPUNQvb9SsEGzVbCABnIv5DfCsGoz2ZB6QBewAZ77EEilFLAd76FwROdG8IMHgRCRyRIP6TzI8GSCu5BJHO9QZTw4kDs9MZBz453QHFkR0FBDh7CpxwmQp9BgMFFsUFCVXGvPhtCckHFjTrCW58gwdoKWcJACyrCxYGaQeEenMEJThVCns3QQXcGY0EySD7CyuAaQfDDA8HPbdhBWbQGwc81/sBivaRBLNDmwLxgJEJCEkjCe+6jwXO7VMJdoi5Cyo52wXuhQcI+fw/CQEvLwYnJ30E+eI9BsB3jwfa3fUH3avBA7ohkQYyhqMDPEf1Ba90DQSZdxcEsIuvBBm64QR+4RsJXDjDBFVsQwQ03AMIoPFtCXzIVwca0z8EjYClCt0D2wcZgX8L/oszBeAr6wR6QCcIwGu3BJG35we8/ecHGo2/CUBkCwn9S6cFOxb9BJGNMwSSWmkG83lLC1afSwf+l1EHektpBvYtLwhn0KEKClKBBFD+DQdkE60EHC8pBQ0gaQvz/D8Ix9wpCvxJKPi1rTsJlsKXBXiCOwRopIMLbNxDCju8twTXDzcECrmNBJa4Mwq5XPcIx/AXCmcbLQHH5A0IoUSNCfc2Gv5dmaEElQBVBkrLGQSUnxMGTB5PBoSDQQMBVVz8QS03BdU7LwX7N4EGfCqjBD/+zwE9hm8EERwZCqytbQAd36MC2gy9ClS0LQpU3iUF1EwpAZ+LVQSp7v8EqruNBJdIOwmiKxkHfJANCA2RxQdipQULJwWrC13QyQgGMx0Fn953AxDy9weo180GR+jDCbjcgwTfeVUBQL/xBf8vyv26ma76r2BnC6rw1wuiQZMLC3p/Baa8nwtQ/MsLfcRPCE25Hwru+00Eg+xRCYakswp6hAcIBiFDCVEm+P6c9E8IP5CPCJQSpQPc0ucEvDN1Bh2N4QWCCIUIUPZHBo9oDQn1vTMLXXxBC+1orQRP1tcHJP9rAxJ1gQFr2PMIoqCy/CtuXwe6fjsH/fsvBqTHeQXPuu0H6LefBlwVPvnt0EUE+MWRB+HJywT3oPUG1a+dBd3J2QW1FW71+XgrCNj7kQXuYVcJAN1LC5R2gwf9a5cG5B6pBRPTswBEehEB7ahNAqJ4gQr8UQULo9VJCAEubwRlCbEHM+cJB0wzSPhdjXkF2n0nADYeiwXnl/EGctQJCPDzJwHKhJ0JM+otBy4PHwJ2T5EGaHzBCwELtQWkGHsIpLAlC3qYQQpl1vkF/QsvBbycfwvE0zsG2TPDBqLEVwjxnHUL0s5JBNfrGQX2NTUECGoJBIcsPv7JUN0GcNhHCPWZVwfkSQsKK2avBvbSowRG/5cG9oxrBNOh7QUNSIUKbtLLAwqaUQdr4ukGmblzCpThUwoFxUkIWhO9AVAYswlzGmMEZcDtCX1hywQUuIUFQgDlCGe+VQehaKUFuv/RBl+qSv2qHM8I0YiLBc2caQcVP58A+g4XBWX3ywYb6AMLXkBVCE/ikQasrX0LvqSZCIeU1QJXfBr9DQCFCQZMJQt9GoL/0ZYXB8vn1QTRB9kF+jCtCBDoTwqychsHzJBNCZJjQwbSFPUL7yOhBxoeJQURxvEDgglLBZAMlwl8dGEENJ+zBk9uSQQlqzUF2iHVAQouwQdlWE8L65ULCoaa8Qac8IMHIxgZCX7YLQnCKWML8Q51Ba/h7QcD+vUGsK75AkAEkwQrSjcHKoeXBk8uUwJkZSsGvl8rBJELvwUIs60FtwftB7Uw2QnpkoUApDEvCvkoewtjCZ8JOKSDCFljeQPZVgEBf40ZBgqk0wqFZBcFj2gXCQfI9QYH8IsJUgIVBZjuTQQMPqkE/pLtBMcZEwhK5aMCjic3A9U9SQW20wsE2XD1BJx4BwlXIacIwf1dC88mywE6o58Fvpra//2Urwil/rUFngZxBhVIpQp3i8cH7HYBAgg8yQKpe9cANGRfCBaCAwfV/bcLUSMrBm6EZwUr3rMFrAmDCpyNtwo92okG0yAnCMQUpwrGUJb7OSRRBE+h0QVQXukHu/iRCQD3cvxw5U8IokKlBxIEzQjsRUEGQt3NB2MJRwl69H0LQQSDCqWjiwENkdEHNn1vCD4GqQcjj8kHoO0VC8ojuQSe82kHV7xDCmbk5Qiu1y0GyuLDBETAmQtkoT8KBBplAICgoQGN+4z+I2ZxBZ3MUweuv7EFFACzCm9PPQNCfSsIGulZCEr7iwQRwx0Fs+XRB2NCiwNy64MFeKvNAbBZCwJtizUDWFDpCT7pzQfXbLMJi4RxCmzSoPekyEEIsqRRCm9EoQe1L3MFyP53BryX4QWYZFkJ9EPTABCmWwUKVIsIS8EfCvRgPwvIsiUHU1elBhB0/wuJYSUHXjETCd+YYwe9e50GLpKs/gHvmPhvrD0EcQEhCC63Vwd5CD0HU+QVCJd/PQdXGcsKdoONB0tu8QRrcuUAVlxHCYMQ6wt0tbMG6GZbBKWSuQTJ3d8B0swRCRtBbQR7wCsIuVBTCySvywUN7iME59iTCChoBQoDlG8I+NBxCO3O3v4jWqMHkkpfBsyeeQXpPtEEdiLHBUpExwrWPQT+eijbCuE4nQmW/5EGj1EjBbdUdQcBw5MDysWLCB7KEQckF/sGe1w5BxKhOws8jAcHDozJAM8hswA==\",\"dtype\":\"float32\",\"order\":\"little\",\"shape\":[2560]},\"y\":{\"__ndarray__\":\"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\",\"dtype\":\"float32\",\"order\":\"little\",\"shape\":[2560]}},\"selected\":{\"id\":\"2501\"},\"selection_policy\":{\"id\":\"2502\"}},\"id\":\"2354\",\"type\":\"ColumnDataSource\"},{\"attributes\":{\"bottom_units\":\"screen\",\"fill_alpha\":0.5,\"fill_color\":\"lightgrey\",\"left_units\":\"screen\",\"level\":\"overlay\",\"line_alpha\":1.0,\"line_color\":\"black\",\"line_dash\":[4,4],\"line_width\":2,\"right_units\":\"screen\",\"syncable\":false,\"top_units\":\"screen\"},\"id\":\"2378\",\"type\":\"BoxAnnotation\"},{\"attributes\":{},\"id\":\"2362\",\"type\":\"LinearScale\"},{\"attributes\":{\"fill_alpha\":{\"value\":0.1},\"fill_color\":{\"field\":\"color\"},\"line_alpha\":{\"value\":0.1},\"line_color\":{\"field\":\"color\"},\"size\":{\"value\":10},\"x\":{\"field\":\"x\"},\"y\":{\"field\":\"y\"}},\"id\":\"2388\",\"type\":\"Scatter\"},{\"attributes\":{\"formatter\":{\"id\":\"2498\"},\"major_label_policy\":{\"id\":\"2497\"},\"ticker\":{\"id\":\"2369\"}},\"id\":\"2368\",\"type\":\"LinearAxis\"},{\"attributes\":{\"source\":{\"id\":\"2354\"}},\"id\":\"2390\",\"type\":\"CDSView\"},{\"attributes\":{\"overlay\":{\"id\":\"2378\"}},\"id\":\"2374\",\"type\":\"BoxZoomTool\"},{\"attributes\":{},\"id\":\"2502\",\"type\":\"UnionRenderers\"},{\"attributes\":{},\"id\":\"2365\",\"type\":\"BasicTicker\"},{\"attributes\":{},\"id\":\"2369\",\"type\":\"BasicTicker\"},{\"attributes\":{\"active_multi\":null,\"active_scroll\":{\"id\":\"2373\"},\"tools\":[{\"id\":\"2372\"},{\"id\":\"2373\"},{\"id\":\"2374\"},{\"id\":\"2375\"},{\"id\":\"2376\"},{\"id\":\"2377\"},{\"id\":\"2391\"}]},\"id\":\"2379\",\"type\":\"Toolbar\"},{\"attributes\":{},\"id\":\"2372\",\"type\":\"PanTool\"}],\"root_ids\":[\"2355\"]},\"title\":\"Bokeh Application\",\"version\":\"2.3.3\"}};\n",
       "  var render_items = [{\"docid\":\"7141fc5e-ae2f-414b-8dd3-1d9e2956cd1f\",\"root_ids\":[\"2355\"],\"roots\":{\"2355\":\"8c491ec8-f40a-4807-98f9-4dfba14a6a3e\"}}];\n",
       "  root.Bokeh.embed.embed_items_notebook(docs_json, render_items);\n",
       "\n",
       "  }\n",
       "  if (root.Bokeh !== undefined) {\n",
       "    embed_document(root);\n",
       "  } else {\n",
       "    var attempts = 0;\n",
       "    var timer = setInterval(function(root) {\n",
       "      if (root.Bokeh !== undefined) {\n",
       "        clearInterval(timer);\n",
       "        embed_document(root);\n",
       "      } else {\n",
       "        attempts++;\n",
       "        if (attempts > 100) {\n",
       "          clearInterval(timer);\n",
       "          console.log(\"Bokeh: ERROR: Unable to run BokehJS code because BokehJS library is missing\");\n",
       "        }\n",
       "      }\n",
       "    }, 10, root)\n",
       "  }\n",
       "})(window);"
      ],
      "application/vnd.bokehjs_exec.v0+json": ""
     },
     "metadata": {
      "application/vnd.bokehjs_exec.v0+json": {
       "id": "2355"
      }
     },
     "output_type": "display_data"
    }
   ],
   "source": [
    "draw_vectors(\n",
    "    examples[\"transformed_features\"][:, 0], \n",
    "    examples[\"transformed_features\"][:, 1], \n",
    "    color=[[\"red\", \"blue\"][t] for t in examples[\"targets\"]]\n",
    "    );"
   ]
  },
  {
   "cell_type": "code",
   "execution_count": 420,
   "metadata": {},
   "outputs": [],
   "source": [
    "batch_size = 1024\n",
    "num_workers = 4\n",
    "\n",
    "def average_emb(batch):\n",
    "    features = [np.mean(b[\"feature\"], axis=0) for b in batch]\n",
    "    targets = [b[\"target\"] for b in batch]\n",
    "\n",
    "    return {\"features\": torch.FloatTensor(features), \"targets\": torch.LongTensor(targets)}\n",
    "\n",
    "\n",
    "train_size = math.ceil(len(dev) * 0.8)\n",
    "\n",
    "train, valid = random_split(dev, [train_size, len(dev) - train_size])\n",
    "\n",
    "train_loader = DataLoader(train, batch_size=batch_size, num_workers=num_workers, shuffle=True, drop_last=True, collate_fn=average_emb)\n",
    "valid_loader = DataLoader(valid, batch_size=batch_size, num_workers=num_workers, shuffle=False, drop_last=False, collate_fn=average_emb)"
   ]
  },
  {
   "cell_type": "code",
   "execution_count": 421,
   "metadata": {},
   "outputs": [],
   "source": [
    "vector_size = dev.word2vec.vector_size\n",
    "num_classes = 1\n",
    "lr = 1e-3\n",
    "num_epochs = 5\n",
    "\n",
    "model = nn.Sequential(\n",
    "    nn.Linear(vector_size, 128),\n",
    "    nn.ReLU(),\n",
    "    nn.Linear(128, 64),\n",
    "    nn.ReLU(),\n",
    "    nn.Linear(64, num_classes),\n",
    "    nn.Sigmoid())\n",
    "model = model.cuda()\n",
    "criterion = nn.BCELoss()# Твой лосс\n",
    "optimizer = Adam(model.parameters(), lr=lr)# Твой оптимайзер"
   ]
  },
  {
   "cell_type": "code",
   "execution_count": 422,
   "metadata": {},
   "outputs": [
    {
     "data": {
      "application/vnd.jupyter.widget-view+json": {
       "model_id": "e40c4d41538c4d4cbad623ccfd08f065",
       "version_major": 2,
       "version_minor": 0
      },
      "text/plain": [
       "HBox(children=(FloatProgress(value=0.0, description='Epoch 1. Train Loss: 0', max=1000.0, style=ProgressStyle(…"
      ]
     },
     "metadata": {},
     "output_type": "display_data"
    },
    {
     "name": "stdout",
     "output_type": "stream",
     "text": [
      "\n"
     ]
    },
    {
     "data": {
      "application/vnd.jupyter.widget-view+json": {
       "model_id": "315c61bcc0174bccb7e4fce6a2558fba",
       "version_major": 2,
       "version_minor": 0
      },
      "text/plain": [
       "HBox(children=(FloatProgress(value=0.0, description='Test Loss: 0, Test Acc: 0', max=250.0, style=ProgressStyl…"
      ]
     },
     "metadata": {},
     "output_type": "display_data"
    },
    {
     "name": "stdout",
     "output_type": "stream",
     "text": [
      "\n",
      "{'Test Loss': 0.5138566032648086, 'Test Acc': 0.74311328125}\n"
     ]
    },
    {
     "data": {
      "application/vnd.jupyter.widget-view+json": {
       "model_id": "ceb22e0452a24e0b912b21bedd7d7037",
       "version_major": 2,
       "version_minor": 0
      },
      "text/plain": [
       "HBox(children=(FloatProgress(value=0.0, description='Epoch 2. Train Loss: 0', max=1000.0, style=ProgressStyle(…"
      ]
     },
     "metadata": {},
     "output_type": "display_data"
    },
    {
     "name": "stdout",
     "output_type": "stream",
     "text": [
      "\n"
     ]
    },
    {
     "data": {
      "application/vnd.jupyter.widget-view+json": {
       "model_id": "b1e507be8d1e4349ad8175418036c466",
       "version_major": 2,
       "version_minor": 0
      },
      "text/plain": [
       "HBox(children=(FloatProgress(value=0.0, description='Test Loss: 0, Test Acc: 0', max=250.0, style=ProgressStyl…"
      ]
     },
     "metadata": {},
     "output_type": "display_data"
    },
    {
     "name": "stdout",
     "output_type": "stream",
     "text": [
      "\n",
      "{'Test Loss': 0.5090950635671616, 'Test Acc': 0.74621875}\n"
     ]
    },
    {
     "data": {
      "application/vnd.jupyter.widget-view+json": {
       "model_id": "b1ee2e988fdb45619bbbe4f673609cbe",
       "version_major": 2,
       "version_minor": 0
      },
      "text/plain": [
       "HBox(children=(FloatProgress(value=0.0, description='Epoch 3. Train Loss: 0', max=1000.0, style=ProgressStyle(…"
      ]
     },
     "metadata": {},
     "output_type": "display_data"
    },
    {
     "name": "stdout",
     "output_type": "stream",
     "text": [
      "\n"
     ]
    },
    {
     "data": {
      "application/vnd.jupyter.widget-view+json": {
       "model_id": "100e378ef95b4918b11dab6c4bfb423f",
       "version_major": 2,
       "version_minor": 0
      },
      "text/plain": [
       "HBox(children=(FloatProgress(value=0.0, description='Test Loss: 0, Test Acc: 0', max=250.0, style=ProgressStyl…"
      ]
     },
     "metadata": {},
     "output_type": "display_data"
    },
    {
     "name": "stdout",
     "output_type": "stream",
     "text": [
      "\n",
      "{'Test Loss': 0.5047427283525467, 'Test Acc': 0.7496015625}\n"
     ]
    },
    {
     "data": {
      "application/vnd.jupyter.widget-view+json": {
       "model_id": "d7e189346a624d69a2ad40f981ee08f6",
       "version_major": 2,
       "version_minor": 0
      },
      "text/plain": [
       "HBox(children=(FloatProgress(value=0.0, description='Epoch 4. Train Loss: 0', max=1000.0, style=ProgressStyle(…"
      ]
     },
     "metadata": {},
     "output_type": "display_data"
    },
    {
     "name": "stdout",
     "output_type": "stream",
     "text": [
      "\n"
     ]
    },
    {
     "data": {
      "application/vnd.jupyter.widget-view+json": {
       "model_id": "d161d98d5bf14b50bd3401826e179740",
       "version_major": 2,
       "version_minor": 0
      },
      "text/plain": [
       "HBox(children=(FloatProgress(value=0.0, description='Test Loss: 0, Test Acc: 0', max=250.0, style=ProgressStyl…"
      ]
     },
     "metadata": {},
     "output_type": "display_data"
    },
    {
     "name": "stdout",
     "output_type": "stream",
     "text": [
      "\n",
      "{'Test Loss': 0.5076169843673706, 'Test Acc': 0.74712109375}\n"
     ]
    },
    {
     "data": {
      "application/vnd.jupyter.widget-view+json": {
       "model_id": "def82032c8564ef2a5787051d362a08b",
       "version_major": 2,
       "version_minor": 0
      },
      "text/plain": [
       "HBox(children=(FloatProgress(value=0.0, description='Epoch 5. Train Loss: 0', max=1000.0, style=ProgressStyle(…"
      ]
     },
     "metadata": {},
     "output_type": "display_data"
    },
    {
     "name": "stdout",
     "output_type": "stream",
     "text": [
      "\n"
     ]
    },
    {
     "data": {
      "application/vnd.jupyter.widget-view+json": {
       "model_id": "ce716900d0f14ab5985d95d4fec415f5",
       "version_major": 2,
       "version_minor": 0
      },
      "text/plain": [
       "HBox(children=(FloatProgress(value=0.0, description='Test Loss: 0, Test Acc: 0', max=250.0, style=ProgressStyl…"
      ]
     },
     "metadata": {},
     "output_type": "display_data"
    },
    {
     "name": "stdout",
     "output_type": "stream",
     "text": [
      "\n",
      "{'Test Loss': 0.5008482927083969, 'Test Acc': 0.75103125}\n"
     ]
    }
   ],
   "source": [
    "best_metric = np.inf\n",
    "for e in range(num_epochs):\n",
    "    training(model, optimizer, criterion, train_loader, e, device)\n",
    "    log = testing(model, criterion, valid_loader, device)\n",
    "    print(log)\n",
    "    if log[\"Test Loss\"] < best_metric:\n",
    "        torch.save(model.state_dict(), \"model.pt\")\n",
    "        best_metric = log[\"Test Loss\"]"
   ]
  },
  {
   "cell_type": "code",
   "execution_count": 423,
   "metadata": {},
   "outputs": [
    {
     "data": {
      "application/vnd.jupyter.widget-view+json": {
       "model_id": "57a963dc471548dea1e91920187f1f73",
       "version_major": 2,
       "version_minor": 0
      },
      "text/plain": [
       "HBox(children=(FloatProgress(value=0.0, description='Test Loss: 0, Test Acc: 0', max=313.0, style=ProgressStyl…"
      ]
     },
     "metadata": {},
     "output_type": "display_data"
    },
    {
     "name": "stdout",
     "output_type": "stream",
     "text": [
      "\n",
      "{'Test Loss': 0.501602554283203, 'Test Acc': 0.7512355231629393}\n"
     ]
    }
   ],
   "source": [
    "test_loader = DataLoader(\n",
    "    TwitterDataset_1(test_data, \"text\", \"emotion\", word2vec), \n",
    "    batch_size=batch_size, \n",
    "    num_workers=num_workers, \n",
    "    shuffle=False,\n",
    "    drop_last=False, \n",
    "    collate_fn=average_emb)\n",
    "\n",
    "model.load_state_dict(torch.load(\"model.pt\", map_location=device))\n",
    "\n",
    "print(testing(model, criterion, test_loader, device=device))"
   ]
  },
  {
   "cell_type": "code",
   "execution_count": null,
   "metadata": {},
   "outputs": [],
   "source": []
  },
  {
   "cell_type": "code",
   "execution_count": null,
   "metadata": {},
   "outputs": [],
   "source": []
  },
  {
   "cell_type": "markdown",
   "metadata": {},
   "source": [
    "# Tf-idf"
   ]
  },
  {
   "cell_type": "code",
   "execution_count": 265,
   "metadata": {},
   "outputs": [],
   "source": [
    "from sklearn.feature_extraction.text import TfidfVectorizer"
   ]
  },
  {
   "cell_type": "code",
   "execution_count": 341,
   "metadata": {},
   "outputs": [
    {
     "name": "stdout",
     "output_type": "stream",
     "text": [
      "(1280000, 589604)\n"
     ]
    }
   ],
   "source": [
    "vectorizer = TfidfVectorizer()\n",
    "X = vectorizer.fit_transform(dev_data['text'])\n",
    "\n",
    "print(X.shape)"
   ]
  },
  {
   "cell_type": "code",
   "execution_count": 342,
   "metadata": {},
   "outputs": [],
   "source": [
    "#!pip install sparsesvd"
   ]
  },
  {
   "cell_type": "code",
   "execution_count": 343,
   "metadata": {},
   "outputs": [],
   "source": [
    "from sparsesvd import sparsesvd\n",
    "import scipy\n",
    "from scipy.spatial import distance"
   ]
  },
  {
   "cell_type": "code",
   "execution_count": 344,
   "metadata": {},
   "outputs": [],
   "source": [
    "ut, s, vt = sparsesvd(scipy.sparse.csc_matrix(X), 100) # do SVD, asking for 100 factors"
   ]
  },
  {
   "cell_type": "code",
   "execution_count": 395,
   "metadata": {},
   "outputs": [
    {
     "data": {
      "text/plain": [
       "(100, 589604)"
      ]
     },
     "execution_count": 395,
     "metadata": {},
     "output_type": "execute_result"
    }
   ],
   "source": [
    "vt.shape"
   ]
  },
  {
   "cell_type": "code",
   "execution_count": 396,
   "metadata": {
    "scrolled": true
   },
   "outputs": [],
   "source": [
    "tf_idf_emb = {}\n",
    "i = 0\n",
    "for w in vectorizer.get_feature_names():\n",
    "    tf_idf_emb[w] = vt[:, i]\n",
    "    i += 1"
   ]
  },
  {
   "cell_type": "code",
   "execution_count": 397,
   "metadata": {},
   "outputs": [
    {
     "data": {
      "text/plain": [
       "True"
      ]
     },
     "execution_count": 397,
     "metadata": {},
     "output_type": "execute_result"
    }
   ],
   "source": [
    "'cat' in tf_idf_emb"
   ]
  },
  {
   "cell_type": "markdown",
   "metadata": {},
   "source": [
    "### Посмотрим, что tf-idf получился разумным"
   ]
  },
  {
   "cell_type": "code",
   "execution_count": 398,
   "metadata": {},
   "outputs": [
    {
     "data": {
      "text/plain": [
       "1.0"
      ]
     },
     "execution_count": 398,
     "metadata": {},
     "output_type": "execute_result"
    }
   ],
   "source": [
    "1 - distance.cosine(tf_idf_emb['dog'], tf_idf_emb['dog'])"
   ]
  },
  {
   "cell_type": "code",
   "execution_count": 399,
   "metadata": {},
   "outputs": [
    {
     "data": {
      "text/plain": [
       "0.9225991767080144"
      ]
     },
     "execution_count": 399,
     "metadata": {},
     "output_type": "execute_result"
    }
   ],
   "source": [
    "1 - distance.cosine(tf_idf_emb['dog'], tf_idf_emb['cat'])"
   ]
  },
  {
   "cell_type": "code",
   "execution_count": 400,
   "metadata": {},
   "outputs": [
    {
     "data": {
      "text/plain": [
       "0.15761865915595763"
      ]
     },
     "execution_count": 400,
     "metadata": {},
     "output_type": "execute_result"
    }
   ],
   "source": [
    "1 - distance.cosine(tf_idf_emb['dog'], tf_idf_emb['apple'])"
   ]
  },
  {
   "cell_type": "code",
   "execution_count": 401,
   "metadata": {},
   "outputs": [],
   "source": [
    "class TwitterDataset_2(Dataset):\n",
    "    \n",
    "    \n",
    "    def __init__(self, data: \n",
    "                 pd.DataFrame, \n",
    "                 feature_column: str, \n",
    "                 target_column: str, \n",
    "                 word2vec: gensim.models.Word2Vec, \n",
    "                 tf_idf: dict\n",
    "                ):\n",
    "        self.tokenizer = nltk.WordPunctTokenizer()\n",
    "        \n",
    "        self.data = data\n",
    "\n",
    "        self.feature_column = feature_column\n",
    "        self.target_column = target_column\n",
    "\n",
    "        self.word2vec = word2vec\n",
    "        self.tf_idf = tf_idf\n",
    "\n",
    "        self.label2num = lambda label: 0 if label == 0 else 1\n",
    "        self.mean = np.mean(word2vec.vectors, axis=0)\n",
    "        self.std = np.std(word2vec.vectors, axis=0)\n",
    "\n",
    "        \n",
    "    def __getitem__(self, item):\n",
    "        text = self.data[self.feature_column][item]\n",
    "        label = self.label2num(self.data[self.target_column][item])\n",
    "\n",
    "        tokens = self.get_tokens_(text)\n",
    "        embeddings = self.get_embeddings_(tokens)\n",
    "\n",
    "        return {\"feature\": embeddings, \"target\": label}\n",
    "\n",
    "    \n",
    "    def get_tokens_(self, text):\n",
    "        # Получи все токены из текста и профильтруй их\n",
    "        tokenizer = nltk.WordPunctTokenizer()\n",
    "        tokens = tokenizer.tokenize(text.lower())\n",
    "        filtered_tokens = [w for w in tokens if all(c not in string.punctuation for c in w) and len(w) > 3]\n",
    "        \n",
    "        return filtered_tokens\n",
    "\n",
    "        \n",
    "    def get_embeddings_(self, tokens):\n",
    "        w_size = 3\n",
    "        embeddings = []\n",
    "\n",
    "        for i in range(len(tokens)):\n",
    "            if tokens[i] in self.word2vec and tokens[i] in self.tf_idf:\n",
    "                embeddings.append(self.word2vec.get_vector(tokens[i]) + self.tf_idf[tokens[i]])\n",
    "            elif tokens[i] in self.tf_idf:\n",
    "                embeddings.append(self.tf_idf[tokens[i]])\n",
    "        \n",
    "        if len(embeddings) == 0:\n",
    "            embeddings = np.zeros((1, self.word2vec.vector_size))\n",
    "        else:\n",
    "            embeddings = np.array(embeddings)\n",
    "            if len(embeddings.shape) == 1:\n",
    "                embeddings = embeddings.reshape(-1, 1)\n",
    "                \n",
    "        return embeddings\n",
    "\n",
    "    def __len__(self):\n",
    "        return self.data.shape[0]"
   ]
  },
  {
   "cell_type": "code",
   "execution_count": 358,
   "metadata": {},
   "outputs": [],
   "source": [
    "dev = TwitterDataset_2(dev_data, \"text\", \"emotion\", word2vec, tf_idf_emb)"
   ]
  },
  {
   "cell_type": "code",
   "execution_count": 402,
   "metadata": {},
   "outputs": [
    {
     "name": "stdout",
     "output_type": "stream",
     "text": [
      "1280\n"
     ]
    }
   ],
   "source": [
    "indexes = np.arange(len(dev))\n",
    "np.random.shuffle(indexes)\n",
    "example_indexes = indexes[::1000]\n",
    "\n",
    "examples = {\"features\": [np.sum(dev[i][\"feature\"], axis=0) for i in example_indexes], \n",
    "            \"targets\": [dev[i][\"target\"] for i in example_indexes]}\n",
    "print(len(examples[\"features\"]))"
   ]
  },
  {
   "cell_type": "code",
   "execution_count": 403,
   "metadata": {},
   "outputs": [],
   "source": [
    "tsne = TSNE(n_components=2)\n",
    "examples[\"transformed_features\"] = tsne.fit_transform(examples['features'])"
   ]
  },
  {
   "cell_type": "code",
   "execution_count": 404,
   "metadata": {},
   "outputs": [
    {
     "data": {
      "text/html": [
       "\n",
       "    <div class=\"bk-root\">\n",
       "        <a href=\"https://bokeh.org\" target=\"_blank\" class=\"bk-logo bk-logo-small bk-logo-notebook\"></a>\n",
       "        <span id=\"2159\">Loading BokehJS ...</span>\n",
       "    </div>"
      ]
     },
     "metadata": {},
     "output_type": "display_data"
    },
    {
     "data": {
      "application/javascript": [
       "\n",
       "(function(root) {\n",
       "  function now() {\n",
       "    return new Date();\n",
       "  }\n",
       "\n",
       "  var force = true;\n",
       "\n",
       "  if (typeof root._bokeh_onload_callbacks === \"undefined\" || force === true) {\n",
       "    root._bokeh_onload_callbacks = [];\n",
       "    root._bokeh_is_loading = undefined;\n",
       "  }\n",
       "\n",
       "  var JS_MIME_TYPE = 'application/javascript';\n",
       "  var HTML_MIME_TYPE = 'text/html';\n",
       "  var EXEC_MIME_TYPE = 'application/vnd.bokehjs_exec.v0+json';\n",
       "  var CLASS_NAME = 'output_bokeh rendered_html';\n",
       "\n",
       "  /**\n",
       "   * Render data to the DOM node\n",
       "   */\n",
       "  function render(props, node) {\n",
       "    var script = document.createElement(\"script\");\n",
       "    node.appendChild(script);\n",
       "  }\n",
       "\n",
       "  /**\n",
       "   * Handle when an output is cleared or removed\n",
       "   */\n",
       "  function handleClearOutput(event, handle) {\n",
       "    var cell = handle.cell;\n",
       "\n",
       "    var id = cell.output_area._bokeh_element_id;\n",
       "    var server_id = cell.output_area._bokeh_server_id;\n",
       "    // Clean up Bokeh references\n",
       "    if (id != null && id in Bokeh.index) {\n",
       "      Bokeh.index[id].model.document.clear();\n",
       "      delete Bokeh.index[id];\n",
       "    }\n",
       "\n",
       "    if (server_id !== undefined) {\n",
       "      // Clean up Bokeh references\n",
       "      var cmd = \"from bokeh.io.state import curstate; print(curstate().uuid_to_server['\" + server_id + \"'].get_sessions()[0].document.roots[0]._id)\";\n",
       "      cell.notebook.kernel.execute(cmd, {\n",
       "        iopub: {\n",
       "          output: function(msg) {\n",
       "            var id = msg.content.text.trim();\n",
       "            if (id in Bokeh.index) {\n",
       "              Bokeh.index[id].model.document.clear();\n",
       "              delete Bokeh.index[id];\n",
       "            }\n",
       "          }\n",
       "        }\n",
       "      });\n",
       "      // Destroy server and session\n",
       "      var cmd = \"import bokeh.io.notebook as ion; ion.destroy_server('\" + server_id + \"')\";\n",
       "      cell.notebook.kernel.execute(cmd);\n",
       "    }\n",
       "  }\n",
       "\n",
       "  /**\n",
       "   * Handle when a new output is added\n",
       "   */\n",
       "  function handleAddOutput(event, handle) {\n",
       "    var output_area = handle.output_area;\n",
       "    var output = handle.output;\n",
       "\n",
       "    // limit handleAddOutput to display_data with EXEC_MIME_TYPE content only\n",
       "    if ((output.output_type != \"display_data\") || (!Object.prototype.hasOwnProperty.call(output.data, EXEC_MIME_TYPE))) {\n",
       "      return\n",
       "    }\n",
       "\n",
       "    var toinsert = output_area.element.find(\".\" + CLASS_NAME.split(' ')[0]);\n",
       "\n",
       "    if (output.metadata[EXEC_MIME_TYPE][\"id\"] !== undefined) {\n",
       "      toinsert[toinsert.length - 1].firstChild.textContent = output.data[JS_MIME_TYPE];\n",
       "      // store reference to embed id on output_area\n",
       "      output_area._bokeh_element_id = output.metadata[EXEC_MIME_TYPE][\"id\"];\n",
       "    }\n",
       "    if (output.metadata[EXEC_MIME_TYPE][\"server_id\"] !== undefined) {\n",
       "      var bk_div = document.createElement(\"div\");\n",
       "      bk_div.innerHTML = output.data[HTML_MIME_TYPE];\n",
       "      var script_attrs = bk_div.children[0].attributes;\n",
       "      for (var i = 0; i < script_attrs.length; i++) {\n",
       "        toinsert[toinsert.length - 1].firstChild.setAttribute(script_attrs[i].name, script_attrs[i].value);\n",
       "        toinsert[toinsert.length - 1].firstChild.textContent = bk_div.children[0].textContent\n",
       "      }\n",
       "      // store reference to server id on output_area\n",
       "      output_area._bokeh_server_id = output.metadata[EXEC_MIME_TYPE][\"server_id\"];\n",
       "    }\n",
       "  }\n",
       "\n",
       "  function register_renderer(events, OutputArea) {\n",
       "\n",
       "    function append_mime(data, metadata, element) {\n",
       "      // create a DOM node to render to\n",
       "      var toinsert = this.create_output_subarea(\n",
       "        metadata,\n",
       "        CLASS_NAME,\n",
       "        EXEC_MIME_TYPE\n",
       "      );\n",
       "      this.keyboard_manager.register_events(toinsert);\n",
       "      // Render to node\n",
       "      var props = {data: data, metadata: metadata[EXEC_MIME_TYPE]};\n",
       "      render(props, toinsert[toinsert.length - 1]);\n",
       "      element.append(toinsert);\n",
       "      return toinsert\n",
       "    }\n",
       "\n",
       "    /* Handle when an output is cleared or removed */\n",
       "    events.on('clear_output.CodeCell', handleClearOutput);\n",
       "    events.on('delete.Cell', handleClearOutput);\n",
       "\n",
       "    /* Handle when a new output is added */\n",
       "    events.on('output_added.OutputArea', handleAddOutput);\n",
       "\n",
       "    /**\n",
       "     * Register the mime type and append_mime function with output_area\n",
       "     */\n",
       "    OutputArea.prototype.register_mime_type(EXEC_MIME_TYPE, append_mime, {\n",
       "      /* Is output safe? */\n",
       "      safe: true,\n",
       "      /* Index of renderer in `output_area.display_order` */\n",
       "      index: 0\n",
       "    });\n",
       "  }\n",
       "\n",
       "  // register the mime type if in Jupyter Notebook environment and previously unregistered\n",
       "  if (root.Jupyter !== undefined) {\n",
       "    var events = require('base/js/events');\n",
       "    var OutputArea = require('notebook/js/outputarea').OutputArea;\n",
       "\n",
       "    if (OutputArea.prototype.mime_types().indexOf(EXEC_MIME_TYPE) == -1) {\n",
       "      register_renderer(events, OutputArea);\n",
       "    }\n",
       "  }\n",
       "\n",
       "  \n",
       "  if (typeof (root._bokeh_timeout) === \"undefined\" || force === true) {\n",
       "    root._bokeh_timeout = Date.now() + 5000;\n",
       "    root._bokeh_failed_load = false;\n",
       "  }\n",
       "\n",
       "  var NB_LOAD_WARNING = {'data': {'text/html':\n",
       "     \"<div style='background-color: #fdd'>\\n\"+\n",
       "     \"<p>\\n\"+\n",
       "     \"BokehJS does not appear to have successfully loaded. If loading BokehJS from CDN, this \\n\"+\n",
       "     \"may be due to a slow or bad network connection. Possible fixes:\\n\"+\n",
       "     \"</p>\\n\"+\n",
       "     \"<ul>\\n\"+\n",
       "     \"<li>re-rerun `output_notebook()` to attempt to load from CDN again, or</li>\\n\"+\n",
       "     \"<li>use INLINE resources instead, as so:</li>\\n\"+\n",
       "     \"</ul>\\n\"+\n",
       "     \"<code>\\n\"+\n",
       "     \"from bokeh.resources import INLINE\\n\"+\n",
       "     \"output_notebook(resources=INLINE)\\n\"+\n",
       "     \"</code>\\n\"+\n",
       "     \"</div>\"}};\n",
       "\n",
       "  function display_loaded() {\n",
       "    var el = document.getElementById(\"2159\");\n",
       "    if (el != null) {\n",
       "      el.textContent = \"BokehJS is loading...\";\n",
       "    }\n",
       "    if (root.Bokeh !== undefined) {\n",
       "      if (el != null) {\n",
       "        el.textContent = \"BokehJS \" + root.Bokeh.version + \" successfully loaded.\";\n",
       "      }\n",
       "    } else if (Date.now() < root._bokeh_timeout) {\n",
       "      setTimeout(display_loaded, 100)\n",
       "    }\n",
       "  }\n",
       "\n",
       "\n",
       "  function run_callbacks() {\n",
       "    try {\n",
       "      root._bokeh_onload_callbacks.forEach(function(callback) {\n",
       "        if (callback != null)\n",
       "          callback();\n",
       "      });\n",
       "    } finally {\n",
       "      delete root._bokeh_onload_callbacks\n",
       "    }\n",
       "    console.debug(\"Bokeh: all callbacks have finished\");\n",
       "  }\n",
       "\n",
       "  function load_libs(css_urls, js_urls, callback) {\n",
       "    if (css_urls == null) css_urls = [];\n",
       "    if (js_urls == null) js_urls = [];\n",
       "\n",
       "    root._bokeh_onload_callbacks.push(callback);\n",
       "    if (root._bokeh_is_loading > 0) {\n",
       "      console.debug(\"Bokeh: BokehJS is being loaded, scheduling callback at\", now());\n",
       "      return null;\n",
       "    }\n",
       "    if (js_urls == null || js_urls.length === 0) {\n",
       "      run_callbacks();\n",
       "      return null;\n",
       "    }\n",
       "    console.debug(\"Bokeh: BokehJS not loaded, scheduling load and callback at\", now());\n",
       "    root._bokeh_is_loading = css_urls.length + js_urls.length;\n",
       "\n",
       "    function on_load() {\n",
       "      root._bokeh_is_loading--;\n",
       "      if (root._bokeh_is_loading === 0) {\n",
       "        console.debug(\"Bokeh: all BokehJS libraries/stylesheets loaded\");\n",
       "        run_callbacks()\n",
       "      }\n",
       "    }\n",
       "\n",
       "    function on_error(url) {\n",
       "      console.error(\"failed to load \" + url);\n",
       "    }\n",
       "\n",
       "    for (let i = 0; i < css_urls.length; i++) {\n",
       "      const url = css_urls[i];\n",
       "      const element = document.createElement(\"link\");\n",
       "      element.onload = on_load;\n",
       "      element.onerror = on_error.bind(null, url);\n",
       "      element.rel = \"stylesheet\";\n",
       "      element.type = \"text/css\";\n",
       "      element.href = url;\n",
       "      console.debug(\"Bokeh: injecting link tag for BokehJS stylesheet: \", url);\n",
       "      document.body.appendChild(element);\n",
       "    }\n",
       "\n",
       "    const hashes = {\"https://cdn.bokeh.org/bokeh/release/bokeh-2.3.3.min.js\": \"dM3QQsP+wXdHg42wTqW85BjZQdLNNIXqlPw/BgKoExPmTG7ZLML4EGqLMfqHT6ON\", \"https://cdn.bokeh.org/bokeh/release/bokeh-tables-2.3.3.min.js\": \"8x57I4YuIfu8XyZfFo0XVr2WAT8EK4rh/uDe3wF7YuW2FNUSNEpJbsPaB1nJ2fz2\", \"https://cdn.bokeh.org/bokeh/release/bokeh-widgets-2.3.3.min.js\": \"3QTqdz9LyAm2i0sG5XTePsHec3UHWwVsrOL68SYRoAXsafvfAyqtQ+h440+qIBhS\"};\n",
       "\n",
       "    for (let i = 0; i < js_urls.length; i++) {\n",
       "      const url = js_urls[i];\n",
       "      const element = document.createElement('script');\n",
       "      element.onload = on_load;\n",
       "      element.onerror = on_error.bind(null, url);\n",
       "      element.async = false;\n",
       "      element.src = url;\n",
       "      if (url in hashes) {\n",
       "        element.crossOrigin = \"anonymous\";\n",
       "        element.integrity = \"sha384-\" + hashes[url];\n",
       "      }\n",
       "      console.debug(\"Bokeh: injecting script tag for BokehJS library: \", url);\n",
       "      document.head.appendChild(element);\n",
       "    }\n",
       "  };\n",
       "\n",
       "  function inject_raw_css(css) {\n",
       "    const element = document.createElement(\"style\");\n",
       "    element.appendChild(document.createTextNode(css));\n",
       "    document.body.appendChild(element);\n",
       "  }\n",
       "\n",
       "  \n",
       "  var js_urls = [\"https://cdn.bokeh.org/bokeh/release/bokeh-2.3.3.min.js\", \"https://cdn.bokeh.org/bokeh/release/bokeh-widgets-2.3.3.min.js\", \"https://cdn.bokeh.org/bokeh/release/bokeh-tables-2.3.3.min.js\"];\n",
       "  var css_urls = [];\n",
       "  \n",
       "\n",
       "  var inline_js = [\n",
       "    function(Bokeh) {\n",
       "      Bokeh.set_log_level(\"info\");\n",
       "    },\n",
       "    function(Bokeh) {\n",
       "    \n",
       "    \n",
       "    }\n",
       "  ];\n",
       "\n",
       "  function run_inline_js() {\n",
       "    \n",
       "    if (root.Bokeh !== undefined || force === true) {\n",
       "      \n",
       "    for (var i = 0; i < inline_js.length; i++) {\n",
       "      inline_js[i].call(root, root.Bokeh);\n",
       "    }\n",
       "    if (force === true) {\n",
       "        display_loaded();\n",
       "      }} else if (Date.now() < root._bokeh_timeout) {\n",
       "      setTimeout(run_inline_js, 100);\n",
       "    } else if (!root._bokeh_failed_load) {\n",
       "      console.log(\"Bokeh: BokehJS failed to load within specified timeout.\");\n",
       "      root._bokeh_failed_load = true;\n",
       "    } else if (force !== true) {\n",
       "      var cell = $(document.getElementById(\"2159\")).parents('.cell').data().cell;\n",
       "      cell.output_area.append_execute_result(NB_LOAD_WARNING)\n",
       "    }\n",
       "\n",
       "  }\n",
       "\n",
       "  if (root._bokeh_is_loading === 0) {\n",
       "    console.debug(\"Bokeh: BokehJS loaded, going straight to plotting\");\n",
       "    run_inline_js();\n",
       "  } else {\n",
       "    load_libs(css_urls, js_urls, function() {\n",
       "      console.debug(\"Bokeh: BokehJS plotting callback run at\", now());\n",
       "      run_inline_js();\n",
       "    });\n",
       "  }\n",
       "}(window));"
      ],
      "application/vnd.bokehjs_load.v0+json": "\n(function(root) {\n  function now() {\n    return new Date();\n  }\n\n  var force = true;\n\n  if (typeof root._bokeh_onload_callbacks === \"undefined\" || force === true) {\n    root._bokeh_onload_callbacks = [];\n    root._bokeh_is_loading = undefined;\n  }\n\n  \n\n  \n  if (typeof (root._bokeh_timeout) === \"undefined\" || force === true) {\n    root._bokeh_timeout = Date.now() + 5000;\n    root._bokeh_failed_load = false;\n  }\n\n  var NB_LOAD_WARNING = {'data': {'text/html':\n     \"<div style='background-color: #fdd'>\\n\"+\n     \"<p>\\n\"+\n     \"BokehJS does not appear to have successfully loaded. If loading BokehJS from CDN, this \\n\"+\n     \"may be due to a slow or bad network connection. Possible fixes:\\n\"+\n     \"</p>\\n\"+\n     \"<ul>\\n\"+\n     \"<li>re-rerun `output_notebook()` to attempt to load from CDN again, or</li>\\n\"+\n     \"<li>use INLINE resources instead, as so:</li>\\n\"+\n     \"</ul>\\n\"+\n     \"<code>\\n\"+\n     \"from bokeh.resources import INLINE\\n\"+\n     \"output_notebook(resources=INLINE)\\n\"+\n     \"</code>\\n\"+\n     \"</div>\"}};\n\n  function display_loaded() {\n    var el = document.getElementById(\"2159\");\n    if (el != null) {\n      el.textContent = \"BokehJS is loading...\";\n    }\n    if (root.Bokeh !== undefined) {\n      if (el != null) {\n        el.textContent = \"BokehJS \" + root.Bokeh.version + \" successfully loaded.\";\n      }\n    } else if (Date.now() < root._bokeh_timeout) {\n      setTimeout(display_loaded, 100)\n    }\n  }\n\n\n  function run_callbacks() {\n    try {\n      root._bokeh_onload_callbacks.forEach(function(callback) {\n        if (callback != null)\n          callback();\n      });\n    } finally {\n      delete root._bokeh_onload_callbacks\n    }\n    console.debug(\"Bokeh: all callbacks have finished\");\n  }\n\n  function load_libs(css_urls, js_urls, callback) {\n    if (css_urls == null) css_urls = [];\n    if (js_urls == null) js_urls = [];\n\n    root._bokeh_onload_callbacks.push(callback);\n    if (root._bokeh_is_loading > 0) {\n      console.debug(\"Bokeh: BokehJS is being loaded, scheduling callback at\", now());\n      return null;\n    }\n    if (js_urls == null || js_urls.length === 0) {\n      run_callbacks();\n      return null;\n    }\n    console.debug(\"Bokeh: BokehJS not loaded, scheduling load and callback at\", now());\n    root._bokeh_is_loading = css_urls.length + js_urls.length;\n\n    function on_load() {\n      root._bokeh_is_loading--;\n      if (root._bokeh_is_loading === 0) {\n        console.debug(\"Bokeh: all BokehJS libraries/stylesheets loaded\");\n        run_callbacks()\n      }\n    }\n\n    function on_error(url) {\n      console.error(\"failed to load \" + url);\n    }\n\n    for (let i = 0; i < css_urls.length; i++) {\n      const url = css_urls[i];\n      const element = document.createElement(\"link\");\n      element.onload = on_load;\n      element.onerror = on_error.bind(null, url);\n      element.rel = \"stylesheet\";\n      element.type = \"text/css\";\n      element.href = url;\n      console.debug(\"Bokeh: injecting link tag for BokehJS stylesheet: \", url);\n      document.body.appendChild(element);\n    }\n\n    const hashes = {\"https://cdn.bokeh.org/bokeh/release/bokeh-2.3.3.min.js\": \"dM3QQsP+wXdHg42wTqW85BjZQdLNNIXqlPw/BgKoExPmTG7ZLML4EGqLMfqHT6ON\", \"https://cdn.bokeh.org/bokeh/release/bokeh-tables-2.3.3.min.js\": \"8x57I4YuIfu8XyZfFo0XVr2WAT8EK4rh/uDe3wF7YuW2FNUSNEpJbsPaB1nJ2fz2\", \"https://cdn.bokeh.org/bokeh/release/bokeh-widgets-2.3.3.min.js\": \"3QTqdz9LyAm2i0sG5XTePsHec3UHWwVsrOL68SYRoAXsafvfAyqtQ+h440+qIBhS\"};\n\n    for (let i = 0; i < js_urls.length; i++) {\n      const url = js_urls[i];\n      const element = document.createElement('script');\n      element.onload = on_load;\n      element.onerror = on_error.bind(null, url);\n      element.async = false;\n      element.src = url;\n      if (url in hashes) {\n        element.crossOrigin = \"anonymous\";\n        element.integrity = \"sha384-\" + hashes[url];\n      }\n      console.debug(\"Bokeh: injecting script tag for BokehJS library: \", url);\n      document.head.appendChild(element);\n    }\n  };\n\n  function inject_raw_css(css) {\n    const element = document.createElement(\"style\");\n    element.appendChild(document.createTextNode(css));\n    document.body.appendChild(element);\n  }\n\n  \n  var js_urls = [\"https://cdn.bokeh.org/bokeh/release/bokeh-2.3.3.min.js\", \"https://cdn.bokeh.org/bokeh/release/bokeh-widgets-2.3.3.min.js\", \"https://cdn.bokeh.org/bokeh/release/bokeh-tables-2.3.3.min.js\"];\n  var css_urls = [];\n  \n\n  var inline_js = [\n    function(Bokeh) {\n      Bokeh.set_log_level(\"info\");\n    },\n    function(Bokeh) {\n    \n    \n    }\n  ];\n\n  function run_inline_js() {\n    \n    if (root.Bokeh !== undefined || force === true) {\n      \n    for (var i = 0; i < inline_js.length; i++) {\n      inline_js[i].call(root, root.Bokeh);\n    }\n    if (force === true) {\n        display_loaded();\n      }} else if (Date.now() < root._bokeh_timeout) {\n      setTimeout(run_inline_js, 100);\n    } else if (!root._bokeh_failed_load) {\n      console.log(\"Bokeh: BokehJS failed to load within specified timeout.\");\n      root._bokeh_failed_load = true;\n    } else if (force !== true) {\n      var cell = $(document.getElementById(\"2159\")).parents('.cell').data().cell;\n      cell.output_area.append_execute_result(NB_LOAD_WARNING)\n    }\n\n  }\n\n  if (root._bokeh_is_loading === 0) {\n    console.debug(\"Bokeh: BokehJS loaded, going straight to plotting\");\n    run_inline_js();\n  } else {\n    load_libs(css_urls, js_urls, function() {\n      console.debug(\"Bokeh: BokehJS plotting callback run at\", now());\n      run_inline_js();\n    });\n  }\n}(window));"
     },
     "metadata": {},
     "output_type": "display_data"
    }
   ],
   "source": [
    "import bokeh.models as bm, bokeh.plotting as pl\n",
    "from bokeh.io import output_notebook\n",
    "output_notebook()\n",
    "\n",
    "def draw_vectors(x, y, radius=10, alpha=0.25, color='blue',\n",
    "                 width=600, height=400, show=True, **kwargs):\n",
    "    \"\"\" draws an interactive plot for data points with auxilirary info on hover \"\"\"\n",
    "    data_source = bm.ColumnDataSource({ 'x' : x, 'y' : y, 'color': color, **kwargs })\n",
    "\n",
    "    fig = pl.figure(active_scroll='wheel_zoom', width=width, height=height)\n",
    "    fig.scatter('x', 'y', size=radius, color='color', alpha=alpha, source=data_source)\n",
    "\n",
    "    fig.add_tools(bm.HoverTool(tooltips=[(key, \"@\" + key) for key in kwargs.keys()]))\n",
    "    if show: pl.show(fig)\n",
    "    return fig"
   ]
  },
  {
   "cell_type": "code",
   "execution_count": 405,
   "metadata": {},
   "outputs": [
    {
     "data": {
      "text/html": [
       "\n",
       "\n",
       "\n",
       "\n",
       "\n",
       "\n",
       "  <div class=\"bk-root\" id=\"99bfb2d3-a143-44f0-b6b6-61811e9c98bf\" data-root-id=\"2161\"></div>\n"
      ]
     },
     "metadata": {},
     "output_type": "display_data"
    },
    {
     "data": {
      "application/javascript": [
       "(function(root) {\n",
       "  function embed_document(root) {\n",
       "    \n",
       "  var docs_json = {\"4607c112-a6e0-466b-8fc1-92b21560a7a6\":{\"defs\":[],\"roots\":{\"references\":[{\"attributes\":{\"below\":[{\"id\":\"2170\"}],\"center\":[{\"id\":\"2173\"},{\"id\":\"2177\"}],\"height\":400,\"left\":[{\"id\":\"2174\"}],\"renderers\":[{\"id\":\"2195\"}],\"title\":{\"id\":\"2287\"},\"toolbar\":{\"id\":\"2185\"},\"x_range\":{\"id\":\"2162\"},\"x_scale\":{\"id\":\"2166\"},\"y_range\":{\"id\":\"2164\"},\"y_scale\":{\"id\":\"2168\"}},\"id\":\"2161\",\"subtype\":\"Figure\",\"type\":\"Plot\"},{\"attributes\":{\"axis\":{\"id\":\"2170\"},\"ticker\":null},\"id\":\"2173\",\"type\":\"Grid\"},{\"attributes\":{},\"id\":\"2164\",\"type\":\"DataRange1d\"},{\"attributes\":{},\"id\":\"2179\",\"type\":\"WheelZoomTool\"},{\"attributes\":{\"formatter\":{\"id\":\"2290\"},\"major_label_policy\":{\"id\":\"2289\"},\"ticker\":{\"id\":\"2171\"}},\"id\":\"2170\",\"type\":\"LinearAxis\"},{\"attributes\":{},\"id\":\"2181\",\"type\":\"SaveTool\"},{\"attributes\":{\"formatter\":{\"id\":\"2293\"},\"major_label_policy\":{\"id\":\"2292\"},\"ticker\":{\"id\":\"2175\"}},\"id\":\"2174\",\"type\":\"LinearAxis\"},{\"attributes\":{\"source\":{\"id\":\"2160\"}},\"id\":\"2196\",\"type\":\"CDSView\"},{\"attributes\":{\"fill_alpha\":{\"value\":0.25},\"fill_color\":{\"field\":\"color\"},\"line_alpha\":{\"value\":0.25},\"line_color\":{\"field\":\"color\"},\"size\":{\"value\":10},\"x\":{\"field\":\"x\"},\"y\":{\"field\":\"y\"}},\"id\":\"2193\",\"type\":\"Scatter\"},{\"attributes\":{},\"id\":\"2178\",\"type\":\"PanTool\"},{\"attributes\":{},\"id\":\"2168\",\"type\":\"LinearScale\"},{\"attributes\":{\"bottom_units\":\"screen\",\"fill_alpha\":0.5,\"fill_color\":\"lightgrey\",\"left_units\":\"screen\",\"level\":\"overlay\",\"line_alpha\":1.0,\"line_color\":\"black\",\"line_dash\":[4,4],\"line_width\":2,\"right_units\":\"screen\",\"syncable\":false,\"top_units\":\"screen\"},\"id\":\"2184\",\"type\":\"BoxAnnotation\"},{\"attributes\":{},\"id\":\"2293\",\"type\":\"BasicTickFormatter\"},{\"attributes\":{},\"id\":\"2175\",\"type\":\"BasicTicker\"},{\"attributes\":{},\"id\":\"2292\",\"type\":\"AllLabels\"},{\"attributes\":{},\"id\":\"2171\",\"type\":\"BasicTicker\"},{\"attributes\":{\"data_source\":{\"id\":\"2160\"},\"glyph\":{\"id\":\"2193\"},\"hover_glyph\":null,\"muted_glyph\":null,\"nonselection_glyph\":{\"id\":\"2194\"},\"view\":{\"id\":\"2196\"}},\"id\":\"2195\",\"type\":\"GlyphRenderer\"},{\"attributes\":{},\"id\":\"2287\",\"type\":\"Title\"},{\"attributes\":{\"fill_alpha\":{\"value\":0.1},\"fill_color\":{\"field\":\"color\"},\"line_alpha\":{\"value\":0.1},\"line_color\":{\"field\":\"color\"},\"size\":{\"value\":10},\"x\":{\"field\":\"x\"},\"y\":{\"field\":\"y\"}},\"id\":\"2194\",\"type\":\"Scatter\"},{\"attributes\":{},\"id\":\"2166\",\"type\":\"LinearScale\"},{\"attributes\":{\"active_multi\":null,\"active_scroll\":{\"id\":\"2179\"},\"tools\":[{\"id\":\"2178\"},{\"id\":\"2179\"},{\"id\":\"2180\"},{\"id\":\"2181\"},{\"id\":\"2182\"},{\"id\":\"2183\"},{\"id\":\"2197\"}]},\"id\":\"2185\",\"type\":\"Toolbar\"},{\"attributes\":{\"callback\":null,\"tooltips\":[]},\"id\":\"2197\",\"type\":\"HoverTool\"},{\"attributes\":{\"overlay\":{\"id\":\"2184\"}},\"id\":\"2180\",\"type\":\"BoxZoomTool\"},{\"attributes\":{\"data\":{\"color\":[\"blue\",\"blue\",\"blue\",\"blue\",\"red\",\"blue\",\"blue\",\"red\",\"blue\",\"red\",\"blue\",\"blue\",\"red\",\"blue\",\"blue\",\"blue\",\"red\",\"red\",\"red\",\"blue\",\"blue\",\"blue\",\"red\",\"blue\",\"blue\",\"blue\",\"blue\",\"red\",\"blue\",\"red\",\"blue\",\"blue\",\"red\",\"blue\",\"red\",\"blue\",\"red\",\"blue\",\"red\",\"blue\",\"red\",\"blue\",\"red\",\"red\",\"blue\",\"blue\",\"red\",\"blue\",\"blue\",\"red\",\"red\",\"red\",\"blue\",\"blue\",\"blue\",\"red\",\"red\",\"red\",\"red\",\"blue\",\"blue\",\"red\",\"red\",\"red\",\"blue\",\"blue\",\"red\",\"red\",\"blue\",\"red\",\"blue\",\"red\",\"blue\",\"red\",\"blue\",\"blue\",\"blue\",\"red\",\"blue\",\"blue\",\"blue\",\"blue\",\"blue\",\"red\",\"blue\",\"red\",\"blue\",\"red\",\"blue\",\"blue\",\"red\",\"red\",\"blue\",\"blue\",\"red\",\"blue\",\"red\",\"red\",\"red\",\"blue\",\"blue\",\"red\",\"blue\",\"blue\",\"blue\",\"blue\",\"red\",\"red\",\"blue\",\"blue\",\"red\",\"red\",\"blue\",\"blue\",\"blue\",\"blue\",\"blue\",\"blue\",\"red\",\"blue\",\"red\",\"blue\",\"blue\",\"red\",\"blue\",\"red\",\"red\",\"red\",\"red\",\"red\",\"blue\",\"red\",\"blue\",\"red\",\"red\",\"blue\",\"blue\",\"blue\",\"red\",\"blue\",\"blue\",\"blue\",\"red\",\"blue\",\"red\",\"blue\",\"blue\",\"red\",\"red\",\"blue\",\"blue\",\"red\",\"red\",\"blue\",\"red\",\"red\",\"blue\",\"red\",\"red\",\"red\",\"red\",\"red\",\"red\",\"red\",\"red\",\"red\",\"blue\",\"blue\",\"red\",\"red\",\"red\",\"red\",\"blue\",\"red\",\"blue\",\"red\",\"red\",\"red\",\"blue\",\"blue\",\"red\",\"blue\",\"blue\",\"blue\",\"red\",\"red\",\"blue\",\"blue\",\"blue\",\"red\",\"blue\",\"red\",\"blue\",\"blue\",\"red\",\"red\",\"red\",\"red\",\"red\",\"blue\",\"blue\",\"red\",\"red\",\"blue\",\"blue\",\"red\",\"blue\",\"blue\",\"blue\",\"blue\",\"blue\",\"blue\",\"red\",\"red\",\"blue\",\"blue\",\"blue\",\"red\",\"red\",\"blue\",\"red\",\"red\",\"blue\",\"red\",\"blue\",\"blue\",\"red\",\"red\",\"blue\",\"blue\",\"blue\",\"blue\",\"blue\",\"red\",\"red\",\"blue\",\"blue\",\"blue\",\"blue\",\"red\",\"blue\",\"red\",\"red\",\"blue\",\"red\",\"blue\",\"blue\",\"red\",\"red\",\"blue\",\"blue\",\"blue\",\"red\",\"blue\",\"blue\",\"red\",\"blue\",\"red\",\"blue\",\"red\",\"red\",\"blue\",\"red\",\"red\",\"red\",\"red\",\"red\",\"blue\",\"blue\",\"blue\",\"red\",\"blue\",\"red\",\"blue\",\"blue\",\"blue\",\"red\",\"red\",\"blue\",\"red\",\"red\",\"blue\",\"red\",\"blue\",\"red\",\"blue\",\"blue\",\"red\",\"blue\",\"red\",\"blue\",\"red\",\"red\",\"blue\",\"red\",\"red\",\"red\",\"blue\",\"blue\",\"red\",\"red\",\"red\",\"red\",\"red\",\"red\",\"blue\",\"blue\",\"blue\",\"blue\",\"blue\",\"red\",\"red\",\"blue\",\"blue\",\"blue\",\"red\",\"blue\",\"red\",\"blue\",\"red\",\"blue\",\"red\",\"red\",\"red\",\"blue\",\"blue\",\"blue\",\"blue\",\"red\",\"red\",\"blue\",\"red\",\"red\",\"red\",\"blue\",\"red\",\"red\",\"red\",\"red\",\"blue\",\"blue\",\"red\",\"blue\",\"blue\",\"blue\",\"blue\",\"blue\",\"red\",\"red\",\"blue\",\"red\",\"red\",\"blue\",\"red\",\"blue\",\"red\",\"blue\",\"red\",\"red\",\"blue\",\"red\",\"red\",\"red\",\"red\",\"red\",\"red\",\"blue\",\"red\",\"red\",\"blue\",\"red\",\"red\",\"red\",\"red\",\"red\",\"blue\",\"blue\",\"red\",\"red\",\"red\",\"blue\",\"blue\",\"red\",\"red\",\"red\",\"blue\",\"blue\",\"red\",\"red\",\"red\",\"blue\",\"red\",\"blue\",\"blue\",\"blue\",\"red\",\"red\",\"red\",\"red\",\"blue\",\"blue\",\"red\",\"red\",\"blue\",\"blue\",\"red\",\"red\",\"red\",\"red\",\"red\",\"red\",\"red\",\"blue\",\"red\",\"red\",\"blue\",\"blue\",\"red\",\"blue\",\"red\",\"red\",\"red\",\"red\",\"blue\",\"blue\",\"red\",\"red\",\"red\",\"blue\",\"red\",\"red\",\"red\",\"blue\",\"red\",\"blue\",\"red\",\"red\",\"red\",\"blue\",\"red\",\"red\",\"red\",\"blue\",\"blue\",\"blue\",\"blue\",\"red\",\"blue\",\"blue\",\"blue\",\"red\",\"red\",\"red\",\"blue\",\"blue\",\"blue\",\"blue\",\"red\",\"blue\",\"blue\",\"blue\",\"red\",\"blue\",\"blue\",\"red\",\"red\",\"red\",\"blue\",\"red\",\"red\",\"red\",\"blue\",\"blue\",\"red\",\"blue\",\"blue\",\"red\",\"red\",\"blue\",\"blue\",\"red\",\"blue\",\"blue\",\"red\",\"red\",\"red\",\"red\",\"red\",\"red\",\"blue\",\"blue\",\"blue\",\"blue\",\"blue\",\"red\",\"red\",\"blue\",\"blue\",\"blue\",\"blue\",\"blue\",\"blue\",\"red\",\"red\",\"blue\",\"red\",\"red\",\"blue\",\"blue\",\"red\",\"red\",\"blue\",\"blue\",\"blue\",\"red\",\"blue\",\"red\",\"blue\",\"red\",\"red\",\"blue\",\"red\",\"blue\",\"blue\",\"blue\",\"blue\",\"red\",\"red\",\"red\",\"blue\",\"red\",\"red\",\"red\",\"blue\",\"red\",\"blue\",\"red\",\"blue\",\"blue\",\"blue\",\"red\",\"red\",\"blue\",\"red\",\"red\",\"red\",\"blue\",\"blue\",\"blue\",\"red\",\"blue\",\"blue\",\"blue\",\"blue\",\"red\",\"blue\",\"red\",\"blue\",\"blue\",\"red\",\"red\",\"blue\",\"blue\",\"blue\",\"red\",\"red\",\"blue\",\"blue\",\"red\",\"red\",\"red\",\"red\",\"blue\",\"blue\",\"blue\",\"red\",\"blue\",\"blue\",\"blue\",\"blue\",\"red\",\"red\",\"blue\",\"blue\",\"blue\",\"blue\",\"blue\",\"blue\",\"blue\",\"red\",\"red\",\"red\",\"red\",\"red\",\"blue\",\"blue\",\"red\",\"blue\",\"blue\",\"blue\",\"blue\",\"blue\",\"blue\",\"blue\",\"blue\",\"red\",\"red\",\"red\",\"blue\",\"red\",\"blue\",\"blue\",\"blue\",\"blue\",\"red\",\"red\",\"blue\",\"blue\",\"red\",\"blue\",\"blue\",\"red\",\"blue\",\"red\",\"blue\",\"blue\",\"red\",\"red\",\"blue\",\"blue\",\"blue\",\"blue\",\"red\",\"blue\",\"red\",\"blue\",\"red\",\"red\",\"red\",\"red\",\"blue\",\"red\",\"blue\",\"blue\",\"red\",\"red\",\"blue\",\"blue\",\"red\",\"blue\",\"blue\",\"red\",\"blue\",\"blue\",\"blue\",\"blue\",\"red\",\"blue\",\"blue\",\"red\",\"red\",\"red\",\"blue\",\"blue\",\"red\",\"blue\",\"red\",\"red\",\"red\",\"blue\",\"red\",\"red\",\"blue\",\"blue\",\"blue\",\"blue\",\"blue\",\"red\",\"blue\",\"red\",\"blue\",\"blue\",\"blue\",\"blue\",\"red\",\"blue\",\"red\",\"blue\",\"red\",\"red\",\"blue\",\"blue\",\"red\",\"blue\",\"blue\",\"red\",\"blue\",\"blue\",\"red\",\"red\",\"red\",\"blue\",\"red\",\"red\",\"blue\",\"blue\",\"red\",\"blue\",\"blue\",\"red\",\"red\",\"red\",\"red\",\"blue\",\"red\",\"red\",\"blue\",\"red\",\"blue\",\"blue\",\"red\",\"blue\",\"blue\",\"red\",\"red\",\"blue\",\"red\",\"blue\",\"red\",\"red\",\"red\",\"red\",\"blue\",\"red\",\"blue\",\"red\",\"blue\",\"red\",\"blue\",\"red\",\"red\",\"blue\",\"red\",\"blue\",\"red\",\"blue\",\"red\",\"red\",\"blue\",\"red\",\"red\",\"red\",\"red\",\"blue\",\"red\",\"red\",\"red\",\"blue\",\"blue\",\"red\",\"blue\",\"blue\",\"blue\",\"red\",\"red\",\"blue\",\"blue\",\"blue\",\"red\",\"red\",\"blue\",\"red\",\"red\",\"blue\",\"red\",\"blue\",\"blue\",\"red\",\"red\",\"red\",\"blue\",\"red\",\"blue\",\"red\",\"red\",\"red\",\"red\",\"blue\",\"red\",\"red\",\"blue\",\"blue\",\"red\",\"red\",\"red\",\"red\",\"red\",\"red\",\"blue\",\"blue\",\"blue\",\"blue\",\"red\",\"red\",\"red\",\"red\",\"red\",\"blue\",\"red\",\"red\",\"blue\",\"red\",\"red\",\"blue\",\"blue\",\"blue\",\"blue\",\"blue\",\"blue\",\"red\",\"blue\",\"blue\",\"red\",\"red\",\"blue\",\"red\",\"blue\",\"blue\",\"red\",\"red\",\"red\",\"blue\",\"blue\",\"blue\",\"blue\",\"blue\",\"red\",\"red\",\"red\",\"blue\",\"red\",\"red\",\"red\",\"red\",\"blue\",\"red\",\"blue\",\"blue\",\"red\",\"red\",\"blue\",\"red\",\"blue\",\"red\",\"red\",\"red\",\"blue\",\"blue\",\"blue\",\"blue\",\"red\",\"blue\",\"red\",\"blue\",\"red\",\"blue\",\"blue\",\"red\",\"red\",\"red\",\"red\",\"blue\",\"red\",\"blue\",\"red\",\"red\",\"blue\",\"red\",\"blue\",\"blue\",\"red\",\"blue\",\"blue\",\"blue\",\"red\",\"red\",\"blue\",\"blue\",\"red\",\"blue\",\"red\",\"red\",\"blue\",\"red\",\"red\",\"blue\",\"red\",\"blue\",\"blue\",\"blue\",\"red\",\"blue\",\"blue\",\"blue\",\"blue\",\"blue\",\"red\",\"red\",\"blue\",\"blue\",\"blue\",\"blue\",\"red\",\"blue\",\"blue\",\"red\",\"blue\",\"red\",\"red\",\"blue\",\"blue\",\"blue\",\"red\",\"red\",\"blue\",\"red\",\"blue\",\"red\",\"blue\",\"red\",\"red\",\"red\",\"red\",\"red\",\"blue\",\"blue\",\"red\",\"red\",\"red\",\"red\",\"red\",\"red\",\"blue\",\"red\",\"red\",\"blue\",\"blue\",\"red\",\"red\",\"blue\",\"blue\",\"blue\",\"blue\",\"red\",\"blue\",\"blue\",\"red\",\"blue\",\"red\",\"blue\",\"red\",\"red\",\"red\",\"blue\",\"red\",\"red\",\"red\",\"red\",\"blue\",\"red\",\"red\",\"blue\",\"blue\",\"red\",\"blue\",\"red\",\"red\",\"blue\",\"red\",\"red\",\"blue\",\"red\",\"red\",\"blue\",\"red\",\"blue\",\"red\",\"blue\",\"red\",\"blue\",\"red\",\"blue\",\"blue\",\"red\",\"red\",\"blue\",\"red\",\"blue\",\"red\",\"red\",\"red\",\"blue\",\"red\",\"blue\",\"red\",\"blue\",\"blue\",\"red\",\"red\",\"red\",\"red\",\"red\",\"red\",\"red\",\"red\",\"red\",\"blue\",\"blue\",\"blue\",\"red\",\"blue\",\"blue\",\"red\",\"red\",\"blue\",\"red\",\"red\",\"blue\",\"red\",\"blue\",\"blue\",\"red\",\"red\",\"blue\",\"red\",\"red\",\"red\",\"red\",\"blue\",\"red\",\"red\",\"red\",\"blue\",\"blue\",\"blue\",\"red\",\"blue\",\"blue\",\"blue\",\"red\",\"red\",\"red\",\"red\",\"blue\",\"red\",\"red\",\"blue\",\"red\",\"blue\",\"red\",\"blue\",\"blue\",\"red\",\"blue\",\"blue\",\"red\",\"blue\",\"red\",\"red\",\"blue\",\"red\",\"blue\",\"red\",\"red\",\"red\",\"blue\",\"red\",\"blue\",\"red\",\"blue\",\"red\",\"blue\",\"blue\",\"blue\",\"red\",\"blue\",\"red\",\"blue\",\"blue\",\"blue\",\"blue\",\"red\",\"blue\",\"blue\",\"blue\",\"blue\",\"red\",\"red\",\"red\",\"blue\",\"red\",\"red\",\"red\",\"red\",\"red\",\"blue\",\"red\",\"blue\",\"red\",\"red\",\"blue\",\"blue\",\"red\",\"red\",\"blue\",\"red\",\"blue\",\"red\",\"blue\",\"blue\",\"blue\",\"blue\",\"red\",\"blue\",\"blue\",\"blue\",\"red\",\"blue\",\"blue\",\"red\",\"red\",\"red\",\"red\",\"red\",\"blue\",\"red\",\"red\",\"blue\",\"blue\",\"blue\",\"red\",\"red\",\"blue\",\"red\",\"blue\",\"red\",\"red\",\"blue\",\"blue\",\"red\",\"blue\",\"blue\",\"blue\",\"red\",\"red\",\"blue\",\"blue\",\"blue\",\"blue\",\"blue\",\"blue\",\"red\",\"blue\",\"blue\",\"blue\",\"blue\",\"red\",\"red\",\"blue\",\"red\",\"red\",\"blue\",\"blue\",\"red\",\"blue\",\"blue\",\"red\",\"blue\",\"red\",\"blue\",\"red\",\"red\",\"blue\",\"blue\",\"blue\",\"red\",\"red\",\"blue\",\"red\",\"red\",\"red\",\"red\",\"blue\",\"red\",\"red\",\"red\",\"red\",\"red\",\"blue\",\"red\",\"red\",\"red\",\"red\",\"red\",\"blue\",\"blue\",\"red\",\"blue\",\"blue\",\"blue\",\"blue\",\"blue\",\"red\",\"red\",\"blue\",\"blue\",\"red\",\"blue\",\"blue\",\"blue\",\"red\",\"blue\",\"red\",\"red\",\"blue\",\"blue\",\"blue\",\"blue\",\"blue\",\"red\",\"blue\",\"red\",\"red\",\"red\",\"red\",\"red\",\"red\",\"blue\",\"red\",\"blue\",\"red\",\"blue\",\"blue\",\"red\",\"red\",\"red\",\"red\",\"red\",\"blue\",\"red\",\"blue\",\"red\",\"red\",\"red\",\"blue\",\"blue\",\"blue\",\"blue\",\"red\",\"red\",\"blue\",\"red\",\"red\",\"red\",\"blue\",\"blue\",\"blue\",\"red\",\"blue\",\"blue\",\"red\",\"red\",\"red\",\"blue\",\"red\",\"blue\",\"blue\",\"blue\",\"blue\",\"blue\"],\"x\":{\"__ndarray__\":\"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\",\"dtype\":\"float32\",\"order\":\"little\",\"shape\":[1280]},\"y\":{\"__ndarray__\":\"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\",\"dtype\":\"float32\",\"order\":\"little\",\"shape\":[1280]}},\"selected\":{\"id\":\"2296\"},\"selection_policy\":{\"id\":\"2297\"}},\"id\":\"2160\",\"type\":\"ColumnDataSource\"},{\"attributes\":{},\"id\":\"2289\",\"type\":\"AllLabels\"},{\"attributes\":{\"axis\":{\"id\":\"2174\"},\"dimension\":1,\"ticker\":null},\"id\":\"2177\",\"type\":\"Grid\"},{\"attributes\":{},\"id\":\"2290\",\"type\":\"BasicTickFormatter\"},{\"attributes\":{},\"id\":\"2182\",\"type\":\"ResetTool\"},{\"attributes\":{},\"id\":\"2296\",\"type\":\"Selection\"},{\"attributes\":{},\"id\":\"2183\",\"type\":\"HelpTool\"},{\"attributes\":{},\"id\":\"2162\",\"type\":\"DataRange1d\"},{\"attributes\":{},\"id\":\"2297\",\"type\":\"UnionRenderers\"}],\"root_ids\":[\"2161\"]},\"title\":\"Bokeh Application\",\"version\":\"2.3.3\"}};\n",
       "  var render_items = [{\"docid\":\"4607c112-a6e0-466b-8fc1-92b21560a7a6\",\"root_ids\":[\"2161\"],\"roots\":{\"2161\":\"99bfb2d3-a143-44f0-b6b6-61811e9c98bf\"}}];\n",
       "  root.Bokeh.embed.embed_items_notebook(docs_json, render_items);\n",
       "\n",
       "  }\n",
       "  if (root.Bokeh !== undefined) {\n",
       "    embed_document(root);\n",
       "  } else {\n",
       "    var attempts = 0;\n",
       "    var timer = setInterval(function(root) {\n",
       "      if (root.Bokeh !== undefined) {\n",
       "        clearInterval(timer);\n",
       "        embed_document(root);\n",
       "      } else {\n",
       "        attempts++;\n",
       "        if (attempts > 100) {\n",
       "          clearInterval(timer);\n",
       "          console.log(\"Bokeh: ERROR: Unable to run BokehJS code because BokehJS library is missing\");\n",
       "        }\n",
       "      }\n",
       "    }, 10, root)\n",
       "  }\n",
       "})(window);"
      ],
      "application/vnd.bokehjs_exec.v0+json": ""
     },
     "metadata": {
      "application/vnd.bokehjs_exec.v0+json": {
       "id": "2161"
      }
     },
     "output_type": "display_data"
    }
   ],
   "source": [
    "draw_vectors(\n",
    "    examples[\"transformed_features\"][:, 0], \n",
    "    examples[\"transformed_features\"][:, 1], \n",
    "    color=[[\"red\", \"blue\"][t] for t in examples[\"targets\"]]\n",
    "    );"
   ]
  },
  {
   "cell_type": "code",
   "execution_count": 406,
   "metadata": {},
   "outputs": [],
   "source": [
    "batch_size = 1024\n",
    "num_workers = 4\n",
    "\n",
    "def average_emb(batch):\n",
    "    features = [np.mean(b[\"feature\"], axis=0) for b in batch]\n",
    "    targets = [b[\"target\"] for b in batch]\n",
    "\n",
    "    return {\"features\": torch.FloatTensor(features), \"targets\": torch.LongTensor(targets)}\n",
    "\n",
    "\n",
    "train_size = math.ceil(len(dev) * 0.8)\n",
    "\n",
    "train, valid = random_split(dev, [train_size, len(dev) - train_size])\n",
    "\n",
    "train_loader = DataLoader(train, batch_size=batch_size, num_workers=num_workers, shuffle=True, drop_last=True, collate_fn=average_emb)\n",
    "valid_loader = DataLoader(valid, batch_size=batch_size, num_workers=num_workers, shuffle=False, drop_last=False, collate_fn=average_emb)"
   ]
  },
  {
   "cell_type": "code",
   "execution_count": 407,
   "metadata": {},
   "outputs": [],
   "source": [
    "vector_size = dev.word2vec.vector_size\n",
    "num_classes = 1\n",
    "lr = 1e-3\n",
    "num_epochs = 5\n",
    "\n",
    "model = nn.Sequential(\n",
    "    nn.Linear(vector_size, 128),\n",
    "    nn.ReLU(),\n",
    "    nn.Linear(128, 64),\n",
    "    nn.ReLU(),\n",
    "    nn.Linear(64, num_classes),\n",
    "    nn.Sigmoid())\n",
    "model = model.cuda()\n",
    "criterion = nn.BCELoss()# Твой лосс\n",
    "optimizer = Adam(model.parameters(), lr=lr)# Твой оптимайзер"
   ]
  },
  {
   "cell_type": "code",
   "execution_count": 412,
   "metadata": {},
   "outputs": [
    {
     "data": {
      "application/vnd.jupyter.widget-view+json": {
       "model_id": "b78d24a4e2984732a0d4377d5c8fb676",
       "version_major": 2,
       "version_minor": 0
      },
      "text/plain": [
       "HBox(children=(FloatProgress(value=0.0, description='Epoch 1. Train Loss: 0', max=1000.0, style=ProgressStyle(…"
      ]
     },
     "metadata": {},
     "output_type": "display_data"
    },
    {
     "name": "stdout",
     "output_type": "stream",
     "text": [
      "\n"
     ]
    },
    {
     "data": {
      "application/vnd.jupyter.widget-view+json": {
       "model_id": "04b7acd25e3b420cb7945dbd318106f7",
       "version_major": 2,
       "version_minor": 0
      },
      "text/plain": [
       "HBox(children=(FloatProgress(value=0.0, description='Test Loss: 0, Test Acc: 0', max=250.0, style=ProgressStyl…"
      ]
     },
     "metadata": {},
     "output_type": "display_data"
    },
    {
     "name": "stdout",
     "output_type": "stream",
     "text": [
      "\n",
      "{'Test Loss': 0.49988570749759675, 'Test Acc': 0.751984375}\n"
     ]
    },
    {
     "data": {
      "application/vnd.jupyter.widget-view+json": {
       "model_id": "7676f86a994b42a0ade4fa30dae2e924",
       "version_major": 2,
       "version_minor": 0
      },
      "text/plain": [
       "HBox(children=(FloatProgress(value=0.0, description='Epoch 2. Train Loss: 0', max=1000.0, style=ProgressStyle(…"
      ]
     },
     "metadata": {},
     "output_type": "display_data"
    },
    {
     "name": "stdout",
     "output_type": "stream",
     "text": [
      "\n"
     ]
    },
    {
     "data": {
      "application/vnd.jupyter.widget-view+json": {
       "model_id": "cef47c9b91b8424bb24250b7d55999d7",
       "version_major": 2,
       "version_minor": 0
      },
      "text/plain": [
       "HBox(children=(FloatProgress(value=0.0, description='Test Loss: 0, Test Acc: 0', max=250.0, style=ProgressStyl…"
      ]
     },
     "metadata": {},
     "output_type": "display_data"
    },
    {
     "name": "stdout",
     "output_type": "stream",
     "text": [
      "\n",
      "{'Test Loss': 0.4996106719970703, 'Test Acc': 0.752546875}\n"
     ]
    },
    {
     "data": {
      "application/vnd.jupyter.widget-view+json": {
       "model_id": "43f0e362e4f84ecca025505631c82291",
       "version_major": 2,
       "version_minor": 0
      },
      "text/plain": [
       "HBox(children=(FloatProgress(value=0.0, description='Epoch 3. Train Loss: 0', max=1000.0, style=ProgressStyle(…"
      ]
     },
     "metadata": {},
     "output_type": "display_data"
    },
    {
     "name": "stdout",
     "output_type": "stream",
     "text": [
      "\n"
     ]
    },
    {
     "data": {
      "application/vnd.jupyter.widget-view+json": {
       "model_id": "9a19596a2f1741a79c49df5141b3e4c2",
       "version_major": 2,
       "version_minor": 0
      },
      "text/plain": [
       "HBox(children=(FloatProgress(value=0.0, description='Test Loss: 0, Test Acc: 0', max=250.0, style=ProgressStyl…"
      ]
     },
     "metadata": {},
     "output_type": "display_data"
    },
    {
     "name": "stdout",
     "output_type": "stream",
     "text": [
      "\n",
      "{'Test Loss': 0.4982139586210251, 'Test Acc': 0.75325390625}\n"
     ]
    },
    {
     "data": {
      "application/vnd.jupyter.widget-view+json": {
       "model_id": "a1538a1d4ab14a5e86b69d42fc9598b8",
       "version_major": 2,
       "version_minor": 0
      },
      "text/plain": [
       "HBox(children=(FloatProgress(value=0.0, description='Epoch 4. Train Loss: 0', max=1000.0, style=ProgressStyle(…"
      ]
     },
     "metadata": {},
     "output_type": "display_data"
    },
    {
     "name": "stdout",
     "output_type": "stream",
     "text": [
      "\n"
     ]
    },
    {
     "data": {
      "application/vnd.jupyter.widget-view+json": {
       "model_id": "504d433355904f679ae4ffd564c5a837",
       "version_major": 2,
       "version_minor": 0
      },
      "text/plain": [
       "HBox(children=(FloatProgress(value=0.0, description='Test Loss: 0, Test Acc: 0', max=250.0, style=ProgressStyl…"
      ]
     },
     "metadata": {},
     "output_type": "display_data"
    },
    {
     "name": "stdout",
     "output_type": "stream",
     "text": [
      "\n",
      "{'Test Loss': 0.4979131450653076, 'Test Acc': 0.75329296875}\n"
     ]
    },
    {
     "data": {
      "application/vnd.jupyter.widget-view+json": {
       "model_id": "a2721e37dff14643b2aa72285c5664fa",
       "version_major": 2,
       "version_minor": 0
      },
      "text/plain": [
       "HBox(children=(FloatProgress(value=0.0, description='Epoch 5. Train Loss: 0', max=1000.0, style=ProgressStyle(…"
      ]
     },
     "metadata": {},
     "output_type": "display_data"
    },
    {
     "name": "stdout",
     "output_type": "stream",
     "text": [
      "\n"
     ]
    },
    {
     "data": {
      "application/vnd.jupyter.widget-view+json": {
       "model_id": "a29407ac7f634f32995767fcab47adf3",
       "version_major": 2,
       "version_minor": 0
      },
      "text/plain": [
       "HBox(children=(FloatProgress(value=0.0, description='Test Loss: 0, Test Acc: 0', max=250.0, style=ProgressStyl…"
      ]
     },
     "metadata": {},
     "output_type": "display_data"
    },
    {
     "name": "stdout",
     "output_type": "stream",
     "text": [
      "\n",
      "{'Test Loss': 0.49811078083515165, 'Test Acc': 0.7535625}\n"
     ]
    }
   ],
   "source": [
    "best_metric = np.inf\n",
    "for e in range(num_epochs):\n",
    "    training(model, optimizer, criterion, train_loader, e, device)\n",
    "    log = testing(model, criterion, valid_loader, device)\n",
    "    print(log)\n",
    "    if log[\"Test Loss\"] < best_metric:\n",
    "        torch.save(model.state_dict(), \"model.pt\")\n",
    "        best_metric = log[\"Test Loss\"]"
   ]
  },
  {
   "cell_type": "code",
   "execution_count": 413,
   "metadata": {},
   "outputs": [
    {
     "data": {
      "application/vnd.jupyter.widget-view+json": {
       "model_id": "e303dd718dcc4debb4ed55177b3e1c31",
       "version_major": 2,
       "version_minor": 0
      },
      "text/plain": [
       "HBox(children=(FloatProgress(value=0.0, description='Test Loss: 0, Test Acc: 0', max=313.0, style=ProgressStyl…"
      ]
     },
     "metadata": {},
     "output_type": "display_data"
    },
    {
     "name": "stdout",
     "output_type": "stream",
     "text": [
      "\n",
      "{'Test Loss': 0.5036755599343358, 'Test Acc': 0.7505148013178914}\n"
     ]
    }
   ],
   "source": [
    "test_loader = DataLoader(\n",
    "    TwitterDataset_2(test_data, \"text\", \"emotion\", word2vec, tf_idf_emb), \n",
    "    batch_size=batch_size, \n",
    "    num_workers=num_workers, \n",
    "    shuffle=False,\n",
    "    drop_last=False, \n",
    "    collate_fn=average_emb)\n",
    "\n",
    "model.load_state_dict(torch.load(\"model.pt\", map_location=device))\n",
    "\n",
    "print(testing(model, criterion, test_loader, device=device))"
   ]
  },
  {
   "cell_type": "markdown",
   "metadata": {},
   "source": [
    "# Выводы\n",
    "## Что я делал\n",
    "### 1. Word2vec\n",
    "Тут все понятно, делал так, как было написано авторами. Если посмотреть на графики семплов, то там довольно все перемешано и на глаз вообще с трудом можно что-то отделить. Но как бы и подход максимально простой. Тем ни менее, скор заметно выше, чем случайное угадывание. \n",
    "\n",
    "Так же пробовал играться с параметрами сети: число слоев, функции активации, различные оптимизаторы. Слишком сложная сетка с большим количеством слоев не дает никакого выигрыша. Разве что значительное увеличения времени обучения. Лучше всего Adam и ReLU. По классике. \n",
    "\n",
    "*Замечаение.* В дальнейшем сетка будет таже самая на всех подходов, чтобы сравнение подходов к представлениям слов было корректным.\n",
    "\n",
    "Результаты на тестовых данных: 'Test Acc': `0.7472`\n",
    "\n",
    "### 2. Эмбеддинги соседей\n",
    "\n",
    "Тут я пробовал различные длины окон: 1, 2, 3, 5, 10. Почти никакой разницы между ними я заметить не смог. Если брать слишком большой или слишком маленький размер окна, то это ничего не дает. Поэтому я взял размер окна 3. Веса для соседних эмбеддингов слов я брал обратно пропорционально их порядковому номеру от центрального слова. Например, если окно длины 3, то третье слово справа (и слева) будет делиться на 3 (точнее его эмбеддинг). И т.д. \n",
    "\n",
    "*Замечаение.* \n",
    "\n",
    "Результаты на тестовых данных: 'Test Acc': `0.7512`\n",
    "\n",
    "### 3. Tf- Idf\n",
    "\n",
    "Тут я, как было сказано, воспользовался sklearn. Обучил TfidfVectorizer(min_df=3). Затем разложил его с помощью SVD разложения. Взял оттуда матрицу `vt`, которая для представляния слов в документе. Затем просто плюсовал два numpy массива (один word2vec, другой tf-idf) и получал таким образом вектор представления для одного слова. После чего, весь этот винегрет подавал сетке.\n",
    "\n",
    "Результаты на тестовых данных: 'Test Acc': `0.7505`\n",
    "\n",
    "## Подытожим\n",
    "\n",
    "Второй подход, с эмбеддингами соседей, дал больший скор, относительно остальных моделей. По-видимому, данный результат обусловлен тем, что здесь мы все-таки давали сетке большей данных, т.к. больше не зануляли пропуски. Это очевидный плюс, по сравнению с первой моделью. Почему вторая модель лучше третьей, точно сказать сложно. Скорее всего, во tf-idf подходе мы перешли в немного другое пространство, прибавив к word2vec еще tf-idf. Мне вообще кажется, что данных подход не должен особо чего дать. Потому что плюсуя к каждому вектору еще один, мы ничего принципиально нового сетке не даем. Но это все еще лучше, чем бейзлан, потому что мы учитываем пропуски.\n",
    "\n",
    "## Что можно сделать лучше\n",
    "1. Взять размеры эмбеддингов не 100, а 300. У меня гугл коллаб вылетал постоянно по памяти, если я пытался учиться на 300, поэтому я решил остановиться на 100. \n",
    "2. Попробовать не складывать word2vec и tf-idf, а подавать их в сетку по отдельности (например тапл). Таким образом, у сетки будет больше фичей и она сможет выучить новые зависимости. Но минусы такого подхода, что мы сильно раздуваем количество фичей и нужно больше памяти (привет, коллаб)."
   ]
  },
  {
   "cell_type": "code",
   "execution_count": null,
   "metadata": {},
   "outputs": [],
   "source": []
  }
 ],
 "metadata": {
  "accelerator": "GPU",
  "colab": {
   "collapsed_sections": [],
   "name": "[homework]embeddings.ipynb",
   "private_outputs": true,
   "provenance": []
  },
  "kernelspec": {
   "display_name": "Python 3",
   "language": "python",
   "name": "python3"
  },
  "language_info": {
   "codemirror_mode": {
    "name": "ipython",
    "version": 3
   },
   "file_extension": ".py",
   "mimetype": "text/x-python",
   "name": "python",
   "nbconvert_exporter": "python",
   "pygments_lexer": "ipython3",
   "version": "3.6.9"
  }
 },
 "nbformat": 4,
 "nbformat_minor": 1
}
